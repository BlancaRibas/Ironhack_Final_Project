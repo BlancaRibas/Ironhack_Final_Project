{
 "cells": [
  {
   "cell_type": "markdown",
   "id": "0a678506",
   "metadata": {},
   "source": [
    "## testing models"
   ]
  },
  {
   "cell_type": "code",
   "execution_count": 1,
   "id": "97bcb31e",
   "metadata": {},
   "outputs": [],
   "source": [
    "import pandas as pd"
   ]
  },
  {
   "cell_type": "code",
   "execution_count": 2,
   "id": "f098960c",
   "metadata": {},
   "outputs": [],
   "source": [
    "import warnings\n",
    "warnings.simplefilter('ignore')\n",
    "import numpy as np\n",
    "\n",
    "\n",
    "from sklearn.datasets import make_circles, load_boston\n",
    "from sklearn.model_selection import train_test_split as tts\n",
    "\n",
    "from sklearn.ensemble import RandomForestRegressor as RFR\n",
    "from sklearn.ensemble import RandomForestClassifier as RFC\n",
    "from sklearn.model_selection import GridSearchCV\n",
    "from sklearn.model_selection import RandomizedSearchCV\n",
    "\n",
    "\n",
    "def grid(modelo, param, cv=5):\n",
    "    grid=GridSearchCV(modelo, param, cv=cv, \n",
    "                      iid=True, return_train_score=True, n_jobs=-1)\n",
    "    \n",
    "    grid.fit(X_train, y_train)\n",
    "    \n",
    "    print('Acierto test: {:.2f}'.format(grid.score(X_test, y_test)))\n",
    "    print('Acierto train: {:.2f}'.format(grid.score(X_train, y_train)))\n",
    "    print('Mejores parametros: {}'.format(grid.best_params_))\n",
    "    print('Mejor acierto cv: {:.2f}'.format(grid.best_score_))\n",
    "    \n",
    "    return grid.best_estimator_.fit(X_train, y_train)"
   ]
  },
  {
   "cell_type": "code",
   "execution_count": 3,
   "id": "b19db20f",
   "metadata": {},
   "outputs": [],
   "source": [
    "datos = pd.read_csv('DF.csv')"
   ]
  },
  {
   "cell_type": "code",
   "execution_count": null,
   "id": "60d10d26",
   "metadata": {},
   "outputs": [],
   "source": [
    "#datos.head()"
   ]
  },
  {
   "cell_type": "code",
   "execution_count": 4,
   "id": "69cf979a",
   "metadata": {},
   "outputs": [],
   "source": [
    "X=datos.drop('m_label', axis=1)\n",
    "\n",
    "y=datos.m_label"
   ]
  },
  {
   "cell_type": "code",
   "execution_count": null,
   "id": "a12658b9",
   "metadata": {},
   "outputs": [],
   "source": [
    "#X.head()"
   ]
  },
  {
   "cell_type": "code",
   "execution_count": 5,
   "id": "0b68d988",
   "metadata": {},
   "outputs": [],
   "source": [
    "X_train, X_test, y_train, y_test = tts(X, y)"
   ]
  },
  {
   "cell_type": "code",
   "execution_count": null,
   "id": "30e169d8",
   "metadata": {},
   "outputs": [],
   "source": [
    "from sklearn.neighbors import KNeighborsClassifier as KNNC"
   ]
  },
  {
   "cell_type": "code",
   "execution_count": null,
   "id": "0e08bce6",
   "metadata": {},
   "outputs": [],
   "source": [
    "knnc=KNNC(n_neighbors=5, metric='euclidean')\n",
    "knnc.fit(X_train, y_train)\n",
    "\n",
    "train_score=knnc.score(X_train, y_train) #R2\n",
    "test_score=knnc.score(X_test, y_test)\n",
    "\n",
    "print ('train Acc:',train_score, '-- test Acc:', test_score)\n",
    "mse(y_test, y_pred)**0.5"
   ]
  },
  {
   "cell_type": "code",
   "execution_count": 6,
   "id": "c5113406",
   "metadata": {},
   "outputs": [],
   "source": [
    "from sklearn.ensemble import GradientBoostingClassifier as GBC"
   ]
  },
  {
   "cell_type": "code",
   "execution_count": null,
   "id": "a8d4cb41",
   "metadata": {},
   "outputs": [],
   "source": [
    "gbc=GBC()\n",
    "gbc.fit(X_train, y_train)\n",
    "\n",
    "train_score=gbc.score(X_train, y_train) #R2\n",
    "test_score=gbc.score(X_test, y_test)\n",
    "\n",
    "print ('train Acc:',train_score, '-- test Acc:', test_score)\n",
    "mse(y_test, y_pred)**0.5"
   ]
  },
  {
   "cell_type": "code",
   "execution_count": null,
   "id": "7a692b50",
   "metadata": {},
   "outputs": [],
   "source": [
    "from catboost import CatBoostRegressor as CTR\n",
    "\n",
    "ctr=CTR(verbose=0)\n",
    "ctr.fit(X_train_d, y_train_d)\n",
    "\n",
    "train_score=ctr.score(X_train_d, y_train_d) #R2\n",
    "test_score=ctr.score(X_test_d, y_test_d)\n",
    "\n",
    "print ('train R2:',train_score, '-- test R2:', test_score)\n",
    "mse(y_test, y_pred)**0.5"
   ]
  },
  {
   "cell_type": "code",
   "execution_count": null,
   "id": "9ea5f10a",
   "metadata": {},
   "outputs": [],
   "source": [
    "from catboost import CatBoostClassifier as CTC\n",
    "\n",
    "ctc=CTC(verbose=0)\n",
    "ctc.fit(X_train_v, y_train_v)\n",
    "\n",
    "train_score=ctc.score(X_train_v, y_train_v) \n",
    "test_score=ctc.score(X_test_v, y_test_v)\n",
    "\n",
    "print ('train Acc:',train_score, '-- test Acc:', test_score)\n",
    "mse(y_test, y_pred)**0.5"
   ]
  }
 ],
 "metadata": {
  "kernelspec": {
   "display_name": "clase",
   "language": "python",
   "name": "clase"
  },
  "language_info": {
   "codemirror_mode": {
    "name": "ipython",
    "version": 3
   },
   "file_extension": ".py",
   "mimetype": "text/x-python",
   "name": "python",
   "nbconvert_exporter": "python",
   "pygments_lexer": "ipython3",
   "version": "3.8.8"
  }
 },
 "nbformat": 4,
 "nbformat_minor": 5
}
