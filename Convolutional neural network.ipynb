{
 "cells": [
  {
   "cell_type": "markdown",
   "id": "c56a7af4",
   "metadata": {},
   "source": [
    "## Convolutional Neural Network"
   ]
  },
  {
   "cell_type": "markdown",
   "id": "b1c24d97",
   "metadata": {},
   "source": [
    "#### Import libraries"
   ]
  },
  {
   "cell_type": "code",
   "execution_count": 10,
   "id": "6ecaa8f3",
   "metadata": {},
   "outputs": [],
   "source": [
    "#pip install tensorflow"
   ]
  },
  {
   "cell_type": "code",
   "execution_count": 11,
   "id": "f3e78bf6",
   "metadata": {},
   "outputs": [],
   "source": [
    "#pip install keras"
   ]
  },
  {
   "cell_type": "code",
   "execution_count": 3,
   "id": "caa428d4",
   "metadata": {},
   "outputs": [],
   "source": [
    "import numpy as np\n",
    "import pandas as pd"
   ]
  },
  {
   "cell_type": "code",
   "execution_count": 12,
   "id": "fe378205",
   "metadata": {},
   "outputs": [],
   "source": [
    "#pip install keras.models"
   ]
  },
  {
   "cell_type": "code",
   "execution_count": 13,
   "id": "9eb1c27a",
   "metadata": {},
   "outputs": [],
   "source": [
    "from keras.utils import to_categorical"
   ]
  },
  {
   "cell_type": "code",
   "execution_count": 14,
   "id": "d7ab86de",
   "metadata": {},
   "outputs": [],
   "source": [
    "from keras.layers import Dropout\n",
    "from keras.layers import Conv2D, MaxPooling2D\n",
    "from keras.layers.normalization import BatchNormalization"
   ]
  },
  {
   "cell_type": "markdown",
   "id": "2a5abcd3",
   "metadata": {},
   "source": [
    "#### Import  data"
   ]
  },
  {
   "cell_type": "code",
   "execution_count": 15,
   "id": "28324f85",
   "metadata": {},
   "outputs": [
    {
     "data": {
      "text/html": [
       "<div>\n",
       "<style scoped>\n",
       "    .dataframe tbody tr th:only-of-type {\n",
       "        vertical-align: middle;\n",
       "    }\n",
       "\n",
       "    .dataframe tbody tr th {\n",
       "        vertical-align: top;\n",
       "    }\n",
       "\n",
       "    .dataframe thead th {\n",
       "        text-align: right;\n",
       "    }\n",
       "</style>\n",
       "<table border=\"1\" class=\"dataframe\">\n",
       "  <thead>\n",
       "    <tr style=\"text-align: right;\">\n",
       "      <th></th>\n",
       "      <th>Unnamed: 0</th>\n",
       "      <th>font</th>\n",
       "      <th>fontVariant</th>\n",
       "      <th>m_label</th>\n",
       "      <th>strength</th>\n",
       "      <th>italic</th>\n",
       "      <th>orientation</th>\n",
       "      <th>m_top</th>\n",
       "      <th>m_left</th>\n",
       "      <th>originalH</th>\n",
       "      <th>...</th>\n",
       "      <th>r19c10</th>\n",
       "      <th>r19c11</th>\n",
       "      <th>r19c12</th>\n",
       "      <th>r19c13</th>\n",
       "      <th>r19c14</th>\n",
       "      <th>r19c15</th>\n",
       "      <th>r19c16</th>\n",
       "      <th>r19c17</th>\n",
       "      <th>r19c18</th>\n",
       "      <th>r19c19</th>\n",
       "    </tr>\n",
       "  </thead>\n",
       "  <tbody>\n",
       "    <tr>\n",
       "      <th>0</th>\n",
       "      <td>226</td>\n",
       "      <td>AGENCY</td>\n",
       "      <td>AGENCY FB</td>\n",
       "      <td>57</td>\n",
       "      <td>0.4</td>\n",
       "      <td>0</td>\n",
       "      <td>0.0</td>\n",
       "      <td>35</td>\n",
       "      <td>24</td>\n",
       "      <td>51</td>\n",
       "      <td>...</td>\n",
       "      <td>255</td>\n",
       "      <td>255</td>\n",
       "      <td>255</td>\n",
       "      <td>255</td>\n",
       "      <td>255</td>\n",
       "      <td>255</td>\n",
       "      <td>255</td>\n",
       "      <td>255</td>\n",
       "      <td>165</td>\n",
       "      <td>60</td>\n",
       "    </tr>\n",
       "    <tr>\n",
       "      <th>1</th>\n",
       "      <td>227</td>\n",
       "      <td>AGENCY</td>\n",
       "      <td>AGENCY FB</td>\n",
       "      <td>56</td>\n",
       "      <td>0.4</td>\n",
       "      <td>0</td>\n",
       "      <td>0.0</td>\n",
       "      <td>35</td>\n",
       "      <td>24</td>\n",
       "      <td>51</td>\n",
       "      <td>...</td>\n",
       "      <td>255</td>\n",
       "      <td>255</td>\n",
       "      <td>255</td>\n",
       "      <td>255</td>\n",
       "      <td>255</td>\n",
       "      <td>255</td>\n",
       "      <td>255</td>\n",
       "      <td>255</td>\n",
       "      <td>165</td>\n",
       "      <td>60</td>\n",
       "    </tr>\n",
       "    <tr>\n",
       "      <th>2</th>\n",
       "      <td>228</td>\n",
       "      <td>AGENCY</td>\n",
       "      <td>AGENCY FB</td>\n",
       "      <td>55</td>\n",
       "      <td>0.4</td>\n",
       "      <td>0</td>\n",
       "      <td>0.0</td>\n",
       "      <td>35</td>\n",
       "      <td>22</td>\n",
       "      <td>51</td>\n",
       "      <td>...</td>\n",
       "      <td>27</td>\n",
       "      <td>1</td>\n",
       "      <td>1</td>\n",
       "      <td>1</td>\n",
       "      <td>1</td>\n",
       "      <td>1</td>\n",
       "      <td>1</td>\n",
       "      <td>1</td>\n",
       "      <td>1</td>\n",
       "      <td>1</td>\n",
       "    </tr>\n",
       "    <tr>\n",
       "      <th>3</th>\n",
       "      <td>229</td>\n",
       "      <td>AGENCY</td>\n",
       "      <td>AGENCY FB</td>\n",
       "      <td>54</td>\n",
       "      <td>0.4</td>\n",
       "      <td>0</td>\n",
       "      <td>0.0</td>\n",
       "      <td>35</td>\n",
       "      <td>24</td>\n",
       "      <td>51</td>\n",
       "      <td>...</td>\n",
       "      <td>255</td>\n",
       "      <td>255</td>\n",
       "      <td>255</td>\n",
       "      <td>255</td>\n",
       "      <td>255</td>\n",
       "      <td>255</td>\n",
       "      <td>255</td>\n",
       "      <td>255</td>\n",
       "      <td>165</td>\n",
       "      <td>60</td>\n",
       "    </tr>\n",
       "    <tr>\n",
       "      <th>4</th>\n",
       "      <td>230</td>\n",
       "      <td>AGENCY</td>\n",
       "      <td>AGENCY FB</td>\n",
       "      <td>53</td>\n",
       "      <td>0.4</td>\n",
       "      <td>0</td>\n",
       "      <td>0.0</td>\n",
       "      <td>35</td>\n",
       "      <td>24</td>\n",
       "      <td>51</td>\n",
       "      <td>...</td>\n",
       "      <td>255</td>\n",
       "      <td>255</td>\n",
       "      <td>255</td>\n",
       "      <td>255</td>\n",
       "      <td>255</td>\n",
       "      <td>255</td>\n",
       "      <td>255</td>\n",
       "      <td>255</td>\n",
       "      <td>165</td>\n",
       "      <td>60</td>\n",
       "    </tr>\n",
       "  </tbody>\n",
       "</table>\n",
       "<p>5 rows × 413 columns</p>\n",
       "</div>"
      ],
      "text/plain": [
       "   Unnamed: 0    font fontVariant  m_label  strength  italic  orientation  \\\n",
       "0         226  AGENCY   AGENCY FB       57       0.4       0          0.0   \n",
       "1         227  AGENCY   AGENCY FB       56       0.4       0          0.0   \n",
       "2         228  AGENCY   AGENCY FB       55       0.4       0          0.0   \n",
       "3         229  AGENCY   AGENCY FB       54       0.4       0          0.0   \n",
       "4         230  AGENCY   AGENCY FB       53       0.4       0          0.0   \n",
       "\n",
       "   m_top  m_left  originalH  ...  r19c10  r19c11  r19c12  r19c13  r19c14  \\\n",
       "0     35      24         51  ...     255     255     255     255     255   \n",
       "1     35      24         51  ...     255     255     255     255     255   \n",
       "2     35      22         51  ...      27       1       1       1       1   \n",
       "3     35      24         51  ...     255     255     255     255     255   \n",
       "4     35      24         51  ...     255     255     255     255     255   \n",
       "\n",
       "   r19c15  r19c16  r19c17  r19c18  r19c19  \n",
       "0     255     255     255     165      60  \n",
       "1     255     255     255     165      60  \n",
       "2       1       1       1       1       1  \n",
       "3     255     255     255     165      60  \n",
       "4     255     255     255     165      60  \n",
       "\n",
       "[5 rows x 413 columns]"
      ]
     },
     "execution_count": 15,
     "metadata": {},
     "output_type": "execute_result"
    }
   ],
   "source": [
    "df=pd.read_csv('modified_data/combined_csv.csv')\n",
    "\n",
    "df.head()"
   ]
  },
  {
   "cell_type": "code",
   "execution_count": 19,
   "id": "aac504a3",
   "metadata": {},
   "outputs": [],
   "source": [
    "#df=df.drop(columns=['Unnamed: 0','font', 'fontVariant','strength','italic','orientation','m_top','m_left','originalH','originalW','h','w'])"
   ]
  },
  {
   "cell_type": "code",
   "execution_count": null,
   "id": "7ac69123",
   "metadata": {},
   "outputs": [],
   "source": [
    "#df=df.drop(columns=['originalW','h','w'])"
   ]
  },
  {
   "cell_type": "code",
   "execution_count": 20,
   "id": "6021bf3f",
   "metadata": {},
   "outputs": [
    {
     "data": {
      "text/plain": [
       "array([57, 56, 55, 54, 53, 52, 51, 50, 49, 48, 46, 44])"
      ]
     },
     "execution_count": 20,
     "metadata": {},
     "output_type": "execute_result"
    }
   ],
   "source": [
    "df.m_label.unique()"
   ]
  },
  {
   "cell_type": "code",
   "execution_count": 21,
   "id": "16d71495",
   "metadata": {},
   "outputs": [
    {
     "data": {
      "text/html": [
       "<div>\n",
       "<style scoped>\n",
       "    .dataframe tbody tr th:only-of-type {\n",
       "        vertical-align: middle;\n",
       "    }\n",
       "\n",
       "    .dataframe tbody tr th {\n",
       "        vertical-align: top;\n",
       "    }\n",
       "\n",
       "    .dataframe thead th {\n",
       "        text-align: right;\n",
       "    }\n",
       "</style>\n",
       "<table border=\"1\" class=\"dataframe\">\n",
       "  <thead>\n",
       "    <tr style=\"text-align: right;\">\n",
       "      <th></th>\n",
       "      <th>m_label</th>\n",
       "      <th>r0c0</th>\n",
       "      <th>r0c1</th>\n",
       "      <th>r0c2</th>\n",
       "      <th>r0c3</th>\n",
       "      <th>r0c4</th>\n",
       "      <th>r0c5</th>\n",
       "      <th>r0c6</th>\n",
       "      <th>r0c7</th>\n",
       "      <th>r0c8</th>\n",
       "      <th>...</th>\n",
       "      <th>r19c10</th>\n",
       "      <th>r19c11</th>\n",
       "      <th>r19c12</th>\n",
       "      <th>r19c13</th>\n",
       "      <th>r19c14</th>\n",
       "      <th>r19c15</th>\n",
       "      <th>r19c16</th>\n",
       "      <th>r19c17</th>\n",
       "      <th>r19c18</th>\n",
       "      <th>r19c19</th>\n",
       "    </tr>\n",
       "  </thead>\n",
       "  <tbody>\n",
       "    <tr>\n",
       "      <th>0</th>\n",
       "      <td>57</td>\n",
       "      <td>60</td>\n",
       "      <td>165</td>\n",
       "      <td>255</td>\n",
       "      <td>255</td>\n",
       "      <td>255</td>\n",
       "      <td>255</td>\n",
       "      <td>255</td>\n",
       "      <td>255</td>\n",
       "      <td>255</td>\n",
       "      <td>...</td>\n",
       "      <td>255</td>\n",
       "      <td>255</td>\n",
       "      <td>255</td>\n",
       "      <td>255</td>\n",
       "      <td>255</td>\n",
       "      <td>255</td>\n",
       "      <td>255</td>\n",
       "      <td>255</td>\n",
       "      <td>165</td>\n",
       "      <td>60</td>\n",
       "    </tr>\n",
       "    <tr>\n",
       "      <th>1</th>\n",
       "      <td>56</td>\n",
       "      <td>60</td>\n",
       "      <td>165</td>\n",
       "      <td>255</td>\n",
       "      <td>255</td>\n",
       "      <td>255</td>\n",
       "      <td>255</td>\n",
       "      <td>255</td>\n",
       "      <td>255</td>\n",
       "      <td>255</td>\n",
       "      <td>...</td>\n",
       "      <td>255</td>\n",
       "      <td>255</td>\n",
       "      <td>255</td>\n",
       "      <td>255</td>\n",
       "      <td>255</td>\n",
       "      <td>255</td>\n",
       "      <td>255</td>\n",
       "      <td>255</td>\n",
       "      <td>165</td>\n",
       "      <td>60</td>\n",
       "    </tr>\n",
       "    <tr>\n",
       "      <th>2</th>\n",
       "      <td>55</td>\n",
       "      <td>255</td>\n",
       "      <td>255</td>\n",
       "      <td>255</td>\n",
       "      <td>255</td>\n",
       "      <td>255</td>\n",
       "      <td>255</td>\n",
       "      <td>255</td>\n",
       "      <td>255</td>\n",
       "      <td>255</td>\n",
       "      <td>...</td>\n",
       "      <td>27</td>\n",
       "      <td>1</td>\n",
       "      <td>1</td>\n",
       "      <td>1</td>\n",
       "      <td>1</td>\n",
       "      <td>1</td>\n",
       "      <td>1</td>\n",
       "      <td>1</td>\n",
       "      <td>1</td>\n",
       "      <td>1</td>\n",
       "    </tr>\n",
       "    <tr>\n",
       "      <th>3</th>\n",
       "      <td>54</td>\n",
       "      <td>60</td>\n",
       "      <td>165</td>\n",
       "      <td>255</td>\n",
       "      <td>255</td>\n",
       "      <td>255</td>\n",
       "      <td>255</td>\n",
       "      <td>255</td>\n",
       "      <td>255</td>\n",
       "      <td>255</td>\n",
       "      <td>...</td>\n",
       "      <td>255</td>\n",
       "      <td>255</td>\n",
       "      <td>255</td>\n",
       "      <td>255</td>\n",
       "      <td>255</td>\n",
       "      <td>255</td>\n",
       "      <td>255</td>\n",
       "      <td>255</td>\n",
       "      <td>165</td>\n",
       "      <td>60</td>\n",
       "    </tr>\n",
       "    <tr>\n",
       "      <th>4</th>\n",
       "      <td>53</td>\n",
       "      <td>255</td>\n",
       "      <td>255</td>\n",
       "      <td>255</td>\n",
       "      <td>255</td>\n",
       "      <td>255</td>\n",
       "      <td>255</td>\n",
       "      <td>255</td>\n",
       "      <td>255</td>\n",
       "      <td>255</td>\n",
       "      <td>...</td>\n",
       "      <td>255</td>\n",
       "      <td>255</td>\n",
       "      <td>255</td>\n",
       "      <td>255</td>\n",
       "      <td>255</td>\n",
       "      <td>255</td>\n",
       "      <td>255</td>\n",
       "      <td>255</td>\n",
       "      <td>165</td>\n",
       "      <td>60</td>\n",
       "    </tr>\n",
       "  </tbody>\n",
       "</table>\n",
       "<p>5 rows × 401 columns</p>\n",
       "</div>"
      ],
      "text/plain": [
       "   m_label  r0c0  r0c1  r0c2  r0c3  r0c4  r0c5  r0c6  r0c7  r0c8  ...  r19c10  \\\n",
       "0       57    60   165   255   255   255   255   255   255   255  ...     255   \n",
       "1       56    60   165   255   255   255   255   255   255   255  ...     255   \n",
       "2       55   255   255   255   255   255   255   255   255   255  ...      27   \n",
       "3       54    60   165   255   255   255   255   255   255   255  ...     255   \n",
       "4       53   255   255   255   255   255   255   255   255   255  ...     255   \n",
       "\n",
       "   r19c11  r19c12  r19c13  r19c14  r19c15  r19c16  r19c17  r19c18  r19c19  \n",
       "0     255     255     255     255     255     255     255     165      60  \n",
       "1     255     255     255     255     255     255     255     165      60  \n",
       "2       1       1       1       1       1       1       1       1       1  \n",
       "3     255     255     255     255     255     255     255     165      60  \n",
       "4     255     255     255     255     255     255     255     165      60  \n",
       "\n",
       "[5 rows x 401 columns]"
      ]
     },
     "execution_count": 21,
     "metadata": {},
     "output_type": "execute_result"
    }
   ],
   "source": [
    "df.head()"
   ]
  },
  {
   "cell_type": "code",
   "execution_count": 22,
   "id": "4a37f963",
   "metadata": {},
   "outputs": [],
   "source": [
    "df.to_csv( \"FINAL.csv\", index=False, encoding='utf-8-sig')"
   ]
  },
  {
   "cell_type": "code",
   "execution_count": 23,
   "id": "9cf834e5",
   "metadata": {},
   "outputs": [],
   "source": [
    "DF_FINAL=pd.read_csv('FINAL.csv')"
   ]
  },
  {
   "cell_type": "markdown",
   "id": "c18d361b",
   "metadata": {},
   "source": [
    "#### Create a dictionary to recognize the labels of the images we want, based on ASCII characters"
   ]
  },
  {
   "cell_type": "code",
   "execution_count": 24,
   "id": "7a4640f2",
   "metadata": {},
   "outputs": [],
   "source": [
    "#hacer diccionario \n",
    "#pasar diccionario a columna Y (m:label)\n",
    "#hacer to_category"
   ]
  },
  {
   "cell_type": "code",
   "execution_count": 25,
   "id": "5ad8243b",
   "metadata": {},
   "outputs": [],
   "source": [
    "di={48:0, 49:1, 50:2,51:3,52:4,53:5,54:6,55:7,56:8,57:9,44:10,46:11}\n",
    "#10 es coma, 11 es punto"
   ]
  },
  {
   "cell_type": "code",
   "execution_count": 28,
   "id": "44d38fa8",
   "metadata": {},
   "outputs": [],
   "source": [
    "#df['col1'].replace(di, inplace=True)"
   ]
  },
  {
   "cell_type": "code",
   "execution_count": 29,
   "id": "ad4a5bf8",
   "metadata": {},
   "outputs": [],
   "source": [
    "DF_FINAL= DF_FINAL.replace({\"m_label\": di})"
   ]
  },
  {
   "cell_type": "code",
   "execution_count": 30,
   "id": "cbd72e8b",
   "metadata": {},
   "outputs": [
    {
     "data": {
      "text/plain": [
       "array([ 9,  8,  7,  6,  5,  4,  3,  2,  1,  0, 11, 10])"
      ]
     },
     "execution_count": 30,
     "metadata": {},
     "output_type": "execute_result"
    }
   ],
   "source": [
    "DF_FINAL.m_label.unique()"
   ]
  },
  {
   "cell_type": "code",
   "execution_count": 31,
   "id": "06061f96",
   "metadata": {},
   "outputs": [],
   "source": [
    "import random\n",
    "\n",
    "filename = \"FINAL.csv\" \n",
    "n = sum(1 for line in open(filename))-1  # Calculate number of rows in file\n",
    "s = n//50  # sample size of 2%\n",
    "skip = sorted(random.sample(range(1, n+1), n-s))  # n+1 to compensate for header "
   ]
  },
  {
   "cell_type": "code",
   "execution_count": null,
   "id": "e959f116",
   "metadata": {},
   "outputs": [],
   "source": [
    "#dataframe.info"
   ]
  },
  {
   "cell_type": "code",
   "execution_count": 32,
   "id": "c4b856fb",
   "metadata": {},
   "outputs": [],
   "source": [
    "dataframe = pd.read_csv(filename, skiprows=skip)"
   ]
  },
  {
   "cell_type": "code",
   "execution_count": 33,
   "id": "719b6dcb",
   "metadata": {},
   "outputs": [
    {
     "data": {
      "text/html": [
       "<div>\n",
       "<style scoped>\n",
       "    .dataframe tbody tr th:only-of-type {\n",
       "        vertical-align: middle;\n",
       "    }\n",
       "\n",
       "    .dataframe tbody tr th {\n",
       "        vertical-align: top;\n",
       "    }\n",
       "\n",
       "    .dataframe thead th {\n",
       "        text-align: right;\n",
       "    }\n",
       "</style>\n",
       "<table border=\"1\" class=\"dataframe\">\n",
       "  <thead>\n",
       "    <tr style=\"text-align: right;\">\n",
       "      <th></th>\n",
       "      <th>m_label</th>\n",
       "      <th>r0c0</th>\n",
       "      <th>r0c1</th>\n",
       "      <th>r0c2</th>\n",
       "      <th>r0c3</th>\n",
       "      <th>r0c4</th>\n",
       "      <th>r0c5</th>\n",
       "      <th>r0c6</th>\n",
       "      <th>r0c7</th>\n",
       "      <th>r0c8</th>\n",
       "      <th>...</th>\n",
       "      <th>r19c10</th>\n",
       "      <th>r19c11</th>\n",
       "      <th>r19c12</th>\n",
       "      <th>r19c13</th>\n",
       "      <th>r19c14</th>\n",
       "      <th>r19c15</th>\n",
       "      <th>r19c16</th>\n",
       "      <th>r19c17</th>\n",
       "      <th>r19c18</th>\n",
       "      <th>r19c19</th>\n",
       "    </tr>\n",
       "  </thead>\n",
       "  <tbody>\n",
       "    <tr>\n",
       "      <th>0</th>\n",
       "      <td>48</td>\n",
       "      <td>1</td>\n",
       "      <td>1</td>\n",
       "      <td>1</td>\n",
       "      <td>1</td>\n",
       "      <td>255</td>\n",
       "      <td>255</td>\n",
       "      <td>255</td>\n",
       "      <td>255</td>\n",
       "      <td>255</td>\n",
       "      <td>...</td>\n",
       "      <td>255</td>\n",
       "      <td>255</td>\n",
       "      <td>255</td>\n",
       "      <td>255</td>\n",
       "      <td>171</td>\n",
       "      <td>1</td>\n",
       "      <td>1</td>\n",
       "      <td>1</td>\n",
       "      <td>1</td>\n",
       "      <td>1</td>\n",
       "    </tr>\n",
       "    <tr>\n",
       "      <th>1</th>\n",
       "      <td>53</td>\n",
       "      <td>25</td>\n",
       "      <td>24</td>\n",
       "      <td>22</td>\n",
       "      <td>53</td>\n",
       "      <td>68</td>\n",
       "      <td>130</td>\n",
       "      <td>162</td>\n",
       "      <td>226</td>\n",
       "      <td>236</td>\n",
       "      <td>...</td>\n",
       "      <td>214</td>\n",
       "      <td>206</td>\n",
       "      <td>190</td>\n",
       "      <td>142</td>\n",
       "      <td>118</td>\n",
       "      <td>64</td>\n",
       "      <td>48</td>\n",
       "      <td>15</td>\n",
       "      <td>17</td>\n",
       "      <td>18</td>\n",
       "    </tr>\n",
       "    <tr>\n",
       "      <th>2</th>\n",
       "      <td>57</td>\n",
       "      <td>1</td>\n",
       "      <td>1</td>\n",
       "      <td>1</td>\n",
       "      <td>1</td>\n",
       "      <td>1</td>\n",
       "      <td>1</td>\n",
       "      <td>216</td>\n",
       "      <td>255</td>\n",
       "      <td>255</td>\n",
       "      <td>...</td>\n",
       "      <td>255</td>\n",
       "      <td>255</td>\n",
       "      <td>255</td>\n",
       "      <td>86</td>\n",
       "      <td>1</td>\n",
       "      <td>1</td>\n",
       "      <td>1</td>\n",
       "      <td>1</td>\n",
       "      <td>1</td>\n",
       "      <td>1</td>\n",
       "    </tr>\n",
       "    <tr>\n",
       "      <th>3</th>\n",
       "      <td>51</td>\n",
       "      <td>6</td>\n",
       "      <td>10</td>\n",
       "      <td>17</td>\n",
       "      <td>90</td>\n",
       "      <td>127</td>\n",
       "      <td>227</td>\n",
       "      <td>236</td>\n",
       "      <td>253</td>\n",
       "      <td>255</td>\n",
       "      <td>...</td>\n",
       "      <td>253</td>\n",
       "      <td>248</td>\n",
       "      <td>238</td>\n",
       "      <td>172</td>\n",
       "      <td>140</td>\n",
       "      <td>109</td>\n",
       "      <td>84</td>\n",
       "      <td>35</td>\n",
       "      <td>18</td>\n",
       "      <td>10</td>\n",
       "    </tr>\n",
       "    <tr>\n",
       "      <th>4</th>\n",
       "      <td>51</td>\n",
       "      <td>32</td>\n",
       "      <td>37</td>\n",
       "      <td>43</td>\n",
       "      <td>92</td>\n",
       "      <td>132</td>\n",
       "      <td>191</td>\n",
       "      <td>218</td>\n",
       "      <td>226</td>\n",
       "      <td>233</td>\n",
       "      <td>...</td>\n",
       "      <td>244</td>\n",
       "      <td>244</td>\n",
       "      <td>236</td>\n",
       "      <td>220</td>\n",
       "      <td>148</td>\n",
       "      <td>103</td>\n",
       "      <td>72</td>\n",
       "      <td>43</td>\n",
       "      <td>37</td>\n",
       "      <td>32</td>\n",
       "    </tr>\n",
       "  </tbody>\n",
       "</table>\n",
       "<p>5 rows × 401 columns</p>\n",
       "</div>"
      ],
      "text/plain": [
       "   m_label  r0c0  r0c1  r0c2  r0c3  r0c4  r0c5  r0c6  r0c7  r0c8  ...  r19c10  \\\n",
       "0       48     1     1     1     1   255   255   255   255   255  ...     255   \n",
       "1       53    25    24    22    53    68   130   162   226   236  ...     214   \n",
       "2       57     1     1     1     1     1     1   216   255   255  ...     255   \n",
       "3       51     6    10    17    90   127   227   236   253   255  ...     253   \n",
       "4       51    32    37    43    92   132   191   218   226   233  ...     244   \n",
       "\n",
       "   r19c11  r19c12  r19c13  r19c14  r19c15  r19c16  r19c17  r19c18  r19c19  \n",
       "0     255     255     255     171       1       1       1       1       1  \n",
       "1     206     190     142     118      64      48      15      17      18  \n",
       "2     255     255      86       1       1       1       1       1       1  \n",
       "3     248     238     172     140     109      84      35      18      10  \n",
       "4     244     236     220     148     103      72      43      37      32  \n",
       "\n",
       "[5 rows x 401 columns]"
      ]
     },
     "execution_count": 33,
     "metadata": {},
     "output_type": "execute_result"
    }
   ],
   "source": [
    "dataframe.head()"
   ]
  },
  {
   "cell_type": "code",
   "execution_count": 34,
   "id": "b27cdb18",
   "metadata": {},
   "outputs": [],
   "source": [
    "dataframe= dataframe.replace({\"m_label\": di})"
   ]
  },
  {
   "cell_type": "code",
   "execution_count": 35,
   "id": "b76badf3",
   "metadata": {},
   "outputs": [
    {
     "data": {
      "text/plain": [
       "array([ 0,  5,  9,  3,  7,  6,  1,  2,  8,  4, 11, 10])"
      ]
     },
     "execution_count": 35,
     "metadata": {},
     "output_type": "execute_result"
    }
   ],
   "source": [
    "dataframe.m_label.unique()"
   ]
  },
  {
   "cell_type": "code",
   "execution_count": 36,
   "id": "42a23541",
   "metadata": {},
   "outputs": [
    {
     "data": {
      "text/plain": [
       "(4474, 401)"
      ]
     },
     "execution_count": 36,
     "metadata": {},
     "output_type": "execute_result"
    }
   ],
   "source": [
    "dataframe.shape"
   ]
  },
  {
   "cell_type": "code",
   "execution_count": 37,
   "id": "964c25f3",
   "metadata": {},
   "outputs": [],
   "source": [
    "#fonts=dataframe.drop(columns=['Unnamed: 0'])"
   ]
  },
  {
   "cell_type": "code",
   "execution_count": 38,
   "id": "04757825",
   "metadata": {},
   "outputs": [],
   "source": [
    "#fonts.info"
   ]
  },
  {
   "cell_type": "markdown",
   "id": "d7cf1837",
   "metadata": {},
   "source": [
    "#### Plot font pictures"
   ]
  },
  {
   "cell_type": "code",
   "execution_count": 39,
   "id": "d6ee505b",
   "metadata": {},
   "outputs": [],
   "source": [
    "import matplotlib.pyplot as plt"
   ]
  },
  {
   "cell_type": "code",
   "execution_count": 40,
   "id": "cbb27d53",
   "metadata": {},
   "outputs": [
    {
     "data": {
      "image/png": "[encoded data removed]",
      "text/plain": [
       "<Figure size 360x360 with 1 Axes>"
      ]
     },
     "metadata": {
      "needs_background": "light"
     },
     "output_type": "display_data"
    }
   ],
   "source": [
    "plt.figure(figsize=(5,5))\n",
    "plt.imshow(dataframe.values[45,1:].reshape(20,20))\n",
    "plt.show();"
   ]
  },
  {
   "cell_type": "markdown",
   "id": "b36a9e71",
   "metadata": {},
   "source": [
    "#### Assure m_label only has 12 tags"
   ]
  },
  {
   "cell_type": "code",
   "execution_count": 41,
   "id": "2e5fd8f2",
   "metadata": {},
   "outputs": [
    {
     "data": {
      "text/plain": [
       "array([ 0,  5,  9,  3,  7,  6,  1,  2,  8,  4, 11, 10])"
      ]
     },
     "execution_count": 41,
     "metadata": {},
     "output_type": "execute_result"
    }
   ],
   "source": [
    "dataframe.m_label.unique()"
   ]
  },
  {
   "cell_type": "code",
   "execution_count": 42,
   "id": "ec5766ef",
   "metadata": {},
   "outputs": [],
   "source": [
    "input_shape=(20, 20, 1)"
   ]
  },
  {
   "cell_type": "markdown",
   "id": "c8af8ba1",
   "metadata": {},
   "source": [
    "#### Define X and y "
   ]
  },
  {
   "cell_type": "code",
   "execution_count": 43,
   "id": "4acbf068",
   "metadata": {},
   "outputs": [],
   "source": [
    "X=np.array(dataframe.iloc[:, 1:])"
   ]
  },
  {
   "cell_type": "code",
   "execution_count": 44,
   "id": "fb4b35c0",
   "metadata": {},
   "outputs": [
    {
     "data": {
      "text/plain": [
       "(4474, 400)"
      ]
     },
     "execution_count": 44,
     "metadata": {},
     "output_type": "execute_result"
    }
   ],
   "source": [
    "X.shape"
   ]
  },
  {
   "cell_type": "code",
   "execution_count": 45,
   "id": "0d155fe9",
   "metadata": {},
   "outputs": [],
   "source": [
    "primer_paso_y=np.array(dataframe.iloc[:,0])"
   ]
  },
  {
   "cell_type": "code",
   "execution_count": 46,
   "id": "71a33a69",
   "metadata": {},
   "outputs": [
    {
     "data": {
      "text/plain": [
       "4474"
      ]
     },
     "execution_count": 46,
     "metadata": {},
     "output_type": "execute_result"
    }
   ],
   "source": [
    "len(primer_paso_y)"
   ]
  },
  {
   "cell_type": "code",
   "execution_count": 47,
   "id": "3966ea3f",
   "metadata": {},
   "outputs": [
    {
     "data": {
      "text/plain": [
       "array([ 0,  5,  9, ...,  3, 11,  0])"
      ]
     },
     "execution_count": 47,
     "metadata": {},
     "output_type": "execute_result"
    }
   ],
   "source": [
    "primer_paso_y"
   ]
  },
  {
   "cell_type": "markdown",
   "id": "5acd053b",
   "metadata": {},
   "source": [
    "#### Change y to categorical "
   ]
  },
  {
   "cell_type": "code",
   "execution_count": 48,
   "id": "edaf8de9",
   "metadata": {},
   "outputs": [],
   "source": [
    "y=to_categorical(primer_paso_y)"
   ]
  },
  {
   "cell_type": "code",
   "execution_count": 49,
   "id": "013ad909",
   "metadata": {},
   "outputs": [
    {
     "data": {
      "text/plain": [
       "array([[1., 0., 0., ..., 0., 0., 0.],\n",
       "       [0., 0., 0., ..., 0., 0., 0.],\n",
       "       [0., 0., 0., ..., 1., 0., 0.],\n",
       "       ...,\n",
       "       [0., 0., 0., ..., 0., 0., 0.],\n",
       "       [0., 0., 0., ..., 0., 0., 1.],\n",
       "       [1., 0., 0., ..., 0., 0., 0.]], dtype=float32)"
      ]
     },
     "execution_count": 49,
     "metadata": {},
     "output_type": "execute_result"
    }
   ],
   "source": [
    "y"
   ]
  },
  {
   "cell_type": "code",
   "execution_count": 50,
   "id": "f546dbff",
   "metadata": {},
   "outputs": [
    {
     "data": {
      "text/plain": [
       "(4474, 12)"
      ]
     },
     "execution_count": 50,
     "metadata": {},
     "output_type": "execute_result"
    }
   ],
   "source": [
    "y.shape"
   ]
  },
  {
   "cell_type": "markdown",
   "id": "d31aca47",
   "metadata": {},
   "source": [
    "#### Train, test, split"
   ]
  },
  {
   "cell_type": "code",
   "execution_count": 51,
   "id": "043ec49a",
   "metadata": {},
   "outputs": [],
   "source": [
    "from sklearn.model_selection import train_test_split as tts"
   ]
  },
  {
   "cell_type": "code",
   "execution_count": 52,
   "id": "f04d6428",
   "metadata": {},
   "outputs": [],
   "source": [
    "X_train, X_test, y_train, y_test=tts(X, y)"
   ]
  },
  {
   "cell_type": "code",
   "execution_count": 53,
   "id": "69e060d9",
   "metadata": {},
   "outputs": [],
   "source": [
    "X_train=X_train.reshape(X_train.shape[0], 20, 20, 1).astype('float32')/255\n",
    "\n",
    "X_test=X_test.reshape(X_test.shape[0], 20, 20, 1).astype('float32')/255"
   ]
  },
  {
   "cell_type": "code",
   "execution_count": 54,
   "id": "f3d0e102",
   "metadata": {},
   "outputs": [],
   "source": [
    "batch=256 #entrenar con varios ejemplos a la vez\n",
    "n_clases=12 #we have 12 classes as defined in the dictionary numbers, point and comma\n",
    "epocas=200 #numero de veces que enseñamos a la red neunoral los ejemplos"
   ]
  },
  {
   "cell_type": "code",
   "execution_count": 55,
   "id": "f49ed278",
   "metadata": {},
   "outputs": [
    {
     "data": {
      "text/plain": [
       "(4474, 12)"
      ]
     },
     "execution_count": 55,
     "metadata": {},
     "output_type": "execute_result"
    }
   ],
   "source": [
    "\n",
    "y.shape\n"
   ]
  },
  {
   "cell_type": "code",
   "execution_count": 56,
   "id": "2ee29540",
   "metadata": {},
   "outputs": [
    {
     "data": {
      "text/plain": [
       "array([[1., 0., 0., ..., 0., 0., 0.],\n",
       "       [0., 0., 0., ..., 0., 0., 0.],\n",
       "       [0., 0., 0., ..., 1., 0., 0.],\n",
       "       ...,\n",
       "       [0., 0., 0., ..., 0., 0., 0.],\n",
       "       [0., 0., 0., ..., 0., 0., 1.],\n",
       "       [1., 0., 0., ..., 0., 0., 0.]], dtype=float32)"
      ]
     },
     "execution_count": 56,
     "metadata": {},
     "output_type": "execute_result"
    }
   ],
   "source": [
    "y"
   ]
  },
  {
   "cell_type": "markdown",
   "id": "3b7d9df6",
   "metadata": {},
   "source": [
    "### Model: SEQUENTIAL"
   ]
  },
  {
   "cell_type": "code",
   "execution_count": 57,
   "id": "84884804",
   "metadata": {},
   "outputs": [],
   "source": [
    "from tensorflow.keras import Sequential\n",
    "from keras.layers import Flatten\n",
    "from keras.layers import Dense\n",
    "from keras.layers.convolutional import Conv1D, MaxPooling1D\n",
    "from keras.layers import Dropout\n",
    "from keras.layers.normalization import BatchNormalization"
   ]
  },
  {
   "cell_type": "code",
   "execution_count": 58,
   "id": "af6cd613",
   "metadata": {},
   "outputs": [],
   "source": [
    "from tensorflow import keras"
   ]
  },
  {
   "cell_type": "code",
   "execution_count": 59,
   "id": "2d0e425e",
   "metadata": {},
   "outputs": [
    {
     "name": "stdout",
     "output_type": "stream",
     "text": [
      "Model: \"sequential\"\n",
      "_________________________________________________________________\n",
      "Layer (type)                 Output Shape              Param #   \n",
      "=================================================================\n",
      "conv2d (Conv2D)              (None, 18, 18, 32)        320       \n",
      "_________________________________________________________________\n",
      "max_pooling2d (MaxPooling2D) (None, 9, 9, 32)          0         \n",
      "_________________________________________________________________\n",
      "dropout (Dropout)            (None, 9, 9, 32)          0         \n",
      "_________________________________________________________________\n",
      "conv2d_1 (Conv2D)            (None, 7, 7, 64)          18496     \n",
      "_________________________________________________________________\n",
      "max_pooling2d_1 (MaxPooling2 (None, 3, 3, 64)          0         \n",
      "_________________________________________________________________\n",
      "dropout_1 (Dropout)          (None, 3, 3, 64)          0         \n",
      "_________________________________________________________________\n",
      "conv2d_2 (Conv2D)            (None, 1, 1, 128)         73856     \n",
      "_________________________________________________________________\n",
      "dropout_2 (Dropout)          (None, 1, 1, 128)         0         \n",
      "_________________________________________________________________\n",
      "flatten (Flatten)            (None, 128)               0         \n",
      "_________________________________________________________________\n",
      "dense (Dense)                (None, 128)               16512     \n",
      "_________________________________________________________________\n",
      "dropout_3 (Dropout)          (None, 128)               0         \n",
      "_________________________________________________________________\n",
      "dense_1 (Dense)              (None, 12)                1548      \n",
      "=================================================================\n",
      "Total params: 110,732\n",
      "Trainable params: 110,732\n",
      "Non-trainable params: 0\n",
      "_________________________________________________________________\n"
     ]
    }
   ],
   "source": [
    "modelo=Sequential()\n",
    "modelo.add(Conv2D(32, kernel_size=(3, 3), activation='relu',\n",
    "                  kernel_initializer='he_normal', input_shape=input_shape))\n",
    "\n",
    "modelo.add(MaxPooling2D((2,2)))\n",
    "modelo.add(Dropout(0.25))\n",
    "\n",
    "modelo.add(Conv2D(64, (3, 3), activation='relu'))\n",
    "modelo.add(MaxPooling2D((2,2)))\n",
    "modelo.add(Dropout(0.25))\n",
    "modelo.add(Conv2D(128, (3, 3), activation='relu'))\n",
    "modelo.add(Dropout(0.4))\n",
    "\n",
    "modelo.add(Flatten())\n",
    "modelo.add(Dense(128,  activation='relu'))\n",
    "modelo.add(Dropout(0.3))\n",
    "modelo.add(Dense(n_clases, activation='softmax'))\n",
    "\n",
    "\n",
    "modelo.compile(loss=keras.losses.categorical_crossentropy, \n",
    "               optimizer=keras.optimizers.Adam(), \n",
    "               metrics=['accuracy'])\n",
    "\n",
    "modelo.summary()"
   ]
  },
  {
   "cell_type": "code",
   "execution_count": 60,
   "id": "b6d8c2bc",
   "metadata": {},
   "outputs": [],
   "source": [
    "import time"
   ]
  },
  {
   "cell_type": "code",
   "execution_count": 61,
   "id": "7d9e359f",
   "metadata": {},
   "outputs": [
    {
     "name": "stdout",
     "output_type": "stream",
     "text": [
      "CPU times: user 7min 51s, sys: 1min 29s, total: 9min 20s\n",
      "Wall time: 3min 20s\n"
     ]
    }
   ],
   "source": [
    "%%time\n",
    "historico=modelo.fit(X_train, y_train, batch_size=batch, epochs=epocas, verbose=0)"
   ]
  },
  {
   "cell_type": "code",
   "execution_count": 62,
   "id": "63c6a269",
   "metadata": {},
   "outputs": [],
   "source": [
    "score=modelo.evaluate(X_test, y_test, verbose=0)"
   ]
  },
  {
   "cell_type": "markdown",
   "id": "c14609ff",
   "metadata": {},
   "source": [
    "#### Check accuracy of model"
   ]
  },
  {
   "cell_type": "code",
   "execution_count": 63,
   "id": "01d7d7e6",
   "metadata": {},
   "outputs": [
    {
     "name": "stdout",
     "output_type": "stream",
     "text": [
      "Perdida testeo:  0.25406813621520996\n",
      "Accuracy testeo:  0.9472743272781372\n"
     ]
    }
   ],
   "source": [
    "print ('Perdida testeo: ', score[0])\n",
    "print ('Accuracy testeo: ', score[1])"
   ]
  },
  {
   "cell_type": "markdown",
   "id": "2724db3f",
   "metadata": {},
   "source": [
    "#### 95% of accuracy, great!"
   ]
  },
  {
   "cell_type": "code",
   "execution_count": 64,
   "id": "fd0b7159",
   "metadata": {},
   "outputs": [],
   "source": [
    "acc=historico.history['accuracy']\n",
    "loss=historico.history['loss']\n",
    "\n",
    "epocas=range(len(acc))"
   ]
  },
  {
   "cell_type": "markdown",
   "id": "42e544b1",
   "metadata": {},
   "source": [
    "#### Test if model works"
   ]
  },
  {
   "cell_type": "markdown",
   "id": "54e6ea3a",
   "metadata": {},
   "source": [
    "+ PLOT IMAGE TO PREDICT "
   ]
  },
  {
   "cell_type": "code",
   "execution_count": 65,
   "id": "1eea0c06",
   "metadata": {},
   "outputs": [
    {
     "data": {
      "image/png": "[encoded data removed]",
      "text/plain": [
       "<Figure size 360x360 with 1 Axes>"
      ]
     },
     "metadata": {
      "needs_background": "light"
     },
     "output_type": "display_data"
    }
   ],
   "source": [
    "plt.figure(figsize=(5,5))\n",
    "plt.imshow(dataframe.values[55,1:].reshape(20,20))\n",
    "plt.show();"
   ]
  },
  {
   "cell_type": "code",
   "execution_count": 71,
   "id": "4236c79a",
   "metadata": {},
   "outputs": [],
   "source": [
    "y=modelo.predict(dataframe.values[55,1:].reshape(1, 20, 20, 1).astype('float32')/255)\n",
    "#this predicst the probability of the image to be the tags below"
   ]
  },
  {
   "cell_type": "code",
   "execution_count": 72,
   "id": "1b01c50b",
   "metadata": {},
   "outputs": [
    {
     "data": {
      "text/plain": [
       "4"
      ]
     },
     "execution_count": 72,
     "metadata": {},
     "output_type": "execute_result"
    }
   ],
   "source": [
    "y.argmax() #number prediction - argmax gives the index of the maximum probability"
   ]
  },
  {
   "cell_type": "markdown",
   "id": "995d8eb6",
   "metadata": {},
   "source": [
    "#### Model works!!!"
   ]
  }
 ],
 "metadata": {
  "kernelspec": {
   "display_name": "clase",
   "language": "python",
   "name": "clase"
  },
  "language_info": {
   "codemirror_mode": {
    "name": "ipython",
    "version": 3
   },
   "file_extension": ".py",
   "mimetype": "text/x-python",
   "name": "python",
   "nbconvert_exporter": "python",
   "pygments_lexer": "ipython3",
   "version": "3.8.8"
  }
 },
 "nbformat": 4,
 "nbformat_minor": 5
}
