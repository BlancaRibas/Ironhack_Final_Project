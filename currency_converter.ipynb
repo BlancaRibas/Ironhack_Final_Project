{
 "cells": [
  {
   "cell_type": "markdown",
   "id": "7f458ce1",
   "metadata": {},
   "source": [
    "# FINAL PROJECT: IMAGE BASED CURRENCY CONVERTER"
   ]
  },
  {
   "cell_type": "code",
   "execution_count": 1,
   "id": "9c0f12ec",
   "metadata": {},
   "outputs": [],
   "source": [
    "import pandas as pd\n",
    "import numpy as np"
   ]
  },
  {
   "cell_type": "markdown",
   "id": "99220838",
   "metadata": {},
   "source": [
    "### Step 1: Use Currencyconverter to get exchange rates"
   ]
  },
  {
   "cell_type": "code",
   "execution_count": 3,
   "id": "c8a8b66d",
   "metadata": {},
   "outputs": [],
   "source": [
    "#!pip install --user currencyconverter"
   ]
  },
  {
   "cell_type": "code",
   "execution_count": 19,
   "id": "3e3ef6c1",
   "metadata": {},
   "outputs": [],
   "source": [
    "import currency_converter"
   ]
  },
  {
   "cell_type": "code",
   "execution_count": 26,
   "id": "80aacf0a",
   "metadata": {},
   "outputs": [],
   "source": [
    "from currency_converter import CurrencyConverter "
   ]
  },
  {
   "cell_type": "code",
   "execution_count": 24,
   "id": "b223ffc7",
   "metadata": {},
   "outputs": [],
   "source": [
    "from datetime import date"
   ]
  },
  {
   "cell_type": "code",
   "execution_count": 27,
   "id": "1b8f71a9",
   "metadata": {},
   "outputs": [],
   "source": [
    "c = CurrencyConverter()"
   ]
  },
  {
   "cell_type": "code",
   "execution_count": 28,
   "id": "3c906da9",
   "metadata": {},
   "outputs": [
    {
     "data": {
      "text/plain": [
       "121.24999999999999"
      ]
     },
     "execution_count": 28,
     "metadata": {},
     "output_type": "execute_result"
    }
   ],
   "source": [
    "c.convert(100, 'EUR', 'USD')"
   ]
  },
  {
   "cell_type": "code",
   "execution_count": 30,
   "id": "e9a14dc7",
   "metadata": {},
   "outputs": [
    {
     "data": {
      "text/plain": [
       "121.24999999999999"
      ]
     },
     "execution_count": 30,
     "metadata": {},
     "output_type": "execute_result"
    }
   ],
   "source": [
    "c.convert(100, 'EUR', 'USD', date=date(2021, 6, 11))"
   ]
  },
  {
   "cell_type": "code",
   "execution_count": null,
   "id": "8729cdfa",
   "metadata": {},
   "outputs": [],
   "source": [
    "#exchange rate from ten days ago"
   ]
  },
  {
   "cell_type": "code",
   "execution_count": 33,
   "id": "944aafb0",
   "metadata": {},
   "outputs": [
    {
     "data": {
      "text/plain": [
       "116.67250029168126"
      ]
     },
     "execution_count": 33,
     "metadata": {},
     "output_type": "execute_result"
    }
   ],
   "source": [
    "c.convert(100, 'GBP', 'EUR', date=date(2021, 6, 11))"
   ]
  },
  {
   "cell_type": "code",
   "execution_count": 35,
   "id": "0ad91a31",
   "metadata": {},
   "outputs": [
    {
     "data": {
      "text/plain": [
       "68.08742425274052"
      ]
     },
     "execution_count": 35,
     "metadata": {},
     "output_type": "execute_result"
    }
   ],
   "source": [
    "c.convert(100, 'CAD', 'EUR', date=date(2021, 6, 11))"
   ]
  },
  {
   "cell_type": "code",
   "execution_count": 37,
   "id": "5c9130bc",
   "metadata": {},
   "outputs": [
    {
     "data": {
      "text/plain": [
       "23.9003"
      ]
     },
     "execution_count": 37,
     "metadata": {},
     "output_type": "execute_result"
    }
   ],
   "source": [
    "c.convert(1, 'EUR', 'MXN', date=date(2021, 6, 11))"
   ]
  },
  {
   "cell_type": "code",
   "execution_count": null,
   "id": "a9e71a74",
   "metadata": {},
   "outputs": [],
   "source": [
    "#bear in mind dates!!!!"
   ]
  }
 ],
 "metadata": {
  "kernelspec": {
   "display_name": "clase",
   "language": "python",
   "name": "clase"
  },
  "language_info": {
   "codemirror_mode": {
    "name": "ipython",
    "version": 3
   },
   "file_extension": ".py",
   "mimetype": "text/x-python",
   "name": "python",
   "nbconvert_exporter": "python",
   "pygments_lexer": "ipython3",
   "version": "3.8.8"
  }
 },
 "nbformat": 4,
 "nbformat_minor": 5
}
