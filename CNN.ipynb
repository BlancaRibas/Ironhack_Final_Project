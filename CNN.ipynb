{
 "cells": [
  {
   "cell_type": "markdown",
   "id": "c56a7af4",
   "metadata": {},
   "source": [
    "## Convolutional Neural Networks "
   ]
  },
  {
   "cell_type": "code",
   "execution_count": null,
   "id": "6ecaa8f3",
   "metadata": {},
   "outputs": [],
   "source": [
    "#pip install tensorflow"
   ]
  },
  {
   "cell_type": "code",
   "execution_count": null,
   "id": "f3e78bf6",
   "metadata": {},
   "outputs": [],
   "source": [
    "#pip install keras"
   ]
  },
  {
   "cell_type": "code",
   "execution_count": 1,
   "id": "caa428d4",
   "metadata": {},
   "outputs": [],
   "source": [
    "import numpy as np\n",
    "import pandas as pd"
   ]
  },
  {
   "cell_type": "code",
   "execution_count": 4,
   "id": "fe378205",
   "metadata": {},
   "outputs": [],
   "source": [
    "#pip install keras.models"
   ]
  },
  {
   "cell_type": "code",
   "execution_count": 5,
   "id": "d7ab86de",
   "metadata": {},
   "outputs": [],
   "source": [
    "from keras.utils import to_categorical\n",
    "from keras.layers import Dropout\n",
    "from keras.layers import Conv2D, MaxPooling2D\n",
    "from keras.layers.normalization import BatchNormalization"
   ]
  },
  {
   "cell_type": "code",
   "execution_count": 7,
   "id": "28324f85",
   "metadata": {},
   "outputs": [
    {
     "data": {
      "text/html": [
       "<div>\n",
       "<style scoped>\n",
       "    .dataframe tbody tr th:only-of-type {\n",
       "        vertical-align: middle;\n",
       "    }\n",
       "\n",
       "    .dataframe tbody tr th {\n",
       "        vertical-align: top;\n",
       "    }\n",
       "\n",
       "    .dataframe thead th {\n",
       "        text-align: right;\n",
       "    }\n",
       "</style>\n",
       "<table border=\"1\" class=\"dataframe\">\n",
       "  <thead>\n",
       "    <tr style=\"text-align: right;\">\n",
       "      <th></th>\n",
       "      <th>Unnamed: 0</th>\n",
       "      <th>font</th>\n",
       "      <th>fontVariant</th>\n",
       "      <th>m_label</th>\n",
       "      <th>strength</th>\n",
       "      <th>italic</th>\n",
       "      <th>orientation</th>\n",
       "      <th>m_top</th>\n",
       "      <th>m_left</th>\n",
       "      <th>originalH</th>\n",
       "      <th>...</th>\n",
       "      <th>r19c10</th>\n",
       "      <th>r19c11</th>\n",
       "      <th>r19c12</th>\n",
       "      <th>r19c13</th>\n",
       "      <th>r19c14</th>\n",
       "      <th>r19c15</th>\n",
       "      <th>r19c16</th>\n",
       "      <th>r19c17</th>\n",
       "      <th>r19c18</th>\n",
       "      <th>r19c19</th>\n",
       "    </tr>\n",
       "  </thead>\n",
       "  <tbody>\n",
       "    <tr>\n",
       "      <th>0</th>\n",
       "      <td>0</td>\n",
       "      <td>AGENCY</td>\n",
       "      <td>AGENCY FB</td>\n",
       "      <td>64258</td>\n",
       "      <td>0.4</td>\n",
       "      <td>0</td>\n",
       "      <td>0.0</td>\n",
       "      <td>35</td>\n",
       "      <td>21</td>\n",
       "      <td>51</td>\n",
       "      <td>...</td>\n",
       "      <td>1</td>\n",
       "      <td>1</td>\n",
       "      <td>1</td>\n",
       "      <td>1</td>\n",
       "      <td>1</td>\n",
       "      <td>1</td>\n",
       "      <td>163</td>\n",
       "      <td>255</td>\n",
       "      <td>255</td>\n",
       "      <td>255</td>\n",
       "    </tr>\n",
       "    <tr>\n",
       "      <th>1</th>\n",
       "      <td>1</td>\n",
       "      <td>AGENCY</td>\n",
       "      <td>AGENCY FB</td>\n",
       "      <td>64257</td>\n",
       "      <td>0.4</td>\n",
       "      <td>0</td>\n",
       "      <td>0.0</td>\n",
       "      <td>35</td>\n",
       "      <td>21</td>\n",
       "      <td>51</td>\n",
       "      <td>...</td>\n",
       "      <td>1</td>\n",
       "      <td>1</td>\n",
       "      <td>1</td>\n",
       "      <td>1</td>\n",
       "      <td>1</td>\n",
       "      <td>1</td>\n",
       "      <td>163</td>\n",
       "      <td>255</td>\n",
       "      <td>255</td>\n",
       "      <td>255</td>\n",
       "    </tr>\n",
       "    <tr>\n",
       "      <th>2</th>\n",
       "      <td>2</td>\n",
       "      <td>AGENCY</td>\n",
       "      <td>AGENCY FB</td>\n",
       "      <td>61442</td>\n",
       "      <td>0.4</td>\n",
       "      <td>0</td>\n",
       "      <td>0.0</td>\n",
       "      <td>35</td>\n",
       "      <td>21</td>\n",
       "      <td>51</td>\n",
       "      <td>...</td>\n",
       "      <td>1</td>\n",
       "      <td>1</td>\n",
       "      <td>1</td>\n",
       "      <td>1</td>\n",
       "      <td>1</td>\n",
       "      <td>1</td>\n",
       "      <td>163</td>\n",
       "      <td>255</td>\n",
       "      <td>255</td>\n",
       "      <td>255</td>\n",
       "    </tr>\n",
       "    <tr>\n",
       "      <th>3</th>\n",
       "      <td>3</td>\n",
       "      <td>AGENCY</td>\n",
       "      <td>AGENCY FB</td>\n",
       "      <td>61441</td>\n",
       "      <td>0.4</td>\n",
       "      <td>0</td>\n",
       "      <td>0.0</td>\n",
       "      <td>35</td>\n",
       "      <td>21</td>\n",
       "      <td>51</td>\n",
       "      <td>...</td>\n",
       "      <td>1</td>\n",
       "      <td>1</td>\n",
       "      <td>1</td>\n",
       "      <td>1</td>\n",
       "      <td>1</td>\n",
       "      <td>1</td>\n",
       "      <td>163</td>\n",
       "      <td>255</td>\n",
       "      <td>255</td>\n",
       "      <td>255</td>\n",
       "    </tr>\n",
       "    <tr>\n",
       "      <th>4</th>\n",
       "      <td>4</td>\n",
       "      <td>AGENCY</td>\n",
       "      <td>AGENCY FB</td>\n",
       "      <td>9674</td>\n",
       "      <td>0.4</td>\n",
       "      <td>0</td>\n",
       "      <td>0.0</td>\n",
       "      <td>51</td>\n",
       "      <td>21</td>\n",
       "      <td>33</td>\n",
       "      <td>...</td>\n",
       "      <td>255</td>\n",
       "      <td>132</td>\n",
       "      <td>1</td>\n",
       "      <td>1</td>\n",
       "      <td>1</td>\n",
       "      <td>1</td>\n",
       "      <td>1</td>\n",
       "      <td>1</td>\n",
       "      <td>1</td>\n",
       "      <td>1</td>\n",
       "    </tr>\n",
       "  </tbody>\n",
       "</table>\n",
       "<p>5 rows × 413 columns</p>\n",
       "</div>"
      ],
      "text/plain": [
       "   Unnamed: 0    font fontVariant  m_label  strength  italic  orientation  \\\n",
       "0           0  AGENCY   AGENCY FB    64258       0.4       0          0.0   \n",
       "1           1  AGENCY   AGENCY FB    64257       0.4       0          0.0   \n",
       "2           2  AGENCY   AGENCY FB    61442       0.4       0          0.0   \n",
       "3           3  AGENCY   AGENCY FB    61441       0.4       0          0.0   \n",
       "4           4  AGENCY   AGENCY FB     9674       0.4       0          0.0   \n",
       "\n",
       "   m_top  m_left  originalH  ...  r19c10  r19c11  r19c12  r19c13  r19c14  \\\n",
       "0     35      21         51  ...       1       1       1       1       1   \n",
       "1     35      21         51  ...       1       1       1       1       1   \n",
       "2     35      21         51  ...       1       1       1       1       1   \n",
       "3     35      21         51  ...       1       1       1       1       1   \n",
       "4     51      21         33  ...     255     132       1       1       1   \n",
       "\n",
       "   r19c15  r19c16  r19c17  r19c18  r19c19  \n",
       "0       1     163     255     255     255  \n",
       "1       1     163     255     255     255  \n",
       "2       1     163     255     255     255  \n",
       "3       1     163     255     255     255  \n",
       "4       1       1       1       1       1  \n",
       "\n",
       "[5 rows x 413 columns]"
      ]
     },
     "execution_count": 7,
     "metadata": {},
     "output_type": "execute_result"
    }
   ],
   "source": [
    "df=pd.read_csv('merged.csv')\n",
    "\n",
    "df.head()"
   ]
  },
  {
   "cell_type": "code",
   "execution_count": 8,
   "id": "abb60ced",
   "metadata": {},
   "outputs": [],
   "source": [
    "def numbers_clean (font_file):\n",
    "    df = pd.read_csv(f'fonts/{font_file}')\n",
    "    symbol_list = [48,49,50,51,52,53,54,55,56,57,44,46]\n",
    "    df_numbers = df.loc[df['m_label'].isin(symbol_list)]\n",
    "    df_numbers.to_csv(f\"modified_data/mod_{font_file}\")\n",
    "    print(\"Done\") "
   ]
  },
  {
   "cell_type": "code",
   "execution_count": 9,
   "id": "602d1368",
   "metadata": {},
   "outputs": [],
   "source": [
    "def file_list(directory = \"Ironhack_Final_Project\"):\n",
    "    files = []\n",
    "    for filename in os.listdir(directory):\n",
    "        if filename.endswith(\".csv\"):\n",
    "            print (filename)\n",
    "            files.append(os.path.join(filename))\n",
    "            continue\n",
    "        else:\n",
    "            continue\n",
    "    return files"
   ]
  },
  {
   "cell_type": "code",
   "execution_count": 10,
   "id": "8e37a69b",
   "metadata": {},
   "outputs": [],
   "source": [
    "path = \"\\Desktop\\Ironhack_Final_Project\""
   ]
  },
  {
   "cell_type": "code",
   "execution_count": 11,
   "id": "f699deb3",
   "metadata": {},
   "outputs": [
    {
     "ename": "NameError",
     "evalue": "name 'glob' is not defined",
     "output_type": "error",
     "traceback": [
      "\u001b[0;31m---------------------------------------------------------------------------\u001b[0m",
      "\u001b[0;31mNameError\u001b[0m                                 Traceback (most recent call last)",
      "\u001b[0;32m<ipython-input-11-5652961d6a92>\u001b[0m in \u001b[0;36m<module>\u001b[0;34m\u001b[0m\n\u001b[0;32m----> 1\u001b[0;31m \u001b[0mall_files\u001b[0m \u001b[0;34m=\u001b[0m \u001b[0mglob\u001b[0m\u001b[0;34m.\u001b[0m\u001b[0mglob\u001b[0m\u001b[0;34m(\u001b[0m\u001b[0mos\u001b[0m\u001b[0;34m.\u001b[0m\u001b[0mpath\u001b[0m\u001b[0;34m.\u001b[0m\u001b[0mjoin\u001b[0m\u001b[0;34m(\u001b[0m\u001b[0;34m\"*.csv\"\u001b[0m\u001b[0;34m)\u001b[0m\u001b[0;34m)\u001b[0m\u001b[0;34m\u001b[0m\u001b[0;34m\u001b[0m\u001b[0m\n\u001b[0m\u001b[1;32m      2\u001b[0m \u001b[0mdf_from_each_file\u001b[0m \u001b[0;34m=\u001b[0m \u001b[0;34m(\u001b[0m\u001b[0mpd\u001b[0m\u001b[0;34m.\u001b[0m\u001b[0mread_csv\u001b[0m\u001b[0;34m(\u001b[0m\u001b[0mf\u001b[0m\u001b[0;34m,\u001b[0m \u001b[0msep\u001b[0m\u001b[0;34m=\u001b[0m\u001b[0;34m','\u001b[0m\u001b[0;34m)\u001b[0m \u001b[0;32mfor\u001b[0m \u001b[0mf\u001b[0m \u001b[0;32min\u001b[0m \u001b[0mall_files\u001b[0m\u001b[0;34m)\u001b[0m\u001b[0;34m\u001b[0m\u001b[0;34m\u001b[0m\u001b[0m\n\u001b[1;32m      3\u001b[0m \u001b[0mdf_merged\u001b[0m \u001b[0;34m=\u001b[0m \u001b[0mpd\u001b[0m\u001b[0;34m.\u001b[0m\u001b[0mconcat\u001b[0m\u001b[0;34m(\u001b[0m\u001b[0mdf_from_each_file\u001b[0m\u001b[0;34m,\u001b[0m \u001b[0mignore_index\u001b[0m\u001b[0;34m=\u001b[0m\u001b[0;32mTrue\u001b[0m\u001b[0;34m)\u001b[0m\u001b[0;34m\u001b[0m\u001b[0;34m\u001b[0m\u001b[0m\n\u001b[1;32m      4\u001b[0m \u001b[0mdf_merged\u001b[0m\u001b[0;34m.\u001b[0m\u001b[0mto_csv\u001b[0m\u001b[0;34m(\u001b[0m \u001b[0;34m\"merged.csv\"\u001b[0m\u001b[0;34m)\u001b[0m\u001b[0;34m\u001b[0m\u001b[0;34m\u001b[0m\u001b[0m\n",
      "\u001b[0;31mNameError\u001b[0m: name 'glob' is not defined"
     ]
    }
   ],
   "source": [
    "all_files = glob.glob(os.path.join(\"*.csv\"))\n",
    "df_from_each_file = (pd.read_csv(f, sep=',') for f in all_files)\n",
    "df_merged = pd.concat(df_from_each_file, ignore_index=True)\n",
    "df_merged.to_csv( \"merged.csv\")"
   ]
  },
  {
   "cell_type": "code",
   "execution_count": null,
   "id": "06061f96",
   "metadata": {},
   "outputs": [],
   "source": [
    "import random\n",
    "\n",
    "filename = \"df_reduced.csv\" \n",
    "n = sum(1 for line in open(filename))-1  # Calculate number of rows in file\n",
    "s = n//50  # sample size of 2%\n",
    "skip = sorted(random.sample(range(1, n+1), n-s))  # n+1 to compensate for header "
   ]
  },
  {
   "cell_type": "code",
   "execution_count": null,
   "id": "c4b856fb",
   "metadata": {},
   "outputs": [],
   "source": [
    "dataframe = pd.read_csv(filename, skiprows=skip)"
   ]
  },
  {
   "cell_type": "code",
   "execution_count": null,
   "id": "964c25f3",
   "metadata": {},
   "outputs": [],
   "source": [
    "#fonts=dataframe.drop(columns=['Unnamed: 0'])"
   ]
  },
  {
   "cell_type": "code",
   "execution_count": null,
   "id": "04757825",
   "metadata": {},
   "outputs": [],
   "source": [
    "#fonts.info"
   ]
  },
  {
   "cell_type": "code",
   "execution_count": null,
   "id": "d6ee505b",
   "metadata": {},
   "outputs": [],
   "source": [
    "import matplotlib.pyplot as plt"
   ]
  },
  {
   "cell_type": "code",
   "execution_count": null,
   "id": "cbb27d53",
   "metadata": {},
   "outputs": [],
   "source": [
    "plt.figure(figsize=(5,5))\n",
    "plt.imshow(fonts.values[45,1:].reshape(20,20))\n",
    "plt.show();"
   ]
  },
  {
   "cell_type": "code",
   "execution_count": null,
   "id": "2e5fd8f2",
   "metadata": {},
   "outputs": [],
   "source": [
    "fonts.m_label.unique()"
   ]
  },
  {
   "cell_type": "code",
   "execution_count": null,
   "id": "ec5766ef",
   "metadata": {},
   "outputs": [],
   "source": [
    "input_shape=(20, 20, 1)"
   ]
  },
  {
   "cell_type": "code",
   "execution_count": null,
   "id": "4acbf068",
   "metadata": {},
   "outputs": [],
   "source": [
    "X=np.array(fonts.iloc[:, 2:])"
   ]
  },
  {
   "cell_type": "code",
   "execution_count": null,
   "id": "edaf8de9",
   "metadata": {},
   "outputs": [],
   "source": [
    "y=to_categorical(np.array(fonts.iloc[:,1]))"
   ]
  },
  {
   "cell_type": "code",
   "execution_count": null,
   "id": "f546dbff",
   "metadata": {},
   "outputs": [],
   "source": [
    "y.shape"
   ]
  },
  {
   "cell_type": "code",
   "execution_count": null,
   "id": "043ec49a",
   "metadata": {},
   "outputs": [],
   "source": [
    "from sklearn.model_selection import train_test_split as tts"
   ]
  },
  {
   "cell_type": "code",
   "execution_count": null,
   "id": "f04d6428",
   "metadata": {},
   "outputs": [],
   "source": [
    "X_train, X_test, y_train, y_test=tts(X, y)"
   ]
  },
  {
   "cell_type": "code",
   "execution_count": null,
   "id": "69e060d9",
   "metadata": {},
   "outputs": [],
   "source": [
    "X_train=X_train.reshape(X_train.shape[0], 20, 20, 1).astype('float32')/255\n",
    "\n",
    "X_test=X_test.reshape(X_test.shape[0], 20, 20, 1).astype('float32')/255"
   ]
  },
  {
   "cell_type": "code",
   "execution_count": null,
   "id": "f3d0e102",
   "metadata": {},
   "outputs": [],
   "source": [
    "batch=256\n",
    "n_clases=10\n",
    "epocas=200"
   ]
  },
  {
   "cell_type": "code",
   "execution_count": null,
   "id": "f49ed278",
   "metadata": {},
   "outputs": [],
   "source": [
    "y.shape"
   ]
  },
  {
   "cell_type": "markdown",
   "id": "3b7d9df6",
   "metadata": {},
   "source": [
    "### Model"
   ]
  },
  {
   "cell_type": "code",
   "execution_count": null,
   "id": "84884804",
   "metadata": {},
   "outputs": [],
   "source": [
    "from tensorflow.keras import Sequential\n",
    "from keras.layers import Flatten\n",
    "from keras.layers import Dense\n",
    "from keras.layers.convolutional import Conv1D, MaxPooling1D\n",
    "from keras.layers import Dropout\n",
    "from keras.layers.normalization import BatchNormalization"
   ]
  },
  {
   "cell_type": "code",
   "execution_count": null,
   "id": "af6cd613",
   "metadata": {},
   "outputs": [],
   "source": [
    "from tensorflow import keras"
   ]
  },
  {
   "cell_type": "code",
   "execution_count": null,
   "id": "2d0e425e",
   "metadata": {},
   "outputs": [],
   "source": [
    "modelo=Sequential()\n",
    "modelo.add(Conv2D(32, kernel_size=(3, 3), activation='relu',\n",
    "                  kernel_initializer='he_normal', input_shape=input_shape))\n",
    "\n",
    "modelo.add(MaxPooling2D((2,2)))\n",
    "modelo.add(Dropout(0.25))\n",
    "\n",
    "modelo.add(Conv2D(64, (3, 3), activation='relu'))\n",
    "modelo.add(MaxPooling2D((2,2)))\n",
    "modelo.add(Dropout(0.25))\n",
    "modelo.add(Conv2D(128, (3, 3), activation='relu'))\n",
    "modelo.add(Dropout(0.4))\n",
    "\n",
    "modelo.add(Flatten())\n",
    "modelo.add(Dense(128,  activation='relu'))\n",
    "modelo.add(Dropout(0.3))\n",
    "modelo.add(Dense(n_clases, activation='softmax'))\n",
    "\n",
    "\n",
    "modelo.compile(loss=keras.losses.categorical_crossentropy, \n",
    "               optimizer=keras.optimizers.Adam(), \n",
    "               metrics=['accuracy'])\n",
    "\n",
    "modelo.summary()"
   ]
  },
  {
   "cell_type": "code",
   "execution_count": null,
   "id": "7d9e359f",
   "metadata": {},
   "outputs": [],
   "source": [
    "historico=modelo.fit(X_train, y_train, batch_size=batch, epochs=epocas, verbose=0)"
   ]
  },
  {
   "cell_type": "code",
   "execution_count": null,
   "id": "63c6a269",
   "metadata": {},
   "outputs": [],
   "source": [
    "score=modelo.evaluate(X_test, y_test, verbose=0)"
   ]
  },
  {
   "cell_type": "code",
   "execution_count": null,
   "id": "01d7d7e6",
   "metadata": {},
   "outputs": [],
   "source": [
    "print ('Perdida testeo: ', score[0])\n",
    "print ('Accuracy testeo: ', score[1])"
   ]
  },
  {
   "cell_type": "code",
   "execution_count": null,
   "id": "fd0b7159",
   "metadata": {},
   "outputs": [],
   "source": [
    "acc=historico.history['accuracy']\n",
    "loss=historico.history['loss']\n",
    "\n",
    "epocas=range(len(acc))"
   ]
  }
 ],
 "metadata": {
  "kernelspec": {
   "display_name": "clase",
   "language": "python",
   "name": "clase"
  },
  "language_info": {
   "codemirror_mode": {
    "name": "ipython",
    "version": 3
   },
   "file_extension": ".py",
   "mimetype": "text/x-python",
   "name": "python",
   "nbconvert_exporter": "python",
   "pygments_lexer": "ipython3",
   "version": "3.8.8"
  }
 },
 "nbformat": 4,
 "nbformat_minor": 5
}
