{
 "cells": [
  {
   "cell_type": "markdown",
   "id": "b1c1dfd2",
   "metadata": {},
   "source": [
    "### Camera acces using Open CV"
   ]
  },
  {
   "cell_type": "code",
   "execution_count": 9,
   "id": "cba32829",
   "metadata": {},
   "outputs": [],
   "source": [
    "import cv2"
   ]
  },
  {
   "cell_type": "code",
   "execution_count": 10,
   "id": "4c7b620a",
   "metadata": {},
   "outputs": [
    {
     "ename": "IndentationError",
     "evalue": "expected an indented block (<ipython-input-10-e8836a69bee0>, line 8)",
     "output_type": "error",
     "traceback": [
      "\u001b[0;36m  File \u001b[0;32m\"<ipython-input-10-e8836a69bee0>\"\u001b[0;36m, line \u001b[0;32m8\u001b[0m\n\u001b[0;31m    print(“Could not open video device”)\u001b[0m\n\u001b[0m    ^\u001b[0m\n\u001b[0;31mIndentationError\u001b[0m\u001b[0;31m:\u001b[0m expected an indented block\n"
     ]
    }
   ],
   "source": [
    "# Open the device at the ID 0 \n",
    "cap = cv2.VideoCapture(0)\n",
    "\n",
    "#Check whether user selected camera is opened successfully.\n",
    "\n",
    "if not (cap.isOpened()):\n",
    "\n",
    "print(“Could not open video device”)"
   ]
  },
  {
   "cell_type": "code",
   "execution_count": 11,
   "id": "f7d29940",
   "metadata": {},
   "outputs": [
    {
     "ename": "NameError",
     "evalue": "name 'cap' is not defined",
     "output_type": "error",
     "traceback": [
      "\u001b[0;31m---------------------------------------------------------------------------\u001b[0m",
      "\u001b[0;31mNameError\u001b[0m                                 Traceback (most recent call last)",
      "\u001b[0;32m<ipython-input-11-a12339448900>\u001b[0m in \u001b[0;36m<module>\u001b[0;34m\u001b[0m\n\u001b[1;32m      1\u001b[0m \u001b[0;31m#To set the resolution\u001b[0m\u001b[0;34m\u001b[0m\u001b[0;34m\u001b[0m\u001b[0;34m\u001b[0m\u001b[0m\n\u001b[0;32m----> 2\u001b[0;31m \u001b[0mcap\u001b[0m\u001b[0;34m.\u001b[0m\u001b[0mset\u001b[0m\u001b[0;34m(\u001b[0m\u001b[0mcv2\u001b[0m\u001b[0;34m.\u001b[0m\u001b[0mcv\u001b[0m\u001b[0;34m.\u001b[0m\u001b[0mCV_CAP_PROP_FRAME_WIDTH\u001b[0m\u001b[0;34m,\u001b[0m \u001b[0;36m640\u001b[0m\u001b[0;34m)\u001b[0m\u001b[0;34m\u001b[0m\u001b[0;34m\u001b[0m\u001b[0m\n\u001b[0m\u001b[1;32m      3\u001b[0m \u001b[0;34m\u001b[0m\u001b[0m\n\u001b[1;32m      4\u001b[0m \u001b[0mcap\u001b[0m\u001b[0;34m.\u001b[0m\u001b[0mset\u001b[0m\u001b[0;34m(\u001b[0m\u001b[0mcv2\u001b[0m\u001b[0;34m.\u001b[0m\u001b[0mcv\u001b[0m\u001b[0;34m.\u001b[0m\u001b[0mCV_CAP_PROP_FRAME_HEIGHT\u001b[0m\u001b[0;34m,\u001b[0m \u001b[0;36m480\u001b[0m\u001b[0;34m)\u001b[0m\u001b[0;34m\u001b[0m\u001b[0;34m\u001b[0m\u001b[0m\n",
      "\u001b[0;31mNameError\u001b[0m: name 'cap' is not defined"
     ]
    }
   ],
   "source": [
    "#To set the resolution \n",
    "cap.set(cv2.cv.CV_CAP_PROP_FRAME_WIDTH, 640)\n",
    "\n",
    "cap.set(cv2.cv.CV_CAP_PROP_FRAME_HEIGHT, 480)"
   ]
  },
  {
   "cell_type": "code",
   "execution_count": null,
   "id": "3673077a",
   "metadata": {},
   "outputs": [],
   "source": [
    "while(True): \n",
    "# Capture frame-by-frame\n",
    "\n",
    "ret, frame = cap.read()\n",
    "\n",
    "# Display the resulting frame\n",
    "\n",
    "cv2.imshow(‘preview’,frame)\n",
    "\n",
    "#Waits for a user input to quit the application\n",
    "\n",
    "if cv2.waitKey(1) & 0xFF == ord(‘q’):\n",
    "\n",
    "break"
   ]
  },
  {
   "cell_type": "code",
   "execution_count": null,
   "id": "d3f1d3e7",
   "metadata": {},
   "outputs": [],
   "source": [
    "# When everything done, release the capture \n",
    "cap.release()\n",
    "\n",
    "cv2.destroyAllWindows()"
   ]
  },
  {
   "cell_type": "code",
   "execution_count": null,
   "id": "ad5cde96",
   "metadata": {},
   "outputs": [],
   "source": [
    "import cv2 \n",
    "# Open the device at the ID 0\n",
    "\n",
    "cap = cv2.VideoCapture(0)\n",
    "\n",
    "#Check whether user selected camera is opened successfully.\n",
    "\n",
    "if not (cap.isOpened()):\n",
    "\n",
    "print(“Could not open video device”)\n",
    "\n",
    "#To set the resolution\n",
    "\n",
    "cap.set(cv2.cv.CV_CAP_PROP_FRAME_WIDTH, 640)\n",
    "\n",
    "cap.set(cv2.cv.CV_CAP_PROP_FRAME_HEIGHT, 480)\n",
    "\n",
    "while(True):\n",
    "\n",
    "# Capture frame-by-frame\n",
    "\n",
    "ret, frame = cap.read()\n",
    "\n",
    "# Display the resulting frame\n",
    "\n",
    "cv2.imshow(‘preview’,frame)\n",
    "\n",
    "#Waits for a user input to quit the application\n",
    "\n",
    "if cv2.waitKey(1) & 0xFF == ord(‘q’):\n",
    "\n",
    "break\n",
    "\n",
    "# When everything done, release the capture\n",
    "\n",
    "cap.release()\n",
    "\n",
    "cv2.destroyAllWindows()"
   ]
  },
  {
   "cell_type": "code",
   "execution_count": 12,
   "id": "22bbc2a6",
   "metadata": {},
   "outputs": [
    {
     "ename": "SyntaxError",
     "evalue": "invalid syntax (<ipython-input-12-41452ff49756>, line 1)",
     "output_type": "error",
     "traceback": [
      "\u001b[0;36m  File \u001b[0;32m\"<ipython-input-12-41452ff49756>\"\u001b[0;36m, line \u001b[0;32m1\u001b[0m\n\u001b[0;31m    python2 camera_stream.py\u001b[0m\n\u001b[0m            ^\u001b[0m\n\u001b[0;31mSyntaxError\u001b[0m\u001b[0;31m:\u001b[0m invalid syntax\n"
     ]
    }
   ],
   "source": [
    "python2 camera_stream.py"
   ]
  },
  {
   "cell_type": "code",
   "execution_count": 13,
   "id": "39898c96",
   "metadata": {},
   "outputs": [
    {
     "ename": "OSError",
     "evalue": "Cannot open webcam",
     "output_type": "error",
     "traceback": [
      "\u001b[0;31m---------------------------------------------------------------------------\u001b[0m",
      "\u001b[0;31mOSError\u001b[0m                                   Traceback (most recent call last)",
      "\u001b[0;32m<ipython-input-13-fc496756e3aa>\u001b[0m in \u001b[0;36m<module>\u001b[0;34m\u001b[0m\n\u001b[1;32m      5\u001b[0m \u001b[0;31m# Check if the webcam is opened correctly\u001b[0m\u001b[0;34m\u001b[0m\u001b[0;34m\u001b[0m\u001b[0;34m\u001b[0m\u001b[0m\n\u001b[1;32m      6\u001b[0m \u001b[0;32mif\u001b[0m \u001b[0;32mnot\u001b[0m \u001b[0mcap\u001b[0m\u001b[0;34m.\u001b[0m\u001b[0misOpened\u001b[0m\u001b[0;34m(\u001b[0m\u001b[0;34m)\u001b[0m\u001b[0;34m:\u001b[0m\u001b[0;34m\u001b[0m\u001b[0;34m\u001b[0m\u001b[0m\n\u001b[0;32m----> 7\u001b[0;31m     \u001b[0;32mraise\u001b[0m \u001b[0mIOError\u001b[0m\u001b[0;34m(\u001b[0m\u001b[0;34m\"Cannot open webcam\"\u001b[0m\u001b[0;34m)\u001b[0m\u001b[0;34m\u001b[0m\u001b[0;34m\u001b[0m\u001b[0m\n\u001b[0m\u001b[1;32m      8\u001b[0m \u001b[0;34m\u001b[0m\u001b[0m\n\u001b[1;32m      9\u001b[0m \u001b[0;32mwhile\u001b[0m \u001b[0;32mTrue\u001b[0m\u001b[0;34m:\u001b[0m\u001b[0;34m\u001b[0m\u001b[0;34m\u001b[0m\u001b[0m\n",
      "\u001b[0;31mOSError\u001b[0m: Cannot open webcam"
     ]
    }
   ],
   "source": [
    "import cv2\n",
    "\n",
    "cap = cv2.VideoCapture(0)\n",
    "\n",
    "# Check if the webcam is opened correctly\n",
    "if not cap.isOpened():\n",
    "    raise IOError(\"Cannot open webcam\")\n",
    "\n",
    "while True:\n",
    "    ret, frame = cap.read()\n",
    "    frame = cv2.resize(frame, None, fx=0.5, fy=0.5, interpolation=cv2.INTER_AREA)\n",
    "    cv2.imshow('Input', frame)\n",
    "\n",
    "    c = cv2.waitKey(1)\n",
    "    if c == 27:\n",
    "        break\n",
    "\n",
    "cap.release()\n",
    "cv2.destroyAllWindows()"
   ]
  }
 ],
 "metadata": {
  "kernelspec": {
   "display_name": "clase",
   "language": "python",
   "name": "clase"
  },
  "language_info": {
   "codemirror_mode": {
    "name": "ipython",
    "version": 3
   },
   "file_extension": ".py",
   "mimetype": "text/x-python",
   "name": "python",
   "nbconvert_exporter": "python",
   "pygments_lexer": "ipython3",
   "version": "3.8.8"
  }
 },
 "nbformat": 4,
 "nbformat_minor": 5
}
