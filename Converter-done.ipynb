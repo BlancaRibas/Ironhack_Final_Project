{
 "cells": [
  {
   "cell_type": "markdown",
   "id": "242e77fd",
   "metadata": {},
   "source": [
    "### Currency converter"
   ]
  },
  {
   "cell_type": "code",
   "execution_count": 1,
   "id": "027d67c4",
   "metadata": {},
   "outputs": [
    {
     "name": "stdout",
     "output_type": "stream",
     "text": [
      "Collecting google-currency\n",
      "  Downloading google_currency-1.0.9-py3-none-any.whl (6.0 kB)\n",
      "Requirement already satisfied: requests in /home/bribas/anaconda3/envs/clase/lib/python3.8/site-packages (from google-currency) (2.25.1)\n",
      "Requirement already satisfied: chardet<5,>=3.0.2 in /home/bribas/anaconda3/envs/clase/lib/python3.8/site-packages (from requests->google-currency) (4.0.0)\n",
      "Requirement already satisfied: urllib3<1.27,>=1.21.1 in /home/bribas/anaconda3/envs/clase/lib/python3.8/site-packages (from requests->google-currency) (1.26.4)\n",
      "Requirement already satisfied: idna<3,>=2.5 in /home/bribas/anaconda3/envs/clase/lib/python3.8/site-packages (from requests->google-currency) (2.10)\n",
      "Requirement already satisfied: certifi>=2017.4.17 in /home/bribas/anaconda3/envs/clase/lib/python3.8/site-packages (from requests->google-currency) (2020.12.5)\n",
      "Installing collected packages: google-currency\n",
      "Successfully installed google-currency-1.0.9\n",
      "Note: you may need to restart the kernel to use updated packages.\n"
     ]
    }
   ],
   "source": [
    "pip install google-currency"
   ]
  },
  {
   "cell_type": "code",
   "execution_count": 2,
   "id": "50a0ab57",
   "metadata": {},
   "outputs": [
    {
     "data": {
      "text/plain": [
       "'{\"from\": \"USD\", \"to\": \"INR\", \"amount\": \"74.17\", \"converted\": true}'"
      ]
     },
     "execution_count": 2,
     "metadata": {},
     "output_type": "execute_result"
    }
   ],
   "source": [
    "from google_currency import convert  \n",
    "\n",
    "convert('usd', 'inr', 1)  "
   ]
  },
  {
   "cell_type": "code",
   "execution_count": 5,
   "id": "6908a71f",
   "metadata": {},
   "outputs": [
    {
     "data": {
      "text/plain": [
       "'{\"from\": \"EUR\", \"to\": \"USD\", \"amount\": \"11.93\", \"converted\": true}'"
      ]
     },
     "execution_count": 5,
     "metadata": {},
     "output_type": "execute_result"
    }
   ],
   "source": [
    "convert('eur', 'usd', 10)"
   ]
  }
 ],
 "metadata": {
  "kernelspec": {
   "display_name": "clase",
   "language": "python",
   "name": "clase"
  },
  "language_info": {
   "codemirror_mode": {
    "name": "ipython",
    "version": 3
   },
   "file_extension": ".py",
   "mimetype": "text/x-python",
   "name": "python",
   "nbconvert_exporter": "python",
   "pygments_lexer": "ipython3",
   "version": "3.8.8"
  }
 },
 "nbformat": 4,
 "nbformat_minor": 5
}
