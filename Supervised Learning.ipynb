{
 "cells": [
  {
   "cell_type": "markdown",
   "id": "911e8019",
   "metadata": {},
   "source": [
    "## MODEL GENERATOR: SUPERVISED MACHINE LEARNING"
   ]
  },
  {
   "cell_type": "markdown",
   "id": "9e2f5711",
   "metadata": {},
   "source": [
    "+ Import libraries"
   ]
  },
  {
   "cell_type": "code",
   "execution_count": 4,
   "id": "d976c4d4",
   "metadata": {},
   "outputs": [
    {
     "name": "stdout",
     "output_type": "stream",
     "text": [
      "Start...\n",
      "\n",
      "Model SoftMax (MLR) : Numbers\n"
     ]
    }
   ],
   "source": [
    "import time                                                 # para tiempo\n",
    "inicio=time.time()                                          # momento inicial\n",
    "print ('Start...\\n')\n",
    "print ('Model SoftMax (MLR) : Numbers')    \n",
    "import pandas as pd                                         # dataframe\n",
    "import numpy as np                                          # numerical python, algebra lineal\n",
    "\n",
    "import matplotlib.pyplot as plt                             # plots, graficos\n",
    "import seaborn as sns                                       # plots\n",
    "%matplotlib inline\n",
    "\n",
    "from sklearn.metrics import confusion_matrix                # metricas, matriz de confusion\n",
    "from scipy.optimize import minimize                         # minimizar, opt\n",
    "\n",
    "from sklearn.datasets import make_circles, load_boston      # datasets\n",
    "from sklearn.model_selection import train_test_split as tts"
   ]
  },
  {
   "cell_type": "code",
   "execution_count": 5,
   "id": "199f8bab",
   "metadata": {},
   "outputs": [],
   "source": [
    "from sklearn.model_selection import GridSearchCV\n",
    "from sklearn.model_selection import RandomizedSearchCV\n",
    "\n",
    "import warnings                                             # avisos\n",
    "warnings.filterwarnings('ignore', category=RuntimeWarning)  # elimino un warning por valores NaN en logaritmos o /0"
   ]
  },
  {
   "cell_type": "markdown",
   "id": "b0b40964",
   "metadata": {},
   "source": [
    "+ Import dataframe"
   ]
  },
  {
   "cell_type": "code",
   "execution_count": null,
   "id": "41ed7760",
   "metadata": {},
   "outputs": [],
   "source": [
    "df = pd.read_csv('DF.csv')"
   ]
  },
  {
   "cell_type": "markdown",
   "id": "df62d157",
   "metadata": {},
   "source": [
    "+ Normalize data"
   ]
  },
  {
   "cell_type": "code",
   "execution_count": 4,
   "id": "00973135",
   "metadata": {},
   "outputs": [],
   "source": [
    "def normalizador(X):                # normalizador de X\n",
    "    X_media=X.mean(axis=0)          # media de X\n",
    "    X_std=X.std(axis=0)             # desviacion estandar de X\n",
    "    X_std[X_std==0]=1.0             # si hay alguna std=0 ponla a 1\n",
    "    X=(X-X_media)/X_std             # normaliza\n",
    "    \n",
    "    X=np.insert(X, 0, 1, axis=1)    # esta linea añade una columna de 1, feature engineering [1, f1, f2.., fn, f1f2...] (mejora un 10%)\n",
    "    \n",
    "    return X"
   ]
  },
  {
   "cell_type": "markdown",
   "id": "d9522843",
   "metadata": {},
   "source": [
    "+ Data matrix defined"
   ]
  },
  {
   "cell_type": "code",
   "execution_count": 5,
   "id": "c89b8f4f",
   "metadata": {},
   "outputs": [
    {
     "name": "stdout",
     "output_type": "stream",
     "text": [
      "Data matrix dimensions: (832670, 401)\n"
     ]
    }
   ],
   "source": [
    "data_matrix=df.values   \n",
    "print ('Data matrix dimensions: {}'.format(data_matrix.shape))"
   ]
  },
  {
   "cell_type": "markdown",
   "id": "a1e385ec",
   "metadata": {},
   "source": [
    "+ Visualize pictures"
   ]
  },
  {
   "cell_type": "code",
   "execution_count": 6,
   "id": "42e25637",
   "metadata": {},
   "outputs": [
    {
     "data": {
      "image/png": "[encoded data removed]",
      "text/plain": [
       "<Figure size 360x360 with 1 Axes>"
      ]
     },
     "metadata": {
      "needs_background": "light"
     },
     "output_type": "display_data"
    }
   ],
   "source": [
    "plt.figure(figsize=(5,5))\n",
    "plt.imshow(data_matrix[800,1:].reshape(20,20))  \n",
    "plt.show()"
   ]
  },
  {
   "cell_type": "markdown",
   "id": "c0c67e45",
   "metadata": {},
   "source": [
    "+ Creation of the dependent variable: Y matrix \n",
    "\n",
    "+ Variable to be predicted \n",
    "+ (onehot)"
   ]
  },
  {
   "cell_type": "code",
   "execution_count": 7,
   "id": "f97a3e1b",
   "metadata": {},
   "outputs": [
    {
     "data": {
      "text/html": [
       "<div>\n",
       "<style scoped>\n",
       "    .dataframe tbody tr th:only-of-type {\n",
       "        vertical-align: middle;\n",
       "    }\n",
       "\n",
       "    .dataframe tbody tr th {\n",
       "        vertical-align: top;\n",
       "    }\n",
       "\n",
       "    .dataframe thead th {\n",
       "        text-align: right;\n",
       "    }\n",
       "</style>\n",
       "<table border=\"1\" class=\"dataframe\">\n",
       "  <thead>\n",
       "    <tr style=\"text-align: right;\">\n",
       "      <th></th>\n",
       "      <th>m_label</th>\n",
       "      <th>r0c0</th>\n",
       "      <th>r0c1</th>\n",
       "      <th>r0c2</th>\n",
       "      <th>r0c3</th>\n",
       "      <th>r0c4</th>\n",
       "      <th>r0c5</th>\n",
       "      <th>r0c6</th>\n",
       "      <th>r0c7</th>\n",
       "      <th>r0c8</th>\n",
       "      <th>...</th>\n",
       "      <th>r19c10</th>\n",
       "      <th>r19c11</th>\n",
       "      <th>r19c12</th>\n",
       "      <th>r19c13</th>\n",
       "      <th>r19c14</th>\n",
       "      <th>r19c15</th>\n",
       "      <th>r19c16</th>\n",
       "      <th>r19c17</th>\n",
       "      <th>r19c18</th>\n",
       "      <th>r19c19</th>\n",
       "    </tr>\n",
       "  </thead>\n",
       "  <tbody>\n",
       "    <tr>\n",
       "      <th>0</th>\n",
       "      <td>64258</td>\n",
       "      <td>1</td>\n",
       "      <td>1</td>\n",
       "      <td>1</td>\n",
       "      <td>21</td>\n",
       "      <td>101</td>\n",
       "      <td>210</td>\n",
       "      <td>255</td>\n",
       "      <td>255</td>\n",
       "      <td>255</td>\n",
       "      <td>...</td>\n",
       "      <td>1</td>\n",
       "      <td>1</td>\n",
       "      <td>1</td>\n",
       "      <td>1</td>\n",
       "      <td>1</td>\n",
       "      <td>1</td>\n",
       "      <td>163</td>\n",
       "      <td>255</td>\n",
       "      <td>255</td>\n",
       "      <td>255</td>\n",
       "    </tr>\n",
       "    <tr>\n",
       "      <th>1</th>\n",
       "      <td>64257</td>\n",
       "      <td>1</td>\n",
       "      <td>1</td>\n",
       "      <td>1</td>\n",
       "      <td>21</td>\n",
       "      <td>101</td>\n",
       "      <td>210</td>\n",
       "      <td>255</td>\n",
       "      <td>255</td>\n",
       "      <td>255</td>\n",
       "      <td>...</td>\n",
       "      <td>1</td>\n",
       "      <td>1</td>\n",
       "      <td>1</td>\n",
       "      <td>1</td>\n",
       "      <td>1</td>\n",
       "      <td>1</td>\n",
       "      <td>163</td>\n",
       "      <td>255</td>\n",
       "      <td>255</td>\n",
       "      <td>255</td>\n",
       "    </tr>\n",
       "    <tr>\n",
       "      <th>2</th>\n",
       "      <td>61442</td>\n",
       "      <td>1</td>\n",
       "      <td>1</td>\n",
       "      <td>1</td>\n",
       "      <td>21</td>\n",
       "      <td>101</td>\n",
       "      <td>210</td>\n",
       "      <td>255</td>\n",
       "      <td>255</td>\n",
       "      <td>255</td>\n",
       "      <td>...</td>\n",
       "      <td>1</td>\n",
       "      <td>1</td>\n",
       "      <td>1</td>\n",
       "      <td>1</td>\n",
       "      <td>1</td>\n",
       "      <td>1</td>\n",
       "      <td>163</td>\n",
       "      <td>255</td>\n",
       "      <td>255</td>\n",
       "      <td>255</td>\n",
       "    </tr>\n",
       "    <tr>\n",
       "      <th>3</th>\n",
       "      <td>61441</td>\n",
       "      <td>1</td>\n",
       "      <td>1</td>\n",
       "      <td>1</td>\n",
       "      <td>21</td>\n",
       "      <td>101</td>\n",
       "      <td>210</td>\n",
       "      <td>255</td>\n",
       "      <td>255</td>\n",
       "      <td>255</td>\n",
       "      <td>...</td>\n",
       "      <td>1</td>\n",
       "      <td>1</td>\n",
       "      <td>1</td>\n",
       "      <td>1</td>\n",
       "      <td>1</td>\n",
       "      <td>1</td>\n",
       "      <td>163</td>\n",
       "      <td>255</td>\n",
       "      <td>255</td>\n",
       "      <td>255</td>\n",
       "    </tr>\n",
       "    <tr>\n",
       "      <th>4</th>\n",
       "      <td>9674</td>\n",
       "      <td>1</td>\n",
       "      <td>1</td>\n",
       "      <td>1</td>\n",
       "      <td>1</td>\n",
       "      <td>1</td>\n",
       "      <td>1</td>\n",
       "      <td>1</td>\n",
       "      <td>1</td>\n",
       "      <td>132</td>\n",
       "      <td>...</td>\n",
       "      <td>255</td>\n",
       "      <td>132</td>\n",
       "      <td>1</td>\n",
       "      <td>1</td>\n",
       "      <td>1</td>\n",
       "      <td>1</td>\n",
       "      <td>1</td>\n",
       "      <td>1</td>\n",
       "      <td>1</td>\n",
       "      <td>1</td>\n",
       "    </tr>\n",
       "  </tbody>\n",
       "</table>\n",
       "<p>5 rows × 401 columns</p>\n",
       "</div>"
      ],
      "text/plain": [
       "   m_label  r0c0  r0c1  r0c2  r0c3  r0c4  r0c5  r0c6  r0c7  r0c8  ...  r19c10  \\\n",
       "0    64258     1     1     1    21   101   210   255   255   255  ...       1   \n",
       "1    64257     1     1     1    21   101   210   255   255   255  ...       1   \n",
       "2    61442     1     1     1    21   101   210   255   255   255  ...       1   \n",
       "3    61441     1     1     1    21   101   210   255   255   255  ...       1   \n",
       "4     9674     1     1     1     1     1     1     1     1   132  ...     255   \n",
       "\n",
       "   r19c11  r19c12  r19c13  r19c14  r19c15  r19c16  r19c17  r19c18  r19c19  \n",
       "0       1       1       1       1       1     163     255     255     255  \n",
       "1       1       1       1       1       1     163     255     255     255  \n",
       "2       1       1       1       1       1     163     255     255     255  \n",
       "3       1       1       1       1       1     163     255     255     255  \n",
       "4     132       1       1       1       1       1       1       1       1  \n",
       "\n",
       "[5 rows x 401 columns]"
      ]
     },
     "execution_count": 7,
     "metadata": {},
     "output_type": "execute_result"
    }
   ],
   "source": [
    "df.head()"
   ]
  },
  {
   "cell_type": "code",
   "execution_count": 8,
   "id": "7b2d2027",
   "metadata": {},
   "outputs": [
    {
     "name": "stdout",
     "output_type": "stream",
     "text": [
      "Y dimension: (832670, 10)\n",
      "\n",
      "[[0. 0. 0. 0. 0. 0. 0. 0. 0. 0.]\n",
      " [0. 0. 0. 0. 0. 0. 0. 0. 0. 0.]\n",
      " [0. 0. 0. 0. 0. 0. 0. 0. 0. 0.]\n",
      " [0. 0. 0. 0. 0. 0. 0. 0. 0. 0.]\n",
      " [0. 0. 0. 0. 0. 0. 0. 0. 0. 0.]\n",
      " [0. 0. 0. 0. 0. 0. 0. 0. 0. 0.]\n",
      " [0. 0. 0. 0. 0. 0. 0. 0. 0. 0.]\n",
      " [0. 0. 0. 0. 0. 0. 0. 0. 0. 0.]\n",
      " [0. 0. 0. 0. 0. 0. 0. 0. 0. 0.]\n",
      " [0. 0. 0. 0. 0. 0. 0. 0. 0. 0.]]\n"
     ]
    }
   ],
   "source": [
    "Y=np.zeros((data_matrix.shape[0],10))   \n",
    "print ('Y dimension: {}'.format(Y.shape))  \n",
    "print ('')\n",
    "for i in range(10):\n",
    "    Y[:,i]=np.where(data_matrix[:,0]==i,1,0)\n",
    "print(Y[0:10,:]) # first 10 rows"
   ]
  },
  {
   "cell_type": "markdown",
   "id": "8e746235",
   "metadata": {},
   "source": [
    "+ Separate tag columns and remove columns that contain 0"
   ]
  },
  {
   "cell_type": "code",
   "execution_count": 9,
   "id": "8178dbc7",
   "metadata": {},
   "outputs": [
    {
     "name": "stdout",
     "output_type": "stream",
     "text": [
      "Original dimension of X: (832670, 400)\n",
      "\n",
      "Clean dimension of X: (832670, 400)\n"
     ]
    }
   ],
   "source": [
    "tags=data_matrix[:,0]        \n",
    "X=data_matrix[:,1:]              \n",
    "print ('Original dimension of X: {}'.format(X.shape)) \n",
    "print ('')\n",
    "X=X[:,X.sum(axis=0)!=0]            \n",
    "print ('Clean dimension of X: {}'.format(X.shape))"
   ]
  },
  {
   "cell_type": "markdown",
   "id": "a0b6b168",
   "metadata": {},
   "source": [
    "+ Divide data between train and test"
   ]
  },
  {
   "cell_type": "code",
   "execution_count": 10,
   "id": "fb82f707",
   "metadata": {},
   "outputs": [
    {
     "name": "stdout",
     "output_type": "stream",
     "text": [
      "Train dimensions: X=(30000, 400), Y=(30000, 10)\n",
      "\n",
      "Test dimensions: X=(802670, 400), Y=(802670, 10)\n"
     ]
    }
   ],
   "source": [
    "X_train, Y_train=X[0:30000,:], Y[0:30000,:]        \n",
    "X_train_sk=X_train.copy()                         \n",
    "\n",
    "X_test, Y_test=X[30000:,:], Y[30000:,:]            \n",
    "X_test_sk=X_test.copy()                            \n",
    "\n",
    "print ('Train dimensions: X={}, Y={}'.format(X_train.shape, Y_train.shape))  \n",
    "print ('')\n",
    "print ('Test dimensions: X={}, Y={}'.format(X_test.shape, Y_test.shape))"
   ]
  },
  {
   "cell_type": "markdown",
   "id": "7eeeaca3",
   "metadata": {},
   "source": [
    "+ Train & Test tags"
   ]
  },
  {
   "cell_type": "code",
   "execution_count": 11,
   "id": "84025928",
   "metadata": {},
   "outputs": [
    {
     "name": "stdout",
     "output_type": "stream",
     "text": [
      "Train tags dimensions: (30000,)\n",
      "\n",
      "Test tags dimensions: (802670,)\n"
     ]
    }
   ],
   "source": [
    "train_tags=tags[0:30000]       \n",
    "test_tags=tags[30000:]        \n",
    "\n",
    "print ('Train tags dimensions: {}'.format(train_tags.shape))\n",
    "print ('')\n",
    "print ('Test tags dimensions: {}'.format(test_tags.shape))"
   ]
  },
  {
   "cell_type": "markdown",
   "id": "54742df0",
   "metadata": {},
   "source": [
    "+ Optimal parameters search for  10 models"
   ]
  },
  {
   "cell_type": "code",
   "execution_count": 12,
   "id": "a606e71c",
   "metadata": {},
   "outputs": [],
   "source": [
    "initial_val=np.random.rand(X_train.shape[1]) \n",
    "\n",
    "A_opt=np.zeros((X_train.shape[1],10))        "
   ]
  },
  {
   "cell_type": "markdown",
   "id": "3386dc88",
   "metadata": {},
   "source": [
    "+ Regularization L2."
   ]
  },
  {
   "cell_type": "code",
   "execution_count": 13,
   "id": "74afa2a2",
   "metadata": {},
   "outputs": [],
   "source": [
    "#gridsearching obtained value\n",
    "lambda_reg=100."
   ]
  },
  {
   "cell_type": "markdown",
   "id": "29004781",
   "metadata": {},
   "source": [
    "+ Optimization"
   ]
  },
  {
   "cell_type": "code",
   "execution_count": 14,
   "id": "1b027f5b",
   "metadata": {},
   "outputs": [],
   "source": [
    "def coste(X,a,y,lambda_reg):              # funcion coste, funcion a minimizar \n",
    "    return -(np.sum(np.log(f(X,a)))+np.dot((y-1).T,(np.dot(X,a))))/y.size + lambda_reg/(2.0*y.size)*np.dot(a[1:],a[1:])"
   ]
  },
  {
   "cell_type": "code",
   "execution_count": 15,
   "id": "62ab51cc",
   "metadata": {},
   "outputs": [],
   "source": [
    "def f(X,a):                                 # funcion logistica, sigmoide, funcion del modelo, con z=X*alfa, el producto escalar\n",
    "    return 1.0/(1.0+np.exp(-np.dot(X,a)))   # Boltzmann con pivote, alfa[i]=0"
   ]
  },
  {
   "cell_type": "code",
   "execution_count": 16,
   "id": "2c5fac76",
   "metadata": {},
   "outputs": [],
   "source": [
    "def grad_coste(X,a,y,lambda_reg):          # gradiente de la funcion coste con regularizacion\n",
    "    return (np.dot(X.T,(f(X,a)-y)))/y.size + lambda_reg/(2.0*y.size)*np.concatenate(([0], a[1:])).T"
   ]
  },
  {
   "cell_type": "code",
   "execution_count": 17,
   "id": "781e20ee",
   "metadata": {},
   "outputs": [
    {
     "name": "stdout",
     "output_type": "stream",
     "text": [
      "\n",
      "\n",
      "Optimizando 0 frente al resto.\n",
      "Optimizacion trust-constr...\n",
      "`xtol` termination condition is satisfied.\n",
      "Number of iterations: 29, function evaluations: 29, CG iterations: 28, optimality: 1.71e+02, constraint violation: 0.00e+00, execution time: 2.5e+01 s.\n",
      "Hecho.\n",
      "Tiempo optimizacion: 26.01 segundos.\n",
      "\n",
      "\n",
      "Optimizando 1 frente al resto.\n",
      "Optimizacion trust-constr...\n",
      "`xtol` termination condition is satisfied.\n",
      "Number of iterations: 29, function evaluations: 29, CG iterations: 28, optimality: 1.71e+02, constraint violation: 0.00e+00, execution time: 2.4e+01 s.\n",
      "Hecho.\n",
      "Tiempo optimizacion: 25.13 segundos.\n",
      "\n",
      "\n",
      "Optimizando 2 frente al resto.\n",
      "Optimizacion trust-constr...\n",
      "`xtol` termination condition is satisfied.\n",
      "Number of iterations: 29, function evaluations: 29, CG iterations: 28, optimality: 1.71e+02, constraint violation: 0.00e+00, execution time: 2.8e+01 s.\n",
      "Hecho.\n",
      "Tiempo optimizacion: 29.29 segundos.\n",
      "\n",
      "\n",
      "Optimizando 3 frente al resto.\n",
      "Optimizacion trust-constr...\n",
      "`xtol` termination condition is satisfied.\n",
      "Number of iterations: 29, function evaluations: 29, CG iterations: 28, optimality: 1.71e+02, constraint violation: 0.00e+00, execution time: 2.6e+01 s.\n",
      "Hecho.\n",
      "Tiempo optimizacion: 26.49 segundos.\n",
      "\n",
      "\n",
      "Optimizando 4 frente al resto.\n",
      "Optimizacion trust-constr...\n",
      "`xtol` termination condition is satisfied.\n",
      "Number of iterations: 29, function evaluations: 29, CG iterations: 28, optimality: 1.71e+02, constraint violation: 0.00e+00, execution time: 2.6e+01 s.\n",
      "Hecho.\n",
      "Tiempo optimizacion: 26.83 segundos.\n",
      "\n",
      "\n",
      "Optimizando 5 frente al resto.\n",
      "Optimizacion trust-constr...\n",
      "`xtol` termination condition is satisfied.\n",
      "Number of iterations: 29, function evaluations: 29, CG iterations: 28, optimality: 1.71e+02, constraint violation: 0.00e+00, execution time: 2.4e+01 s.\n",
      "Hecho.\n",
      "Tiempo optimizacion: 25.05 segundos.\n",
      "\n",
      "\n",
      "Optimizando 6 frente al resto.\n",
      "Optimizacion trust-constr...\n",
      "`xtol` termination condition is satisfied.\n",
      "Number of iterations: 29, function evaluations: 29, CG iterations: 28, optimality: 1.71e+02, constraint violation: 0.00e+00, execution time: 2.9e+01 s.\n",
      "Hecho.\n",
      "Tiempo optimizacion: 29.89 segundos.\n",
      "\n",
      "\n",
      "Optimizando 7 frente al resto.\n",
      "Optimizacion trust-constr...\n",
      "`xtol` termination condition is satisfied.\n",
      "Number of iterations: 29, function evaluations: 29, CG iterations: 28, optimality: 1.71e+02, constraint violation: 0.00e+00, execution time: 2.5e+01 s.\n",
      "Hecho.\n",
      "Tiempo optimizacion: 25.87 segundos.\n",
      "\n",
      "\n",
      "Optimizando 8 frente al resto.\n",
      "Optimizacion trust-constr...\n",
      "`xtol` termination condition is satisfied.\n",
      "Number of iterations: 29, function evaluations: 29, CG iterations: 28, optimality: 1.71e+02, constraint violation: 0.00e+00, execution time: 2.6e+01 s.\n",
      "Hecho.\n",
      "Tiempo optimizacion: 26.89 segundos.\n",
      "\n",
      "\n",
      "Optimizando 9 frente al resto.\n",
      "Optimizacion trust-constr...\n",
      "`xtol` termination condition is satisfied.\n",
      "Number of iterations: 29, function evaluations: 29, CG iterations: 28, optimality: 1.71e+02, constraint violation: 0.00e+00, execution time: 2.6e+01 s.\n",
      "Hecho.\n",
      "Tiempo optimizacion: 26.48 segundos.\n",
      "\n",
      "Tiempo total optimizacion custom: 267.92 segundos.\n",
      "\n"
     ]
    }
   ],
   "source": [
    "inicio_opt=time.time()                       # inicio optimizacion\n",
    "for i in range(10):\n",
    "    print ('\\n\\nOptimizando {} frente al resto.'.format(i))\n",
    "\n",
    "    def opt_coste(a):                        # funcion a minimizar\n",
    "        return coste(X_train, a, Y_train[:,i], lambda_reg) \n",
    "\n",
    "    def opt_grad_coste(a):                   # gradiente \n",
    "        return grad_coste(X_train, a, Y_train[:,i], lambda_reg)\t\n",
    "\n",
    "    # metodo Nelder-Mead, Powell, CG, BFGS, Newton-CG, L-BFGS-B, TNC, COBYLA, SLSQP, trust-constr, \n",
    "    # dogleg, trust-ncg, trust-exact, trust-krylov (tambien custom)            \n",
    "    metodo='trust-constr'\n",
    "    print ('Optimizacion {}...'.format(metodo)) # minimizacion, optimizacion\n",
    "    i_opt=time.time() \n",
    "    modelo=minimize(opt_coste, initial_val, method=metodo, jac=opt_grad_coste, tol=1e-4, options={'disp':True}) \n",
    "    print ('Hecho.')\n",
    "    print (\"Tiempo optimizacion: {:.2f} segundos.\" .format(time.time()-i_opt))  \n",
    "    A_opt[:,i]=modelo.x\n",
    "\n",
    "t_custom=time.time()-inicio_opt   # tiempo desde inicio hasta final minimizacion\n",
    "print ('\\nTiempo total optimizacion custom: {:.2f} segundos.\\n' .format(t_custom))"
   ]
  },
  {
   "cell_type": "markdown",
   "id": "edee652c",
   "metadata": {},
   "source": [
    "+ Model check"
   ]
  },
  {
   "cell_type": "code",
   "execution_count": 18,
   "id": "c00f6038",
   "metadata": {},
   "outputs": [],
   "source": [
    "y_pred=[]                  # etiquetas predichas\n",
    "y_prob=[]                  # probabilidades de las etiquetas predichas\n",
    "\n",
    "def resumen(datos):        # testeo\n",
    "    for e in datos:\n",
    "        nombre, etiqueta, Xs=e         \n",
    "        etiq=etiqueta.size\n",
    "        probs=np.zeros((etiq,2))      # etiquetas con su probabilidad\n",
    "        cuenta=0                      # conteo de aciertos\n",
    "        for muestra in range(etiq): \n",
    "            for n in range(10):\n",
    "                alfa=A_opt[:,n]       # parametros de softmax\n",
    "                probs[n,0]=n\n",
    "                probs[n,1]=f(Xs[muestra,:],alfa)      # evaluacion de la prediccion\n",
    "                \n",
    "            probs=probs[probs[:,1].argsort()[::-1]]   # se pone la prob mas alta al principio\n",
    "            y_pred.append(probs[0,0])\n",
    "            y_prob.append(probs[0,1])\n",
    "            if probs[0,0]==etiqueta[muestra]:         # si se acierta +1\n",
    "                cuenta+=1\n",
    "        print (\"\\n{}\".format(nombre))\n",
    "        print (\"{} correctos de {} ==> {:.4}% correcto\".format(cuenta, etiq, cuenta/etiq*100))"
   ]
  },
  {
   "cell_type": "markdown",
   "id": "3e571b3c",
   "metadata": {},
   "source": [
    "+ Outcome train & test Custom."
   ]
  },
  {
   "cell_type": "code",
   "execution_count": 19,
   "id": "aa9e4bdc",
   "metadata": {},
   "outputs": [
    {
     "name": "stdout",
     "output_type": "stream",
     "text": [
      "\n",
      "Training  :\n",
      "0 correctos de 30000 ==> 0.0% correcto\n"
     ]
    },
    {
     "ename": "KeyboardInterrupt",
     "evalue": "",
     "output_type": "error",
     "traceback": [
      "\u001b[0;31m---------------------------------------------------------------------------\u001b[0m",
      "\u001b[0;31mKeyboardInterrupt\u001b[0m                         Traceback (most recent call last)",
      "\u001b[0;32m<ipython-input-19-0d0f4afff5ef>\u001b[0m in \u001b[0;36m<module>\u001b[0;34m\u001b[0m\n\u001b[1;32m      1\u001b[0m \u001b[0mresumen\u001b[0m\u001b[0;34m(\u001b[0m\u001b[0;34m[\u001b[0m\u001b[0;34m(\u001b[0m\u001b[0;34m'Training  :'\u001b[0m\u001b[0;34m,\u001b[0m \u001b[0mtrain_tags\u001b[0m\u001b[0;34m,\u001b[0m \u001b[0mX_train\u001b[0m\u001b[0;34m)\u001b[0m\u001b[0;34m]\u001b[0m\u001b[0;34m)\u001b[0m\u001b[0;34m\u001b[0m\u001b[0;34m\u001b[0m\u001b[0m\n\u001b[0;32m----> 2\u001b[0;31m \u001b[0mresumen\u001b[0m\u001b[0;34m(\u001b[0m\u001b[0;34m[\u001b[0m\u001b[0;34m(\u001b[0m\u001b[0;34m'Test  :'\u001b[0m\u001b[0;34m,\u001b[0m \u001b[0mtest_tags\u001b[0m\u001b[0;34m,\u001b[0m \u001b[0mX_test\u001b[0m\u001b[0;34m)\u001b[0m\u001b[0;34m]\u001b[0m\u001b[0;34m)\u001b[0m\u001b[0;34m\u001b[0m\u001b[0;34m\u001b[0m\u001b[0m\n\u001b[0m",
      "\u001b[0;32m<ipython-input-18-565b3febc8ad>\u001b[0m in \u001b[0;36mresumen\u001b[0;34m(datos)\u001b[0m\n\u001b[1;32m     14\u001b[0m                 \u001b[0mprobs\u001b[0m\u001b[0;34m[\u001b[0m\u001b[0mn\u001b[0m\u001b[0;34m,\u001b[0m\u001b[0;36m1\u001b[0m\u001b[0;34m]\u001b[0m\u001b[0;34m=\u001b[0m\u001b[0mf\u001b[0m\u001b[0;34m(\u001b[0m\u001b[0mXs\u001b[0m\u001b[0;34m[\u001b[0m\u001b[0mmuestra\u001b[0m\u001b[0;34m,\u001b[0m\u001b[0;34m:\u001b[0m\u001b[0;34m]\u001b[0m\u001b[0;34m,\u001b[0m\u001b[0malfa\u001b[0m\u001b[0;34m)\u001b[0m      \u001b[0;31m# evaluacion de la prediccion\u001b[0m\u001b[0;34m\u001b[0m\u001b[0;34m\u001b[0m\u001b[0m\n\u001b[1;32m     15\u001b[0m \u001b[0;34m\u001b[0m\u001b[0m\n\u001b[0;32m---> 16\u001b[0;31m             \u001b[0mprobs\u001b[0m\u001b[0;34m=\u001b[0m\u001b[0mprobs\u001b[0m\u001b[0;34m[\u001b[0m\u001b[0mprobs\u001b[0m\u001b[0;34m[\u001b[0m\u001b[0;34m:\u001b[0m\u001b[0;34m,\u001b[0m\u001b[0;36m1\u001b[0m\u001b[0;34m]\u001b[0m\u001b[0;34m.\u001b[0m\u001b[0margsort\u001b[0m\u001b[0;34m(\u001b[0m\u001b[0;34m)\u001b[0m\u001b[0;34m[\u001b[0m\u001b[0;34m:\u001b[0m\u001b[0;34m:\u001b[0m\u001b[0;34m-\u001b[0m\u001b[0;36m1\u001b[0m\u001b[0;34m]\u001b[0m\u001b[0;34m]\u001b[0m   \u001b[0;31m# se pone la prob mas alta al principio\u001b[0m\u001b[0;34m\u001b[0m\u001b[0;34m\u001b[0m\u001b[0m\n\u001b[0m\u001b[1;32m     17\u001b[0m             \u001b[0my_pred\u001b[0m\u001b[0;34m.\u001b[0m\u001b[0mappend\u001b[0m\u001b[0;34m(\u001b[0m\u001b[0mprobs\u001b[0m\u001b[0;34m[\u001b[0m\u001b[0;36m0\u001b[0m\u001b[0;34m,\u001b[0m\u001b[0;36m0\u001b[0m\u001b[0;34m]\u001b[0m\u001b[0;34m)\u001b[0m\u001b[0;34m\u001b[0m\u001b[0;34m\u001b[0m\u001b[0m\n\u001b[1;32m     18\u001b[0m             \u001b[0my_prob\u001b[0m\u001b[0;34m.\u001b[0m\u001b[0mappend\u001b[0m\u001b[0;34m(\u001b[0m\u001b[0mprobs\u001b[0m\u001b[0;34m[\u001b[0m\u001b[0;36m0\u001b[0m\u001b[0;34m,\u001b[0m\u001b[0;36m1\u001b[0m\u001b[0;34m]\u001b[0m\u001b[0;34m)\u001b[0m\u001b[0;34m\u001b[0m\u001b[0;34m\u001b[0m\u001b[0m\n",
      "\u001b[0;31mKeyboardInterrupt\u001b[0m: "
     ]
    }
   ],
   "source": [
    "resumen([('Training  :', train_tags, X_train)])\n",
    "resumen([('Test  :', test_tags, X_test)])"
   ]
  },
  {
   "cell_type": "markdown",
   "id": "ca3c686d",
   "metadata": {},
   "source": [
    "+ Save training alphas to csv"
   ]
  },
  {
   "cell_type": "code",
   "execution_count": null,
   "id": "d700abef",
   "metadata": {},
   "outputs": [],
   "source": [
    "print (' Parameter matrix dimensions={}'.format(A_opt.shape))\n",
    "df2=pd.df(A_opt, columns=[i+1 for i in range(A_opt.shape[1])])  \n",
    "df2.to_csv('alphas.csv', index=False)"
   ]
  },
  {
   "cell_type": "markdown",
   "id": "2c1f1b7f",
   "metadata": {},
   "source": [
    "### SKLEARN VERSION"
   ]
  },
  {
   "cell_type": "code",
   "execution_count": 2,
   "id": "94032374",
   "metadata": {},
   "outputs": [],
   "source": [
    "from sklearn.linear_model import LogisticRegression"
   ]
  },
  {
   "cell_type": "code",
   "execution_count": 3,
   "id": "dfeb33ae",
   "metadata": {},
   "outputs": [
    {
     "ename": "NameError",
     "evalue": "name 'time' is not defined",
     "output_type": "error",
     "traceback": [
      "\u001b[0;31m---------------------------------------------------------------------------\u001b[0m",
      "\u001b[0;31mNameError\u001b[0m                                 Traceback (most recent call last)",
      "\u001b[0;32m<ipython-input-3-39336674b01e>\u001b[0m in \u001b[0;36m<module>\u001b[0;34m\u001b[0m\n\u001b[0;32m----> 1\u001b[0;31m \u001b[0mini_opt_sk\u001b[0m\u001b[0;34m=\u001b[0m\u001b[0mtime\u001b[0m\u001b[0;34m.\u001b[0m\u001b[0mtime\u001b[0m\u001b[0;34m(\u001b[0m\u001b[0;34m)\u001b[0m\u001b[0;34m\u001b[0m\u001b[0;34m\u001b[0m\u001b[0m\n\u001b[0m\u001b[1;32m      2\u001b[0m logreg=LogisticRegression(C=0.01, penalty='l2', tol=0.0001, max_iter=70,\n\u001b[1;32m      3\u001b[0m                           solver='lbfgs', multi_class='multinomial').fit(X_train_sk, train_tags)\n\u001b[1;32m      4\u001b[0m \u001b[0mt_sklearn\u001b[0m\u001b[0;34m=\u001b[0m\u001b[0mtime\u001b[0m\u001b[0;34m.\u001b[0m\u001b[0mtime\u001b[0m\u001b[0;34m(\u001b[0m\u001b[0;34m)\u001b[0m\u001b[0;34m-\u001b[0m\u001b[0mini_opt_sk\u001b[0m\u001b[0;34m\u001b[0m\u001b[0;34m\u001b[0m\u001b[0m\n\u001b[1;32m      5\u001b[0m \u001b[0mprint\u001b[0m \u001b[0;34m(\u001b[0m\u001b[0;34m'\\nTiempo total optimizacion sklearn: {:.2f} segundos.\\n'\u001b[0m \u001b[0;34m.\u001b[0m\u001b[0mformat\u001b[0m\u001b[0;34m(\u001b[0m\u001b[0mt_sklearn\u001b[0m\u001b[0;34m)\u001b[0m\u001b[0;34m)\u001b[0m\u001b[0;34m\u001b[0m\u001b[0;34m\u001b[0m\u001b[0m\n",
      "\u001b[0;31mNameError\u001b[0m: name 'time' is not defined"
     ]
    }
   ],
   "source": [
    "ini_opt_sk=time.time()\n",
    "logreg=LogisticRegression(C=0.01, penalty='l2', tol=0.0001, max_iter=70,\n",
    "                          solver='lbfgs', multi_class='multinomial').fit(X_train_sk, train_tags)\n",
    "t_sklearn=time.time()-ini_opt_sk\n",
    "print ('\\nTiempo total optimizacion sklearn: {:.2f} segundos.\\n' .format(t_sklearn))"
   ]
  },
  {
   "cell_type": "markdown",
   "id": "87b105c4",
   "metadata": {},
   "source": [
    "+ Sklearn check"
   ]
  },
  {
   "cell_type": "code",
   "execution_count": null,
   "id": "2fd6cfe9",
   "metadata": {},
   "outputs": [],
   "source": [
    "def resumen_sk(datos):\n",
    "    for e in datos:\n",
    "        nombre, etiqueta, Xs=e\n",
    "        etiq=etiqueta.size\n",
    "        \n",
    "        y_pred_sk=logreg.predict(Xs)\n",
    "        \n",
    "        cuenta=0\n",
    "        for muestra in range(etiq):\n",
    "            if y_pred_sk[muestra]==etiqueta[muestra]:         \n",
    "                cuenta+=1\n",
    "        \n",
    "        print (\"\\n{}\".format(nombre))\n",
    "        print (\"{} correctos de {} ==> {:.4}% correcto\".format(cuenta, etiq, cuenta/etiq*100))"
   ]
  },
  {
   "cell_type": "markdown",
   "id": "a8f5f4a7",
   "metadata": {},
   "source": [
    "+ Train & test custom outcome"
   ]
  },
  {
   "cell_type": "code",
   "execution_count": null,
   "id": "6b3315fa",
   "metadata": {},
   "outputs": [],
   "source": [
    "resumen_sk([('Entranamiento  :', etiquetas_train, X_train_sk)])\n",
    "resumen_sk([('Test  :', etiquetas_test, X_test_sk)])"
   ]
  },
  {
   "cell_type": "markdown",
   "id": "86cc4168",
   "metadata": {},
   "source": [
    "+ Time comparison"
   ]
  },
  {
   "cell_type": "code",
   "execution_count": null,
   "id": "383ad4e8",
   "metadata": {},
   "outputs": [],
   "source": [
    "print ('SkLearn es {:.2f} veces más rapido.'.format(t_custom/t_sklearn))"
   ]
  },
  {
   "cell_type": "markdown",
   "id": "fa5ae426",
   "metadata": {},
   "source": [
    "+ Absolut difference between both models"
   ]
  },
  {
   "cell_type": "code",
   "execution_count": null,
   "id": "78f682fa",
   "metadata": {},
   "outputs": [],
   "source": [
    "y_pred_sk=logreg.predict(X_test_sk)\n",
    "comp=[y_pred[30000:][i]==y_pred_sk[i] for i in range(len(y_pred[30000:]))]\n",
    "n_equal=len([e for e in comp if e==False])/len(y_pred_sk)\n",
    "\n",
    "print ('Difference of {:.2f}%.between both models'.format(n_equal*100))"
   ]
  },
  {
   "cell_type": "markdown",
   "id": "0d2f8ab2",
   "metadata": {},
   "source": [
    "+ Hit between train & test in both models"
   ]
  },
  {
   "cell_type": "code",
   "execution_count": null,
   "id": "041af54a",
   "metadata": {},
   "outputs": [],
   "source": [
    "resumen([('Entranamiento Custom:', etiquetas_train, X_train)])\n",
    "resumen([('Test Custom:', etiquetas_test, X_test)])\n",
    "print ('')\n",
    "resumen_sk([('Entranamiento SkLearn:', etiquetas_train, X_train_sk)])\n",
    "resumen_sk([('Test SkLearn:', etiquetas_test, X_test_sk)])"
   ]
  },
  {
   "cell_type": "code",
   "execution_count": null,
   "id": "7493f615",
   "metadata": {},
   "outputs": [],
   "source": []
  }
 ],
 "metadata": {
  "kernelspec": {
   "display_name": "clase",
   "language": "python",
   "name": "clase"
  },
  "language_info": {
   "codemirror_mode": {
    "name": "ipython",
    "version": 3
   },
   "file_extension": ".py",
   "mimetype": "text/x-python",
   "name": "python",
   "nbconvert_exporter": "python",
   "pygments_lexer": "ipython3",
   "version": "3.8.8"
  }
 },
 "nbformat": 4,
 "nbformat_minor": 5
}
