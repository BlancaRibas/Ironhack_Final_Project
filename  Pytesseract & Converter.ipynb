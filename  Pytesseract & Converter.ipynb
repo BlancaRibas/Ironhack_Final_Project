{
 "cells": [
  {
   "cell_type": "markdown",
   "id": "e986771d",
   "metadata": {},
   "source": [
    "### Full steps"
   ]
  },
  {
   "cell_type": "markdown",
   "id": "e8b1b2af",
   "metadata": {},
   "source": [
    "#### Step 1: connect camera"
   ]
  },
  {
   "cell_type": "code",
   "execution_count": 34,
   "id": "e4f1f267",
   "metadata": {},
   "outputs": [],
   "source": [
    "# captura por camara\n",
    "def captura():\n",
    "    cam=cv2.VideoCapture(0)\n",
    "    while 1:\n",
    "        ret, frame=cam.read()\n",
    "        cv2.imshow('Captura', frame)\n",
    "        \n",
    "        if ret==False: break\n",
    "        \n",
    "        key=cv2.waitKey(1)\n",
    "        \n",
    "        if key%256==27: break # tecla ESC\n",
    "            \n",
    "        elif key%256==32: # tecla SPACE\n",
    "            img_name='../images/capturas/codigo.png'\n",
    "            cv2.imwrite(img_name, frame)\n",
    "            print('Captura guardada.')\n",
    "            break\n",
    "            \n",
    "    cam.release()\n",
    "    cv2.destroyAllWindows()\n",
    "    plt.imshow(plt.imread(img_name));"
   ]
  },
  {
   "cell_type": "markdown",
   "id": "569d2ae5",
   "metadata": {},
   "source": [
    "#### Step 2: load & read picture"
   ]
  },
  {
   "cell_type": "code",
   "execution_count": 23,
   "id": "fb67d6ef",
   "metadata": {},
   "outputs": [],
   "source": [
    "import pytesseract"
   ]
  },
  {
   "cell_type": "code",
   "execution_count": 24,
   "id": "ae69e55e",
   "metadata": {},
   "outputs": [],
   "source": [
    "from PIL import Image\n",
    "import PIL"
   ]
  },
  {
   "cell_type": "code",
   "execution_count": 31,
   "id": "31829a9a",
   "metadata": {},
   "outputs": [],
   "source": [
    "import cv2\n",
    "\n",
    "img_cv = cv2.imread(r'pics/Capture5.jpg') \n",
    "\n",
    "#factor = 1.5 #increase contrast\n",
    "#im_output = enhancer.enhance(factor)\n",
    "#im_output.save('more-contrast-image.png')"
   ]
  },
  {
   "cell_type": "code",
   "execution_count": null,
   "id": "f74a8b09",
   "metadata": {},
   "outputs": [],
   "source": [
    "#img_contrasted = cv2.imread(r'more-contrast-image.png') "
   ]
  },
  {
   "cell_type": "code",
   "execution_count": 32,
   "id": "f725c094",
   "metadata": {},
   "outputs": [
    {
     "name": "stdout",
     "output_type": "stream",
     "text": [
      "10.40\n",
      "\f",
      "\n"
     ]
    }
   ],
   "source": [
    "img_rgb = cv2.cvtColor(img_cv, cv2.COLOR_BGR2RGB)\n",
    "print(pytesseract.image_to_string(img_rgb))"
   ]
  },
  {
   "cell_type": "markdown",
   "id": "ac36b96f",
   "metadata": {},
   "source": [
    "#### Step 3: convert number to base currency"
   ]
  },
  {
   "cell_type": "code",
   "execution_count": 6,
   "id": "d7083698",
   "metadata": {},
   "outputs": [],
   "source": [
    "from google_currency import convert  \n",
    "import streamlit as st\n",
    "from PIL import Image\n",
    "import pandas as pd\n",
    "import requests\n",
    "import json"
   ]
  },
  {
   "cell_type": "code",
   "execution_count": 7,
   "id": "b1353ece",
   "metadata": {},
   "outputs": [
    {
     "name": "stderr",
     "output_type": "stream",
     "text": [
      "2021-06-23 12:39:26.417 \n",
      "  \u001b[33m\u001b[1mWarning:\u001b[0m to view this Streamlit app on a browser, run it with the following\n",
      "  command:\n",
      "\n",
      "    streamlit run /home/bribas/.local/lib/python3.8/site-packages/ipykernel_launcher.py [ARGUMENTS]\n"
     ]
    },
    {
     "data": {
      "text/plain": [
       "DeltaGenerator(_root_container=1, _provided_cursor=None, _parent=DeltaGenerator(_root_container=0, _provided_cursor=None, _parent=None, _block_type=None, _form_data=None), _block_type=None, _form_data=None)"
      ]
     },
     "execution_count": 7,
     "metadata": {},
     "output_type": "execute_result"
    }
   ],
   "source": [
    "st.sidebar.header('Input Options') "
   ]
  },
  {
   "cell_type": "code",
   "execution_count": 8,
   "id": "f20aff54",
   "metadata": {},
   "outputs": [],
   "source": [
    "currency_list = ['AUD', 'BGN', 'BRL', 'CAD', 'CHF', 'CNY', 'CZK', 'DKK', 'EUR','GBP', 'HKD', 'HRK', 'HUF', 'IDR', 'ILS', 'INR', 'ISK', 'JPY', 'KRW', 'MXN', 'MYR', 'NOK', 'NZD', 'PHP', 'PLN', 'RON', 'RUB', 'SEK', 'SGD', 'THB', 'TRY', 'USD', 'ZAR']\n",
    "base_price_unit = st.sidebar.selectbox('From', currency_list)\n",
    "symbols_price_unit = st.sidebar.selectbox('To', currency_list)"
   ]
  },
  {
   "cell_type": "markdown",
   "id": "f0371b78",
   "metadata": {},
   "source": [
    "#### Step 4:convert base currency to requested currency"
   ]
  },
  {
   "cell_type": "code",
   "execution_count": 9,
   "id": "33d28074",
   "metadata": {},
   "outputs": [],
   "source": [
    "from google_currency import convert"
   ]
  },
  {
   "cell_type": "markdown",
   "id": "8e4265a7",
   "metadata": {},
   "source": [
    "+ Define function to convert base_price_unit to requested currency using "
   ]
  },
  {
   "cell_type": "code",
   "execution_count": 10,
   "id": "832d4577",
   "metadata": {},
   "outputs": [],
   "source": [
    "def converter (input_curr,output_currency,quantity):\n",
    "    c = convert(f'{input_curr}', f'{output_currency}', float(quantity))\n",
    "    x = json.loads(c)\n",
    "    return (x.get(\"amount\"))"
   ]
  }
 ],
 "metadata": {
  "kernelspec": {
   "display_name": "clase",
   "language": "python",
   "name": "clase"
  },
  "language_info": {
   "codemirror_mode": {
    "name": "ipython",
    "version": 3
   },
   "file_extension": ".py",
   "mimetype": "text/x-python",
   "name": "python",
   "nbconvert_exporter": "python",
   "pygments_lexer": "ipython3",
   "version": "3.8.8"
  }
 },
 "nbformat": 4,
 "nbformat_minor": 5
}
