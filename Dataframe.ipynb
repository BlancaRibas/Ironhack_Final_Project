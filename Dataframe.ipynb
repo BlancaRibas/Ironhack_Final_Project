{
 "cells": [
  {
   "cell_type": "markdown",
   "id": "c36a6dae",
   "metadata": {},
   "source": [
    "## Dataframe code"
   ]
  },
  {
   "cell_type": "code",
   "execution_count": 5,
   "id": "75c5e98b",
   "metadata": {},
   "outputs": [],
   "source": [
    "#import pandas as pd\n",
    "#import numpy as np"
   ]
  },
  {
   "cell_type": "markdown",
   "id": "1ad05646",
   "metadata": {},
   "source": [
    "Import merged CSV only containing pictures of numbers, commas and points"
   ]
  },
  {
   "cell_type": "code",
   "execution_count": 6,
   "id": "869e168f",
   "metadata": {},
   "outputs": [],
   "source": [
    "#merged = pd.read_csv(\"merged.csv\")"
   ]
  },
  {
   "cell_type": "code",
   "execution_count": 7,
   "id": "407d0f0e",
   "metadata": {},
   "outputs": [],
   "source": [
    "#merged.columns()"
   ]
  },
  {
   "cell_type": "code",
   "execution_count": 8,
   "id": "a04fcad6",
   "metadata": {},
   "outputs": [],
   "source": [
    "#df=merged.drop(columns=['Unnamed: 0', 'font','fontVariant','strength','italic','orientation','m_top','m_left','originalH', 'originalW','h','w'])"
   ]
  },
  {
   "cell_type": "code",
   "execution_count": 9,
   "id": "675ec049",
   "metadata": {},
   "outputs": [],
   "source": [
    "#df.to_csv( \"DF.csv\", index=False, encoding='utf-8-sig')"
   ]
  }
 ],
 "metadata": {
  "kernelspec": {
   "display_name": "clase",
   "language": "python",
   "name": "clase"
  },
  "language_info": {
   "codemirror_mode": {
    "name": "ipython",
    "version": 3
   },
   "file_extension": ".py",
   "mimetype": "text/x-python",
   "name": "python",
   "nbconvert_exporter": "python",
   "pygments_lexer": "ipython3",
   "version": "3.8.8"
  }
 },
 "nbformat": 4,
 "nbformat_minor": 5
}
