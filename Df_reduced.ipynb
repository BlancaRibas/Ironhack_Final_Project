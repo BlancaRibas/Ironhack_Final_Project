{
 "cells": [
  {
   "cell_type": "markdown",
   "id": "707fb227",
   "metadata": {},
   "source": [
    "##  DF REDUCTION"
   ]
  },
  {
   "cell_type": "code",
   "execution_count": 1,
   "id": "57f3018b",
   "metadata": {},
   "outputs": [],
   "source": [
    "import pandas as pd\n",
    "import numpy as np"
   ]
  },
  {
   "cell_type": "code",
   "execution_count": 2,
   "id": "5e10a001",
   "metadata": {},
   "outputs": [],
   "source": [
    "df = pd.read_csv('DF.csv')"
   ]
  },
  {
   "cell_type": "code",
   "execution_count": 3,
   "id": "80cb90bc",
   "metadata": {},
   "outputs": [
    {
     "data": {
      "text/plain": [
       "<bound method DataFrame.info of         m_label  r0c0  r0c1  r0c2  r0c3  r0c4  r0c5  r0c6  r0c7  r0c8  ...  \\\n",
       "0         64258     1     1     1    21   101   210   255   255   255  ...   \n",
       "1         64257     1     1     1    21   101   210   255   255   255  ...   \n",
       "2         61442     1     1     1    21   101   210   255   255   255  ...   \n",
       "3         61441     1     1     1    21   101   210   255   255   255  ...   \n",
       "4          9674     1     1     1     1     1     1     1     1   132  ...   \n",
       "...         ...   ...   ...   ...   ...   ...   ...   ...   ...   ...  ...   \n",
       "832665       37     1     1     1     1    68   181   255   255   255  ...   \n",
       "832666       36     1     1     1     1     1     1     1     1     1  ...   \n",
       "832667       35     1     1     1     1     1     1     1     1     1  ...   \n",
       "832668       34     1     1   199   255   255   255   255   255   255  ...   \n",
       "832669       33     1     1     1     1     1     1     1     1     1  ...   \n",
       "\n",
       "        r19c10  r19c11  r19c12  r19c13  r19c14  r19c15  r19c16  r19c17  \\\n",
       "0            1       1       1       1       1       1     163     255   \n",
       "1            1       1       1       1       1       1     163     255   \n",
       "2            1       1       1       1       1       1     163     255   \n",
       "3            1       1       1       1       1       1     163     255   \n",
       "4          255     132       1       1       1       1       1       1   \n",
       "...        ...     ...     ...     ...     ...     ...     ...     ...   \n",
       "832665     255     255     255     241     121       1       1       1   \n",
       "832666       1       1       1       1       1       1       1       1   \n",
       "832667       1       1       1       1       1       1       1       1   \n",
       "832668     255     255     255     255     255     143       1       1   \n",
       "832669       1       1       1       1       1       1       1       1   \n",
       "\n",
       "        r19c18  r19c19  \n",
       "0          255     255  \n",
       "1          255     255  \n",
       "2          255     255  \n",
       "3          255     255  \n",
       "4            1       1  \n",
       "...        ...     ...  \n",
       "832665       1       1  \n",
       "832666       1       1  \n",
       "832667       1       1  \n",
       "832668       1       1  \n",
       "832669       1       1  \n",
       "\n",
       "[832670 rows x 401 columns]>"
      ]
     },
     "execution_count": 3,
     "metadata": {},
     "output_type": "execute_result"
    }
   ],
   "source": [
    "df.info"
   ]
  },
  {
   "cell_type": "code",
   "execution_count": 4,
   "id": "73063d42",
   "metadata": {},
   "outputs": [],
   "source": [
    "import random\n",
    "\n",
    "filename = \"DF.csv\" \n",
    "n = sum(1 for line in open(filename))-1  # Calculate number of rows in file\n",
    "s = n//10  # sample size of 10%\n",
    "skip = sorted(random.sample(range(1, n+1), n-s))  # n+1 to compensate for header \n"
   ]
  },
  {
   "cell_type": "code",
   "execution_count": 5,
   "id": "702e3bcc",
   "metadata": {},
   "outputs": [],
   "source": [
    "df_reduced = pd.read_csv(filename, skiprows=skip)"
   ]
  },
  {
   "cell_type": "code",
   "execution_count": 6,
   "id": "1d4c33ef",
   "metadata": {},
   "outputs": [
    {
     "data": {
      "text/plain": [
       "<bound method DataFrame.info of        m_label  r0c0  r0c1  r0c2  r0c3  r0c4  r0c5  r0c6  r0c7  r0c8  ...  \\\n",
       "0         8805   255   116    31     1     1     1     1     1     1  ...   \n",
       "1         8804     1     1     1     1     1     1     1     1     1  ...   \n",
       "2         8729   255   255   255   255   255   255   255   255   255  ...   \n",
       "3         8364     1     1    16    92   201   255   255   255   255  ...   \n",
       "4          960   255   255   255   255   255   255   255   255   255  ...   \n",
       "...        ...   ...   ...   ...   ...   ...   ...   ...   ...   ...  ...   \n",
       "83262       72     1     1     1     1     1     1   255   255   128  ...   \n",
       "83263       66     1     1     1     1     1     1    37   255   255  ...   \n",
       "83264       51     1     1     1     1     1     1     1     1     1  ...   \n",
       "83265       46     1     1     1     1   142   255   255   255   255  ...   \n",
       "83266       38     1     1     1     1     1     1     1     1     1  ...   \n",
       "\n",
       "       r19c10  r19c11  r19c12  r19c13  r19c14  r19c15  r19c16  r19c17  r19c18  \\\n",
       "0         255     255     255     255     255     255     255     255     255   \n",
       "1         255     255     255     255     255     255     255     255     255   \n",
       "2         255     255     255     255     255     255     255     255     255   \n",
       "3         255     255     255     255     255     255     255     255     174   \n",
       "4           1       1     211     255     255     167       1       1       1   \n",
       "...       ...     ...     ...     ...     ...     ...     ...     ...     ...   \n",
       "83262       1     128     255     255      57       1       1       1       1   \n",
       "83263     255     175     114      17       1       1       1       1       1   \n",
       "83264     121      41       1       1       1       1       1       1       1   \n",
       "83265     255     255     255     255     255     142       1       1       1   \n",
       "83266      39       1       1       1      20     121     121     121       8   \n",
       "\n",
       "       r19c19  \n",
       "0         255  \n",
       "1         255  \n",
       "2         255  \n",
       "3          65  \n",
       "4           1  \n",
       "...       ...  \n",
       "83262       1  \n",
       "83263       1  \n",
       "83264       1  \n",
       "83265       1  \n",
       "83266       1  \n",
       "\n",
       "[83267 rows x 401 columns]>"
      ]
     },
     "execution_count": 6,
     "metadata": {},
     "output_type": "execute_result"
    }
   ],
   "source": [
    "df_reduced.info"
   ]
  },
  {
   "cell_type": "code",
   "execution_count": 8,
   "id": "f8864036",
   "metadata": {},
   "outputs": [],
   "source": [
    "df_reduced.to_csv('df_reduced.csv')"
   ]
  }
 ],
 "metadata": {
  "kernelspec": {
   "display_name": "clase",
   "language": "python",
   "name": "clase"
  },
  "language_info": {
   "codemirror_mode": {
    "name": "ipython",
    "version": 3
   },
   "file_extension": ".py",
   "mimetype": "text/x-python",
   "name": "python",
   "nbconvert_exporter": "python",
   "pygments_lexer": "ipython3",
   "version": "3.8.8"
  }
 },
 "nbformat": 4,
 "nbformat_minor": 5
}
