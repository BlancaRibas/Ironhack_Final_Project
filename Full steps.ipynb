{
 "cells": [
  {
   "cell_type": "markdown",
   "id": "e986771d",
   "metadata": {},
   "source": [
    "### Full steps"
   ]
  },
  {
   "cell_type": "markdown",
   "id": "e8b1b2af",
   "metadata": {},
   "source": [
    "#### Step 1: connect camera"
   ]
  },
  {
   "cell_type": "markdown",
   "id": "569d2ae5",
   "metadata": {},
   "source": [
    "#### Step 2: load & read picture"
   ]
  },
  {
   "cell_type": "code",
   "execution_count": 5,
   "id": "fb67d6ef",
   "metadata": {},
   "outputs": [],
   "source": [
    "import pytesseract"
   ]
  },
  {
   "cell_type": "code",
   "execution_count": 7,
   "id": "ae69e55e",
   "metadata": {},
   "outputs": [],
   "source": [
    "from PIL import Image"
   ]
  },
  {
   "cell_type": "code",
   "execution_count": 6,
   "id": "31829a9a",
   "metadata": {},
   "outputs": [],
   "source": [
    "import cv2\n",
    "\n",
    "img_cv = cv2.imread(r'pics/Capture3.jpg') "
   ]
  },
  {
   "cell_type": "code",
   "execution_count": 8,
   "id": "f725c094",
   "metadata": {},
   "outputs": [
    {
     "name": "stdout",
     "output_type": "stream",
     "text": [
      "10.22\n",
      "\f",
      "\n"
     ]
    }
   ],
   "source": [
    "img_rgb = cv2.cvtColor(img_cv, cv2.COLOR_BGR2RGB)\n",
    "print(pytesseract.image_to_string(img_rgb))"
   ]
  },
  {
   "cell_type": "markdown",
   "id": "ac36b96f",
   "metadata": {},
   "source": [
    "#### Step 3: convert number to base currency"
   ]
  },
  {
   "cell_type": "code",
   "execution_count": 12,
   "id": "d7083698",
   "metadata": {},
   "outputs": [],
   "source": [
    "from google_currency import convert  \n",
    "import streamlit as st\n",
    "from PIL import Image\n",
    "import pandas as pd\n",
    "import requests\n",
    "import json"
   ]
  },
  {
   "cell_type": "code",
   "execution_count": 13,
   "id": "b1353ece",
   "metadata": {},
   "outputs": [
    {
     "name": "stderr",
     "output_type": "stream",
     "text": [
      "2021-06-23 01:56:07.484 \n",
      "  \u001b[33m\u001b[1mWarning:\u001b[0m to view this Streamlit app on a browser, run it with the following\n",
      "  command:\n",
      "\n",
      "    streamlit run /home/bribas/.local/lib/python3.8/site-packages/ipykernel_launcher.py [ARGUMENTS]\n"
     ]
    },
    {
     "data": {
      "text/plain": [
       "DeltaGenerator(_root_container=1, _provided_cursor=None, _parent=DeltaGenerator(_root_container=0, _provided_cursor=None, _parent=None, _block_type=None, _form_data=None), _block_type=None, _form_data=None)"
      ]
     },
     "execution_count": 13,
     "metadata": {},
     "output_type": "execute_result"
    }
   ],
   "source": [
    "st.sidebar.header('Input Options') "
   ]
  },
  {
   "cell_type": "code",
   "execution_count": 14,
   "id": "f20aff54",
   "metadata": {},
   "outputs": [],
   "source": [
    "currency_list = ['AUD', 'BGN', 'BRL', 'CAD', 'CHF', 'CNY', 'CZK', 'DKK', 'EUR','GBP', 'HKD', 'HRK', 'HUF', 'IDR', 'ILS', 'INR', 'ISK', 'JPY', 'KRW', 'MXN', 'MYR', 'NOK', 'NZD', 'PHP', 'PLN', 'RON', 'RUB', 'SEK', 'SGD', 'THB', 'TRY', 'USD', 'ZAR']\n",
    "base_price_unit = st.sidebar.selectbox('From', currency_list)\n",
    "symbols_price_unit = st.sidebar.selectbox('To', currency_list)"
   ]
  },
  {
   "cell_type": "markdown",
   "id": "f0371b78",
   "metadata": {},
   "source": [
    "#### Step 4:convert base currency to requested currency"
   ]
  },
  {
   "cell_type": "code",
   "execution_count": 19,
   "id": "33d28074",
   "metadata": {},
   "outputs": [],
   "source": [
    "import requests,os"
   ]
  },
  {
   "cell_type": "markdown",
   "id": "8e4265a7",
   "metadata": {},
   "source": [
    "+ Define function to convert base_price_unit to requested currency"
   ]
  },
  {
   "cell_type": "code",
   "execution_count": 22,
   "id": "832d4577",
   "metadata": {},
   "outputs": [],
   "source": [
    "def load_data():\n",
    "    url = ''.join(['https://api.exchangerate.host/', base_price_unit, '&symbols=', symbols_price_unit])\n",
    "    response = requests.get(url)\n",
    "    data = response.json()\n",
    "    base_currency = pd.Series( data['base'], name='base_currency')\n",
    "    rates_df = pd.DataFrame.from_dict( data['rates'].items() )\n",
    "    rates_df.columns = ['converted_currency', 'price']\n",
    "    conversion_date = pd.Series( data['date'], name='date' )\n",
    "    df = pd.concat( [base_currency, rates_df, conversion_date], axis=1 )\n",
    "    return df\n",
    "\n",
    "df = load_data()\n",
    "\n",
    "st.header('Currency conversion')\n",
    "\n",
    "st.write(df)"
   ]
  },
  {
   "cell_type": "markdown",
   "id": "feabf27b",
   "metadata": {},
   "source": [
    " + Load currency converted"
   ]
  },
  {
   "cell_type": "code",
   "execution_count": 23,
   "id": "7b7db60f",
   "metadata": {},
   "outputs": [],
   "source": [
    "df = load_data()\n",
    "\n",
    "st.header('Currency conversion')\n",
    "\n",
    "st.write(df)\n"
   ]
  }
 ],
 "metadata": {
  "kernelspec": {
   "display_name": "clase",
   "language": "python",
   "name": "clase"
  },
  "language_info": {
   "codemirror_mode": {
    "name": "ipython",
    "version": 3
   },
   "file_extension": ".py",
   "mimetype": "text/x-python",
   "name": "python",
   "nbconvert_exporter": "python",
   "pygments_lexer": "ipython3",
   "version": "3.8.8"
  }
 },
 "nbformat": 4,
 "nbformat_minor": 5
}
