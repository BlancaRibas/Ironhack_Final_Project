{
 "cells": [
  {
   "cell_type": "markdown",
   "id": "510d6d37",
   "metadata": {},
   "source": [
    "## Streamlit code - testing"
   ]
  },
  {
   "cell_type": "code",
   "execution_count": 3,
   "id": "55526378",
   "metadata": {},
   "outputs": [],
   "source": [
    "#pip install streamlit"
   ]
  },
  {
   "cell_type": "code",
   "execution_count": 4,
   "id": "f4de9e6a",
   "metadata": {},
   "outputs": [],
   "source": [
    "import streamlit as st\n",
    "from PIL import Image\n",
    "import pandas as pd\n",
    "import requests\n",
    "import json"
   ]
  },
  {
   "cell_type": "code",
   "execution_count": 6,
   "id": "a5933de4",
   "metadata": {},
   "outputs": [
    {
     "name": "stderr",
     "output_type": "stream",
     "text": [
      "2021-06-23 01:00:19.359 \n",
      "  \u001b[33m\u001b[1mWarning:\u001b[0m to view this Streamlit app on a browser, run it with the following\n",
      "  command:\n",
      "\n",
      "    streamlit run /home/bribas/.local/lib/python3.8/site-packages/ipykernel_launcher.py [ARGUMENTS]\n"
     ]
    },
    {
     "data": {
      "text/plain": [
       "DeltaGenerator(_root_container=0, _provided_cursor=None, _parent=None, _block_type=None, _form_data=None)"
      ]
     },
     "execution_count": 6,
     "metadata": {},
     "output_type": "execute_result"
    }
   ],
   "source": [
    "image = Image.open('logo.png')\n",
    "\n",
    "st.image(image, width = 390)\n",
    "\n",
    "st.title('Currency Converter')\n",
    "st.markdown(\"\"\"\n",
    "Converting foreign currencies from pictures!\n",
    "\"\"\")"
   ]
  },
  {
   "cell_type": "code",
   "execution_count": 8,
   "id": "a8b1bc2b",
   "metadata": {},
   "outputs": [
    {
     "data": {
      "text/plain": [
       "DeltaGenerator(_root_container=1, _provided_cursor=None, _parent=DeltaGenerator(_root_container=0, _provided_cursor=None, _parent=None, _block_type=None, _form_data=None), _block_type=None, _form_data=None)"
      ]
     },
     "execution_count": 8,
     "metadata": {},
     "output_type": "execute_result"
    }
   ],
   "source": [
    "st.sidebar.header('Input Options')"
   ]
  },
  {
   "cell_type": "code",
   "execution_count": 9,
   "id": "0ae9f5dd",
   "metadata": {},
   "outputs": [],
   "source": [
    "currency_list = ['AUD', 'BGN', 'BRL', 'CAD', 'CHF', 'CNY', 'CZK', 'DKK', 'EUR','GBP', 'HKD', 'HRK', 'HUF', 'IDR', 'ILS', 'INR', 'ISK', 'JPY', 'KRW', 'MXN', 'MYR', 'NOK', 'NZD', 'PHP', 'PLN', 'RON', 'RUB', 'SEK', 'SGD', 'THB', 'TRY', 'USD', 'ZAR']\n",
    "base_price_unit = st.sidebar.selectbox('From', currency_list)\n",
    "symbols_price_unit = st.sidebar.selectbox('To', currency_list)"
   ]
  },
  {
   "cell_type": "code",
   "execution_count": 19,
   "id": "4fa81d67",
   "metadata": {},
   "outputs": [],
   "source": [
    "from google_currency import convert  "
   ]
  },
  {
   "cell_type": "markdown",
   "id": "cf761067",
   "metadata": {},
   "source": [
    "#def load_data():\n",
    "    #url = ''.join(['https://api.ratesapi.io/api/latest?base=', base_price_unit, '&symbols=', symbols_price_unit])\n",
    "    response = requests.get(url)\n",
    "    data = response.json()\n",
    "    base_currency = pd.Series( data['base'], name='base_currency')\n",
    "    rates_df = pd.DataFrame.from_dict( data['rates'].items() )\n",
    "    rates_df.columns = ['converted_currency', 'price']\n",
    "    conversion_date = pd.Series( data['date'], name='date' )\n",
    "    df = pd.concat( [base_currency, rates_df, conversion_date], axis=1 )\n",
    "    return df\n",
    "\n",
    "df = load_data()\n",
    "\n",
    "st.header('Currency conversion')\n",
    "\n",
    "st.write(df)"
   ]
  },
  {
   "cell_type": "code",
   "execution_count": 31,
   "id": "d4106cc0",
   "metadata": {},
   "outputs": [
    {
     "data": {
      "text/plain": [
       "DeltaGenerator(_root_container=0, _provided_cursor=None, _parent=None, _block_type=None, _form_data=None)"
      ]
     },
     "execution_count": 31,
     "metadata": {},
     "output_type": "execute_result"
    }
   ],
   "source": [
    "#df = load_data()\n",
    "\n",
    "st.header('Currency conversion')\n",
    "\n",
    "#st.write(df)\n",
    "\n",
    "\n",
    "\n",
    "\n",
    "#---------------------------------#\n",
    "# About\n",
    "expander_bar = st.beta_expander(\"About\")\n",
    "expander_bar.markdown(\"\"\"\n",
    "* **Python libraries:** streamlit, pandas, pillow, requests, json\n",
    "* **Data source:** [ratesapi.io](https://ratesapi.io/) which is based on data published by [European Central Bank](https://www.ecb.europa.eu/stats/policy_and_exchange_rates/euro_reference_exchange_rates/html/index.en.html)\n",
    "* **Ironhack Final Project - Data Analytics Bootcamp:** by [Blanca Ribas Pombo]\"\"\")"
   ]
  }
 ],
 "metadata": {
  "kernelspec": {
   "display_name": "clase",
   "language": "python",
   "name": "clase"
  },
  "language_info": {
   "codemirror_mode": {
    "name": "ipython",
    "version": 3
   },
   "file_extension": ".py",
   "mimetype": "text/x-python",
   "name": "python",
   "nbconvert_exporter": "python",
   "pygments_lexer": "ipython3",
   "version": "3.8.8"
  }
 },
 "nbformat": 4,
 "nbformat_minor": 5
}
