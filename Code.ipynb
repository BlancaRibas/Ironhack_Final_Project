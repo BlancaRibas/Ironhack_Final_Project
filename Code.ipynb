{
 "cells": [
  {
   "cell_type": "markdown",
   "id": "7f458ce1",
   "metadata": {},
   "source": [
    "# FINAL PROJECT: IMAGE BASED CURRENCY CONVERTER"
   ]
  },
  {
   "cell_type": "code",
   "execution_count": 1,
   "id": "9c0f12ec",
   "metadata": {},
   "outputs": [],
   "source": [
    "import pandas as pd\n",
    "import numpy as np"
   ]
  },
  {
   "cell_type": "markdown",
   "id": "99220838",
   "metadata": {},
   "source": [
    "#### Step 1: Access API to get real time currency exchange rates (updated everyday at 16.00 CET - base EUR)"
   ]
  },
  {
   "cell_type": "code",
   "execution_count": 3,
   "id": "c5d57f0a",
   "metadata": {},
   "outputs": [],
   "source": [
    "#!pip install requests"
   ]
  },
  {
   "cell_type": "code",
   "execution_count": 4,
   "id": "f2527321",
   "metadata": {},
   "outputs": [],
   "source": [
    "import requests"
   ]
  },
  {
   "cell_type": "code",
   "execution_count": 14,
   "id": "ad93c940",
   "metadata": {},
   "outputs": [
    {
     "name": "stdout",
     "output_type": "stream",
     "text": [
      "\u001b[31mERROR: Could not open requirements file: [Errno 2] No such file or directory: 'requirements.txt'\u001b[0m\r\n"
     ]
    }
   ],
   "source": [
    "!pip install -r requirements.txt"
   ]
  }
 ],
 "metadata": {
  "kernelspec": {
   "display_name": "clase",
   "language": "python",
   "name": "clase"
  },
  "language_info": {
   "codemirror_mode": {
    "name": "ipython",
    "version": 3
   },
   "file_extension": ".py",
   "mimetype": "text/x-python",
   "name": "python",
   "nbconvert_exporter": "python",
   "pygments_lexer": "ipython3",
   "version": "3.8.8"
  }
 },
 "nbformat": 4,
 "nbformat_minor": 5
}
