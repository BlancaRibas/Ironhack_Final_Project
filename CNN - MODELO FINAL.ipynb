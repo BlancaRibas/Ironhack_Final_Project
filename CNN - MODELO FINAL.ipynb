{
 "cells": [
  {
   "cell_type": "markdown",
   "id": "c56a7af4",
   "metadata": {},
   "source": [
    "## Convolutional Neural Networks "
   ]
  },
  {
   "cell_type": "code",
   "execution_count": 56,
   "id": "6ecaa8f3",
   "metadata": {},
   "outputs": [],
   "source": [
    "#pip install tensorflow"
   ]
  },
  {
   "cell_type": "code",
   "execution_count": 58,
   "id": "f3e78bf6",
   "metadata": {},
   "outputs": [],
   "source": [
    "#pip install keras"
   ]
  },
  {
   "cell_type": "code",
   "execution_count": 5,
   "id": "caa428d4",
   "metadata": {},
   "outputs": [],
   "source": [
    "import numpy as np\n",
    "import pandas as pd"
   ]
  },
  {
   "cell_type": "code",
   "execution_count": 60,
   "id": "fe378205",
   "metadata": {},
   "outputs": [],
   "source": [
    "#pip install keras.models"
   ]
  },
  {
   "cell_type": "code",
   "execution_count": 61,
   "id": "9eb1c27a",
   "metadata": {},
   "outputs": [],
   "source": [
    "from keras.utils import to_categorical"
   ]
  },
  {
   "cell_type": "code",
   "execution_count": 62,
   "id": "d7ab86de",
   "metadata": {},
   "outputs": [],
   "source": [
    "from keras.layers import Dropout\n",
    "from keras.layers import Conv2D, MaxPooling2D\n",
    "from keras.layers.normalization import BatchNormalization"
   ]
  },
  {
   "cell_type": "code",
   "execution_count": 6,
   "id": "28324f85",
   "metadata": {},
   "outputs": [
    {
     "data": {
      "text/html": [
       "<div>\n",
       "<style scoped>\n",
       "    .dataframe tbody tr th:only-of-type {\n",
       "        vertical-align: middle;\n",
       "    }\n",
       "\n",
       "    .dataframe tbody tr th {\n",
       "        vertical-align: top;\n",
       "    }\n",
       "\n",
       "    .dataframe thead th {\n",
       "        text-align: right;\n",
       "    }\n",
       "</style>\n",
       "<table border=\"1\" class=\"dataframe\">\n",
       "  <thead>\n",
       "    <tr style=\"text-align: right;\">\n",
       "      <th></th>\n",
       "      <th>Unnamed: 0</th>\n",
       "      <th>font</th>\n",
       "      <th>fontVariant</th>\n",
       "      <th>m_label</th>\n",
       "      <th>strength</th>\n",
       "      <th>italic</th>\n",
       "      <th>orientation</th>\n",
       "      <th>m_top</th>\n",
       "      <th>m_left</th>\n",
       "      <th>originalH</th>\n",
       "      <th>...</th>\n",
       "      <th>r19c10</th>\n",
       "      <th>r19c11</th>\n",
       "      <th>r19c12</th>\n",
       "      <th>r19c13</th>\n",
       "      <th>r19c14</th>\n",
       "      <th>r19c15</th>\n",
       "      <th>r19c16</th>\n",
       "      <th>r19c17</th>\n",
       "      <th>r19c18</th>\n",
       "      <th>r19c19</th>\n",
       "    </tr>\n",
       "  </thead>\n",
       "  <tbody>\n",
       "    <tr>\n",
       "      <th>0</th>\n",
       "      <td>226</td>\n",
       "      <td>AGENCY</td>\n",
       "      <td>AGENCY FB</td>\n",
       "      <td>57</td>\n",
       "      <td>0.4</td>\n",
       "      <td>0</td>\n",
       "      <td>0.0</td>\n",
       "      <td>35</td>\n",
       "      <td>24</td>\n",
       "      <td>51</td>\n",
       "      <td>...</td>\n",
       "      <td>255</td>\n",
       "      <td>255</td>\n",
       "      <td>255</td>\n",
       "      <td>255</td>\n",
       "      <td>255</td>\n",
       "      <td>255</td>\n",
       "      <td>255</td>\n",
       "      <td>255</td>\n",
       "      <td>165</td>\n",
       "      <td>60</td>\n",
       "    </tr>\n",
       "    <tr>\n",
       "      <th>1</th>\n",
       "      <td>227</td>\n",
       "      <td>AGENCY</td>\n",
       "      <td>AGENCY FB</td>\n",
       "      <td>56</td>\n",
       "      <td>0.4</td>\n",
       "      <td>0</td>\n",
       "      <td>0.0</td>\n",
       "      <td>35</td>\n",
       "      <td>24</td>\n",
       "      <td>51</td>\n",
       "      <td>...</td>\n",
       "      <td>255</td>\n",
       "      <td>255</td>\n",
       "      <td>255</td>\n",
       "      <td>255</td>\n",
       "      <td>255</td>\n",
       "      <td>255</td>\n",
       "      <td>255</td>\n",
       "      <td>255</td>\n",
       "      <td>165</td>\n",
       "      <td>60</td>\n",
       "    </tr>\n",
       "    <tr>\n",
       "      <th>2</th>\n",
       "      <td>228</td>\n",
       "      <td>AGENCY</td>\n",
       "      <td>AGENCY FB</td>\n",
       "      <td>55</td>\n",
       "      <td>0.4</td>\n",
       "      <td>0</td>\n",
       "      <td>0.0</td>\n",
       "      <td>35</td>\n",
       "      <td>22</td>\n",
       "      <td>51</td>\n",
       "      <td>...</td>\n",
       "      <td>27</td>\n",
       "      <td>1</td>\n",
       "      <td>1</td>\n",
       "      <td>1</td>\n",
       "      <td>1</td>\n",
       "      <td>1</td>\n",
       "      <td>1</td>\n",
       "      <td>1</td>\n",
       "      <td>1</td>\n",
       "      <td>1</td>\n",
       "    </tr>\n",
       "    <tr>\n",
       "      <th>3</th>\n",
       "      <td>229</td>\n",
       "      <td>AGENCY</td>\n",
       "      <td>AGENCY FB</td>\n",
       "      <td>54</td>\n",
       "      <td>0.4</td>\n",
       "      <td>0</td>\n",
       "      <td>0.0</td>\n",
       "      <td>35</td>\n",
       "      <td>24</td>\n",
       "      <td>51</td>\n",
       "      <td>...</td>\n",
       "      <td>255</td>\n",
       "      <td>255</td>\n",
       "      <td>255</td>\n",
       "      <td>255</td>\n",
       "      <td>255</td>\n",
       "      <td>255</td>\n",
       "      <td>255</td>\n",
       "      <td>255</td>\n",
       "      <td>165</td>\n",
       "      <td>60</td>\n",
       "    </tr>\n",
       "    <tr>\n",
       "      <th>4</th>\n",
       "      <td>230</td>\n",
       "      <td>AGENCY</td>\n",
       "      <td>AGENCY FB</td>\n",
       "      <td>53</td>\n",
       "      <td>0.4</td>\n",
       "      <td>0</td>\n",
       "      <td>0.0</td>\n",
       "      <td>35</td>\n",
       "      <td>24</td>\n",
       "      <td>51</td>\n",
       "      <td>...</td>\n",
       "      <td>255</td>\n",
       "      <td>255</td>\n",
       "      <td>255</td>\n",
       "      <td>255</td>\n",
       "      <td>255</td>\n",
       "      <td>255</td>\n",
       "      <td>255</td>\n",
       "      <td>255</td>\n",
       "      <td>165</td>\n",
       "      <td>60</td>\n",
       "    </tr>\n",
       "  </tbody>\n",
       "</table>\n",
       "<p>5 rows × 413 columns</p>\n",
       "</div>"
      ],
      "text/plain": [
       "   Unnamed: 0    font fontVariant  m_label  strength  italic  orientation  \\\n",
       "0         226  AGENCY   AGENCY FB       57       0.4       0          0.0   \n",
       "1         227  AGENCY   AGENCY FB       56       0.4       0          0.0   \n",
       "2         228  AGENCY   AGENCY FB       55       0.4       0          0.0   \n",
       "3         229  AGENCY   AGENCY FB       54       0.4       0          0.0   \n",
       "4         230  AGENCY   AGENCY FB       53       0.4       0          0.0   \n",
       "\n",
       "   m_top  m_left  originalH  ...  r19c10  r19c11  r19c12  r19c13  r19c14  \\\n",
       "0     35      24         51  ...     255     255     255     255     255   \n",
       "1     35      24         51  ...     255     255     255     255     255   \n",
       "2     35      22         51  ...      27       1       1       1       1   \n",
       "3     35      24         51  ...     255     255     255     255     255   \n",
       "4     35      24         51  ...     255     255     255     255     255   \n",
       "\n",
       "   r19c15  r19c16  r19c17  r19c18  r19c19  \n",
       "0     255     255     255     165      60  \n",
       "1     255     255     255     165      60  \n",
       "2       1       1       1       1       1  \n",
       "3     255     255     255     165      60  \n",
       "4     255     255     255     165      60  \n",
       "\n",
       "[5 rows x 413 columns]"
      ]
     },
     "execution_count": 6,
     "metadata": {},
     "output_type": "execute_result"
    }
   ],
   "source": [
    "df=pd.read_csv('modified_data/combined_csv.csv')\n",
    "\n",
    "df.head()"
   ]
  },
  {
   "cell_type": "code",
   "execution_count": 7,
   "id": "aac504a3",
   "metadata": {},
   "outputs": [],
   "source": [
    "df=df.drop(columns=['Unnamed: 0','font', 'fontVariant','strength','italic','orientation','m_top','m_left','originalH','originalW','h','w'])"
   ]
  },
  {
   "cell_type": "code",
   "execution_count": 9,
   "id": "7ac69123",
   "metadata": {},
   "outputs": [],
   "source": [
    "#df=df.drop(columns=['originalW','h','w'])"
   ]
  },
  {
   "cell_type": "code",
   "execution_count": 10,
   "id": "6021bf3f",
   "metadata": {},
   "outputs": [
    {
     "data": {
      "text/plain": [
       "array([57, 56, 55, 54, 53, 52, 51, 50, 49, 48, 46, 44])"
      ]
     },
     "execution_count": 10,
     "metadata": {},
     "output_type": "execute_result"
    }
   ],
   "source": [
    "df.m_label.unique()"
   ]
  },
  {
   "cell_type": "code",
   "execution_count": 11,
   "id": "16d71495",
   "metadata": {},
   "outputs": [
    {
     "data": {
      "text/html": [
       "<div>\n",
       "<style scoped>\n",
       "    .dataframe tbody tr th:only-of-type {\n",
       "        vertical-align: middle;\n",
       "    }\n",
       "\n",
       "    .dataframe tbody tr th {\n",
       "        vertical-align: top;\n",
       "    }\n",
       "\n",
       "    .dataframe thead th {\n",
       "        text-align: right;\n",
       "    }\n",
       "</style>\n",
       "<table border=\"1\" class=\"dataframe\">\n",
       "  <thead>\n",
       "    <tr style=\"text-align: right;\">\n",
       "      <th></th>\n",
       "      <th>m_label</th>\n",
       "      <th>r0c0</th>\n",
       "      <th>r0c1</th>\n",
       "      <th>r0c2</th>\n",
       "      <th>r0c3</th>\n",
       "      <th>r0c4</th>\n",
       "      <th>r0c5</th>\n",
       "      <th>r0c6</th>\n",
       "      <th>r0c7</th>\n",
       "      <th>r0c8</th>\n",
       "      <th>...</th>\n",
       "      <th>r19c10</th>\n",
       "      <th>r19c11</th>\n",
       "      <th>r19c12</th>\n",
       "      <th>r19c13</th>\n",
       "      <th>r19c14</th>\n",
       "      <th>r19c15</th>\n",
       "      <th>r19c16</th>\n",
       "      <th>r19c17</th>\n",
       "      <th>r19c18</th>\n",
       "      <th>r19c19</th>\n",
       "    </tr>\n",
       "  </thead>\n",
       "  <tbody>\n",
       "    <tr>\n",
       "      <th>0</th>\n",
       "      <td>57</td>\n",
       "      <td>60</td>\n",
       "      <td>165</td>\n",
       "      <td>255</td>\n",
       "      <td>255</td>\n",
       "      <td>255</td>\n",
       "      <td>255</td>\n",
       "      <td>255</td>\n",
       "      <td>255</td>\n",
       "      <td>255</td>\n",
       "      <td>...</td>\n",
       "      <td>255</td>\n",
       "      <td>255</td>\n",
       "      <td>255</td>\n",
       "      <td>255</td>\n",
       "      <td>255</td>\n",
       "      <td>255</td>\n",
       "      <td>255</td>\n",
       "      <td>255</td>\n",
       "      <td>165</td>\n",
       "      <td>60</td>\n",
       "    </tr>\n",
       "    <tr>\n",
       "      <th>1</th>\n",
       "      <td>56</td>\n",
       "      <td>60</td>\n",
       "      <td>165</td>\n",
       "      <td>255</td>\n",
       "      <td>255</td>\n",
       "      <td>255</td>\n",
       "      <td>255</td>\n",
       "      <td>255</td>\n",
       "      <td>255</td>\n",
       "      <td>255</td>\n",
       "      <td>...</td>\n",
       "      <td>255</td>\n",
       "      <td>255</td>\n",
       "      <td>255</td>\n",
       "      <td>255</td>\n",
       "      <td>255</td>\n",
       "      <td>255</td>\n",
       "      <td>255</td>\n",
       "      <td>255</td>\n",
       "      <td>165</td>\n",
       "      <td>60</td>\n",
       "    </tr>\n",
       "    <tr>\n",
       "      <th>2</th>\n",
       "      <td>55</td>\n",
       "      <td>255</td>\n",
       "      <td>255</td>\n",
       "      <td>255</td>\n",
       "      <td>255</td>\n",
       "      <td>255</td>\n",
       "      <td>255</td>\n",
       "      <td>255</td>\n",
       "      <td>255</td>\n",
       "      <td>255</td>\n",
       "      <td>...</td>\n",
       "      <td>27</td>\n",
       "      <td>1</td>\n",
       "      <td>1</td>\n",
       "      <td>1</td>\n",
       "      <td>1</td>\n",
       "      <td>1</td>\n",
       "      <td>1</td>\n",
       "      <td>1</td>\n",
       "      <td>1</td>\n",
       "      <td>1</td>\n",
       "    </tr>\n",
       "    <tr>\n",
       "      <th>3</th>\n",
       "      <td>54</td>\n",
       "      <td>60</td>\n",
       "      <td>165</td>\n",
       "      <td>255</td>\n",
       "      <td>255</td>\n",
       "      <td>255</td>\n",
       "      <td>255</td>\n",
       "      <td>255</td>\n",
       "      <td>255</td>\n",
       "      <td>255</td>\n",
       "      <td>...</td>\n",
       "      <td>255</td>\n",
       "      <td>255</td>\n",
       "      <td>255</td>\n",
       "      <td>255</td>\n",
       "      <td>255</td>\n",
       "      <td>255</td>\n",
       "      <td>255</td>\n",
       "      <td>255</td>\n",
       "      <td>165</td>\n",
       "      <td>60</td>\n",
       "    </tr>\n",
       "    <tr>\n",
       "      <th>4</th>\n",
       "      <td>53</td>\n",
       "      <td>255</td>\n",
       "      <td>255</td>\n",
       "      <td>255</td>\n",
       "      <td>255</td>\n",
       "      <td>255</td>\n",
       "      <td>255</td>\n",
       "      <td>255</td>\n",
       "      <td>255</td>\n",
       "      <td>255</td>\n",
       "      <td>...</td>\n",
       "      <td>255</td>\n",
       "      <td>255</td>\n",
       "      <td>255</td>\n",
       "      <td>255</td>\n",
       "      <td>255</td>\n",
       "      <td>255</td>\n",
       "      <td>255</td>\n",
       "      <td>255</td>\n",
       "      <td>165</td>\n",
       "      <td>60</td>\n",
       "    </tr>\n",
       "  </tbody>\n",
       "</table>\n",
       "<p>5 rows × 401 columns</p>\n",
       "</div>"
      ],
      "text/plain": [
       "   m_label  r0c0  r0c1  r0c2  r0c3  r0c4  r0c5  r0c6  r0c7  r0c8  ...  r19c10  \\\n",
       "0       57    60   165   255   255   255   255   255   255   255  ...     255   \n",
       "1       56    60   165   255   255   255   255   255   255   255  ...     255   \n",
       "2       55   255   255   255   255   255   255   255   255   255  ...      27   \n",
       "3       54    60   165   255   255   255   255   255   255   255  ...     255   \n",
       "4       53   255   255   255   255   255   255   255   255   255  ...     255   \n",
       "\n",
       "   r19c11  r19c12  r19c13  r19c14  r19c15  r19c16  r19c17  r19c18  r19c19  \n",
       "0     255     255     255     255     255     255     255     165      60  \n",
       "1     255     255     255     255     255     255     255     165      60  \n",
       "2       1       1       1       1       1       1       1       1       1  \n",
       "3     255     255     255     255     255     255     255     165      60  \n",
       "4     255     255     255     255     255     255     255     165      60  \n",
       "\n",
       "[5 rows x 401 columns]"
      ]
     },
     "execution_count": 11,
     "metadata": {},
     "output_type": "execute_result"
    }
   ],
   "source": [
    "df.head()"
   ]
  },
  {
   "cell_type": "code",
   "execution_count": 12,
   "id": "4a37f963",
   "metadata": {},
   "outputs": [],
   "source": [
    "df.to_csv( \"FINAL.csv\", index=False, encoding='utf-8-sig')"
   ]
  },
  {
   "cell_type": "code",
   "execution_count": 13,
   "id": "9cf834e5",
   "metadata": {},
   "outputs": [],
   "source": [
    "DF_FINAL=pd.read_csv('FINAL.csv')"
   ]
  },
  {
   "cell_type": "code",
   "execution_count": null,
   "id": "7a4640f2",
   "metadata": {},
   "outputs": [],
   "source": [
    "#hacer diccionario \n",
    "#pasar diccionario a columna Y (m:label)\n",
    "#hacer to_category"
   ]
  },
  {
   "cell_type": "code",
   "execution_count": 31,
   "id": "5ad8243b",
   "metadata": {},
   "outputs": [],
   "source": [
    "di={48:0, 49:1, 50:2,51:3,52:4,53:5,54:6,55:7,56:8,57:9,44:10,46:11}\n",
    "#10 es coma, 11 es punto"
   ]
  },
  {
   "cell_type": "code",
   "execution_count": null,
   "id": "44d38fa8",
   "metadata": {},
   "outputs": [],
   "source": [
    "df['col1'].replace(di, inplace=True)"
   ]
  },
  {
   "cell_type": "code",
   "execution_count": 35,
   "id": "ad4a5bf8",
   "metadata": {},
   "outputs": [],
   "source": [
    "DF_FINAL= DF_FINAL.replace({\"m_label\": di})"
   ]
  },
  {
   "cell_type": "code",
   "execution_count": 36,
   "id": "cbd72e8b",
   "metadata": {},
   "outputs": [
    {
     "data": {
      "text/plain": [
       "array([ 9,  8,  7,  6,  5,  4,  3,  2,  1,  0, 11, 10])"
      ]
     },
     "execution_count": 36,
     "metadata": {},
     "output_type": "execute_result"
    }
   ],
   "source": [
    "DF_FINAL.m_label.unique()"
   ]
  },
  {
   "cell_type": "code",
   "execution_count": 37,
   "id": "06061f96",
   "metadata": {},
   "outputs": [],
   "source": [
    "import random\n",
    "\n",
    "filename = \"FINAL.csv\" \n",
    "n = sum(1 for line in open(filename))-1  # Calculate number of rows in file\n",
    "s = n//50  # sample size of %\n",
    "skip = sorted(random.sample(range(1, n+1), n-s))  # n+1 to compensate for header "
   ]
  },
  {
   "cell_type": "code",
   "execution_count": null,
   "id": "e959f116",
   "metadata": {},
   "outputs": [],
   "source": [
    "#dataframe.info"
   ]
  },
  {
   "cell_type": "code",
   "execution_count": 38,
   "id": "c4b856fb",
   "metadata": {},
   "outputs": [],
   "source": [
    "dataframe = pd.read_csv(filename, skiprows=skip)"
   ]
  },
  {
   "cell_type": "code",
   "execution_count": 39,
   "id": "719b6dcb",
   "metadata": {},
   "outputs": [
    {
     "data": {
      "text/html": [
       "<div>\n",
       "<style scoped>\n",
       "    .dataframe tbody tr th:only-of-type {\n",
       "        vertical-align: middle;\n",
       "    }\n",
       "\n",
       "    .dataframe tbody tr th {\n",
       "        vertical-align: top;\n",
       "    }\n",
       "\n",
       "    .dataframe thead th {\n",
       "        text-align: right;\n",
       "    }\n",
       "</style>\n",
       "<table border=\"1\" class=\"dataframe\">\n",
       "  <thead>\n",
       "    <tr style=\"text-align: right;\">\n",
       "      <th></th>\n",
       "      <th>m_label</th>\n",
       "      <th>r0c0</th>\n",
       "      <th>r0c1</th>\n",
       "      <th>r0c2</th>\n",
       "      <th>r0c3</th>\n",
       "      <th>r0c4</th>\n",
       "      <th>r0c5</th>\n",
       "      <th>r0c6</th>\n",
       "      <th>r0c7</th>\n",
       "      <th>r0c8</th>\n",
       "      <th>...</th>\n",
       "      <th>r19c10</th>\n",
       "      <th>r19c11</th>\n",
       "      <th>r19c12</th>\n",
       "      <th>r19c13</th>\n",
       "      <th>r19c14</th>\n",
       "      <th>r19c15</th>\n",
       "      <th>r19c16</th>\n",
       "      <th>r19c17</th>\n",
       "      <th>r19c18</th>\n",
       "      <th>r19c19</th>\n",
       "    </tr>\n",
       "  </thead>\n",
       "  <tbody>\n",
       "    <tr>\n",
       "      <th>0</th>\n",
       "      <td>51</td>\n",
       "      <td>79</td>\n",
       "      <td>202</td>\n",
       "      <td>255</td>\n",
       "      <td>255</td>\n",
       "      <td>255</td>\n",
       "      <td>255</td>\n",
       "      <td>255</td>\n",
       "      <td>255</td>\n",
       "      <td>255</td>\n",
       "      <td>...</td>\n",
       "      <td>255</td>\n",
       "      <td>255</td>\n",
       "      <td>255</td>\n",
       "      <td>255</td>\n",
       "      <td>255</td>\n",
       "      <td>255</td>\n",
       "      <td>255</td>\n",
       "      <td>255</td>\n",
       "      <td>202</td>\n",
       "      <td>79</td>\n",
       "    </tr>\n",
       "    <tr>\n",
       "      <th>1</th>\n",
       "      <td>54</td>\n",
       "      <td>1</td>\n",
       "      <td>1</td>\n",
       "      <td>1</td>\n",
       "      <td>1</td>\n",
       "      <td>1</td>\n",
       "      <td>1</td>\n",
       "      <td>1</td>\n",
       "      <td>1</td>\n",
       "      <td>255</td>\n",
       "      <td>...</td>\n",
       "      <td>255</td>\n",
       "      <td>255</td>\n",
       "      <td>255</td>\n",
       "      <td>255</td>\n",
       "      <td>1</td>\n",
       "      <td>1</td>\n",
       "      <td>1</td>\n",
       "      <td>1</td>\n",
       "      <td>1</td>\n",
       "      <td>1</td>\n",
       "    </tr>\n",
       "    <tr>\n",
       "      <th>2</th>\n",
       "      <td>54</td>\n",
       "      <td>1</td>\n",
       "      <td>16</td>\n",
       "      <td>19</td>\n",
       "      <td>25</td>\n",
       "      <td>41</td>\n",
       "      <td>65</td>\n",
       "      <td>81</td>\n",
       "      <td>127</td>\n",
       "      <td>163</td>\n",
       "      <td>...</td>\n",
       "      <td>206</td>\n",
       "      <td>206</td>\n",
       "      <td>203</td>\n",
       "      <td>157</td>\n",
       "      <td>111</td>\n",
       "      <td>74</td>\n",
       "      <td>49</td>\n",
       "      <td>35</td>\n",
       "      <td>27</td>\n",
       "      <td>17</td>\n",
       "    </tr>\n",
       "    <tr>\n",
       "      <th>3</th>\n",
       "      <td>57</td>\n",
       "      <td>1</td>\n",
       "      <td>1</td>\n",
       "      <td>1</td>\n",
       "      <td>1</td>\n",
       "      <td>1</td>\n",
       "      <td>1</td>\n",
       "      <td>1</td>\n",
       "      <td>1</td>\n",
       "      <td>1</td>\n",
       "      <td>...</td>\n",
       "      <td>255</td>\n",
       "      <td>255</td>\n",
       "      <td>255</td>\n",
       "      <td>255</td>\n",
       "      <td>1</td>\n",
       "      <td>1</td>\n",
       "      <td>1</td>\n",
       "      <td>1</td>\n",
       "      <td>1</td>\n",
       "      <td>1</td>\n",
       "    </tr>\n",
       "    <tr>\n",
       "      <th>4</th>\n",
       "      <td>48</td>\n",
       "      <td>9</td>\n",
       "      <td>10</td>\n",
       "      <td>14</td>\n",
       "      <td>39</td>\n",
       "      <td>82</td>\n",
       "      <td>114</td>\n",
       "      <td>141</td>\n",
       "      <td>167</td>\n",
       "      <td>177</td>\n",
       "      <td>...</td>\n",
       "      <td>166</td>\n",
       "      <td>165</td>\n",
       "      <td>153</td>\n",
       "      <td>121</td>\n",
       "      <td>82</td>\n",
       "      <td>36</td>\n",
       "      <td>16</td>\n",
       "      <td>5</td>\n",
       "      <td>2</td>\n",
       "      <td>1</td>\n",
       "    </tr>\n",
       "  </tbody>\n",
       "</table>\n",
       "<p>5 rows × 401 columns</p>\n",
       "</div>"
      ],
      "text/plain": [
       "   m_label  r0c0  r0c1  r0c2  r0c3  r0c4  r0c5  r0c6  r0c7  r0c8  ...  r19c10  \\\n",
       "0       51    79   202   255   255   255   255   255   255   255  ...     255   \n",
       "1       54     1     1     1     1     1     1     1     1   255  ...     255   \n",
       "2       54     1    16    19    25    41    65    81   127   163  ...     206   \n",
       "3       57     1     1     1     1     1     1     1     1     1  ...     255   \n",
       "4       48     9    10    14    39    82   114   141   167   177  ...     166   \n",
       "\n",
       "   r19c11  r19c12  r19c13  r19c14  r19c15  r19c16  r19c17  r19c18  r19c19  \n",
       "0     255     255     255     255     255     255     255     202      79  \n",
       "1     255     255     255       1       1       1       1       1       1  \n",
       "2     206     203     157     111      74      49      35      27      17  \n",
       "3     255     255     255       1       1       1       1       1       1  \n",
       "4     165     153     121      82      36      16       5       2       1  \n",
       "\n",
       "[5 rows x 401 columns]"
      ]
     },
     "execution_count": 39,
     "metadata": {},
     "output_type": "execute_result"
    }
   ],
   "source": [
    "dataframe.head()"
   ]
  },
  {
   "cell_type": "code",
   "execution_count": 40,
   "id": "b27cdb18",
   "metadata": {},
   "outputs": [],
   "source": [
    "dataframe= dataframe.replace({\"m_label\": di})"
   ]
  },
  {
   "cell_type": "code",
   "execution_count": 41,
   "id": "b76badf3",
   "metadata": {},
   "outputs": [
    {
     "data": {
      "text/plain": [
       "array([ 3,  6,  9,  0,  5,  1,  2, 10,  8,  7,  4, 11])"
      ]
     },
     "execution_count": 41,
     "metadata": {},
     "output_type": "execute_result"
    }
   ],
   "source": [
    "dataframe.m_label.unique()"
   ]
  },
  {
   "cell_type": "code",
   "execution_count": 42,
   "id": "42a23541",
   "metadata": {},
   "outputs": [
    {
     "data": {
      "text/plain": [
       "(4474, 401)"
      ]
     },
     "execution_count": 42,
     "metadata": {},
     "output_type": "execute_result"
    }
   ],
   "source": [
    "dataframe.shape"
   ]
  },
  {
   "cell_type": "code",
   "execution_count": null,
   "id": "964c25f3",
   "metadata": {},
   "outputs": [],
   "source": [
    "#fonts=dataframe.drop(columns=['Unnamed: 0'])"
   ]
  },
  {
   "cell_type": "code",
   "execution_count": null,
   "id": "04757825",
   "metadata": {},
   "outputs": [],
   "source": [
    "#fonts.info"
   ]
  },
  {
   "cell_type": "code",
   "execution_count": 43,
   "id": "d6ee505b",
   "metadata": {},
   "outputs": [],
   "source": [
    "import matplotlib.pyplot as plt"
   ]
  },
  {
   "cell_type": "code",
   "execution_count": 44,
   "id": "cbb27d53",
   "metadata": {},
   "outputs": [
    {
     "data": {
      "image/png": "[encoded data removed]",
      "text/plain": [
       "<Figure size 360x360 with 1 Axes>"
      ]
     },
     "metadata": {
      "needs_background": "light"
     },
     "output_type": "display_data"
    }
   ],
   "source": [
    "plt.figure(figsize=(5,5))\n",
    "plt.imshow(dataframe.values[45,1:].reshape(20,20))\n",
    "plt.show();"
   ]
  },
  {
   "cell_type": "code",
   "execution_count": 45,
   "id": "2e5fd8f2",
   "metadata": {},
   "outputs": [
    {
     "data": {
      "text/plain": [
       "array([ 3,  6,  9,  0,  5,  1,  2, 10,  8,  7,  4, 11])"
      ]
     },
     "execution_count": 45,
     "metadata": {},
     "output_type": "execute_result"
    }
   ],
   "source": [
    "dataframe.m_label.unique()"
   ]
  },
  {
   "cell_type": "code",
   "execution_count": 46,
   "id": "ec5766ef",
   "metadata": {},
   "outputs": [],
   "source": [
    "input_shape=(20, 20, 1)"
   ]
  },
  {
   "cell_type": "code",
   "execution_count": 47,
   "id": "4acbf068",
   "metadata": {},
   "outputs": [],
   "source": [
    "X=np.array(dataframe.iloc[:, 1:])"
   ]
  },
  {
   "cell_type": "code",
   "execution_count": 48,
   "id": "fb4b35c0",
   "metadata": {},
   "outputs": [
    {
     "data": {
      "text/plain": [
       "(4474, 400)"
      ]
     },
     "execution_count": 48,
     "metadata": {},
     "output_type": "execute_result"
    }
   ],
   "source": [
    "X.shape"
   ]
  },
  {
   "cell_type": "code",
   "execution_count": null,
   "id": "56f32a4a",
   "metadata": {},
   "outputs": [],
   "source": [
    "a = tf.keras.utils.to_categorical([0, 1, 2, 3], num_classes=4)\n",
    "a = tf.constant(a, shape=[4, 4])\n",
    "print(a)"
   ]
  },
  {
   "cell_type": "code",
   "execution_count": 49,
   "id": "0d155fe9",
   "metadata": {},
   "outputs": [],
   "source": [
    "primer_paso_y=np.array(dataframe.iloc[:,0])"
   ]
  },
  {
   "cell_type": "code",
   "execution_count": 50,
   "id": "71a33a69",
   "metadata": {},
   "outputs": [
    {
     "data": {
      "text/plain": [
       "4474"
      ]
     },
     "execution_count": 50,
     "metadata": {},
     "output_type": "execute_result"
    }
   ],
   "source": [
    "len(primer_paso_y)"
   ]
  },
  {
   "cell_type": "code",
   "execution_count": 51,
   "id": "3966ea3f",
   "metadata": {},
   "outputs": [
    {
     "data": {
      "text/plain": [
       "array([3, 6, 6, ..., 6, 1, 3])"
      ]
     },
     "execution_count": 51,
     "metadata": {},
     "output_type": "execute_result"
    }
   ],
   "source": [
    "primer_paso_y"
   ]
  },
  {
   "cell_type": "code",
   "execution_count": 65,
   "id": "edaf8de9",
   "metadata": {},
   "outputs": [],
   "source": [
    "y=to_categorical(primer_paso_y)"
   ]
  },
  {
   "cell_type": "code",
   "execution_count": 66,
   "id": "013ad909",
   "metadata": {},
   "outputs": [
    {
     "data": {
      "text/plain": [
       "array([[0., 0., 0., ..., 0., 0., 0.],\n",
       "       [0., 0., 0., ..., 0., 0., 0.],\n",
       "       [0., 0., 0., ..., 0., 0., 0.],\n",
       "       ...,\n",
       "       [0., 0., 0., ..., 0., 0., 0.],\n",
       "       [0., 1., 0., ..., 0., 0., 0.],\n",
       "       [0., 0., 0., ..., 0., 0., 0.]], dtype=float32)"
      ]
     },
     "execution_count": 66,
     "metadata": {},
     "output_type": "execute_result"
    }
   ],
   "source": [
    "y"
   ]
  },
  {
   "cell_type": "code",
   "execution_count": 67,
   "id": "f546dbff",
   "metadata": {},
   "outputs": [
    {
     "data": {
      "text/plain": [
       "(4474, 12)"
      ]
     },
     "execution_count": 67,
     "metadata": {},
     "output_type": "execute_result"
    }
   ],
   "source": [
    "y.shape"
   ]
  },
  {
   "cell_type": "code",
   "execution_count": 68,
   "id": "043ec49a",
   "metadata": {},
   "outputs": [],
   "source": [
    "from sklearn.model_selection import train_test_split as tts"
   ]
  },
  {
   "cell_type": "code",
   "execution_count": 69,
   "id": "f04d6428",
   "metadata": {},
   "outputs": [],
   "source": [
    "X_train, X_test, y_train, y_test=tts(X, y)"
   ]
  },
  {
   "cell_type": "code",
   "execution_count": 70,
   "id": "69e060d9",
   "metadata": {},
   "outputs": [],
   "source": [
    "X_train=X_train.reshape(X_train.shape[0], 20, 20, 1).astype('float32')/255\n",
    "\n",
    "X_test=X_test.reshape(X_test.shape[0], 20, 20, 1).astype('float32')/255"
   ]
  },
  {
   "cell_type": "code",
   "execution_count": 78,
   "id": "f3d0e102",
   "metadata": {},
   "outputs": [],
   "source": [
    "batch=256\n",
    "n_clases=12 #we have 12 classes as defined in the dictionary numbers, point and comma\n",
    "epocas=200"
   ]
  },
  {
   "cell_type": "code",
   "execution_count": 84,
   "id": "f49ed278",
   "metadata": {},
   "outputs": [
    {
     "name": "stdout",
     "output_type": "stream",
     "text": [
      "CPU times: user 0 ns, sys: 0 ns, total: 0 ns\n",
      "Wall time: 19.6 µs\n"
     ]
    },
    {
     "data": {
      "text/plain": [
       "(4474, 12)"
      ]
     },
     "execution_count": 84,
     "metadata": {},
     "output_type": "execute_result"
    }
   ],
   "source": [
    "%%time\n",
    "y.shape\n"
   ]
  },
  {
   "cell_type": "code",
   "execution_count": 80,
   "id": "2ee29540",
   "metadata": {},
   "outputs": [
    {
     "data": {
      "text/plain": [
       "array([[0., 0., 0., ..., 0., 0., 0.],\n",
       "       [0., 0., 0., ..., 0., 0., 0.],\n",
       "       [0., 0., 0., ..., 0., 0., 0.],\n",
       "       ...,\n",
       "       [0., 0., 0., ..., 0., 0., 0.],\n",
       "       [0., 1., 0., ..., 0., 0., 0.],\n",
       "       [0., 0., 0., ..., 0., 0., 0.]], dtype=float32)"
      ]
     },
     "execution_count": 80,
     "metadata": {},
     "output_type": "execute_result"
    }
   ],
   "source": [
    "y"
   ]
  },
  {
   "cell_type": "markdown",
   "id": "3b7d9df6",
   "metadata": {},
   "source": [
    "### Model"
   ]
  },
  {
   "cell_type": "code",
   "execution_count": 74,
   "id": "84884804",
   "metadata": {},
   "outputs": [],
   "source": [
    "from tensorflow.keras import Sequential\n",
    "from keras.layers import Flatten\n",
    "from keras.layers import Dense\n",
    "from keras.layers.convolutional import Conv1D, MaxPooling1D\n",
    "from keras.layers import Dropout\n",
    "from keras.layers.normalization import BatchNormalization"
   ]
  },
  {
   "cell_type": "code",
   "execution_count": 75,
   "id": "af6cd613",
   "metadata": {},
   "outputs": [],
   "source": [
    "from tensorflow import keras"
   ]
  },
  {
   "cell_type": "code",
   "execution_count": 81,
   "id": "2d0e425e",
   "metadata": {},
   "outputs": [
    {
     "name": "stdout",
     "output_type": "stream",
     "text": [
      "Model: \"sequential_1\"\n",
      "_________________________________________________________________\n",
      "Layer (type)                 Output Shape              Param #   \n",
      "=================================================================\n",
      "conv2d_3 (Conv2D)            (None, 18, 18, 32)        320       \n",
      "_________________________________________________________________\n",
      "max_pooling2d_2 (MaxPooling2 (None, 9, 9, 32)          0         \n",
      "_________________________________________________________________\n",
      "dropout_4 (Dropout)          (None, 9, 9, 32)          0         \n",
      "_________________________________________________________________\n",
      "conv2d_4 (Conv2D)            (None, 7, 7, 64)          18496     \n",
      "_________________________________________________________________\n",
      "max_pooling2d_3 (MaxPooling2 (None, 3, 3, 64)          0         \n",
      "_________________________________________________________________\n",
      "dropout_5 (Dropout)          (None, 3, 3, 64)          0         \n",
      "_________________________________________________________________\n",
      "conv2d_5 (Conv2D)            (None, 1, 1, 128)         73856     \n",
      "_________________________________________________________________\n",
      "dropout_6 (Dropout)          (None, 1, 1, 128)         0         \n",
      "_________________________________________________________________\n",
      "flatten_1 (Flatten)          (None, 128)               0         \n",
      "_________________________________________________________________\n",
      "dense_2 (Dense)              (None, 128)               16512     \n",
      "_________________________________________________________________\n",
      "dropout_7 (Dropout)          (None, 128)               0         \n",
      "_________________________________________________________________\n",
      "dense_3 (Dense)              (None, 12)                1548      \n",
      "=================================================================\n",
      "Total params: 110,732\n",
      "Trainable params: 110,732\n",
      "Non-trainable params: 0\n",
      "_________________________________________________________________\n"
     ]
    }
   ],
   "source": [
    "modelo=Sequential()\n",
    "modelo.add(Conv2D(32, kernel_size=(3, 3), activation='relu',\n",
    "                  kernel_initializer='he_normal', input_shape=input_shape))\n",
    "\n",
    "modelo.add(MaxPooling2D((2,2)))\n",
    "modelo.add(Dropout(0.25))\n",
    "\n",
    "modelo.add(Conv2D(64, (3, 3), activation='relu'))\n",
    "modelo.add(MaxPooling2D((2,2)))\n",
    "modelo.add(Dropout(0.25))\n",
    "modelo.add(Conv2D(128, (3, 3), activation='relu'))\n",
    "modelo.add(Dropout(0.4))\n",
    "\n",
    "modelo.add(Flatten())\n",
    "modelo.add(Dense(128,  activation='relu'))\n",
    "modelo.add(Dropout(0.3))\n",
    "modelo.add(Dense(n_clases, activation='softmax'))\n",
    "\n",
    "\n",
    "modelo.compile(loss=keras.losses.categorical_crossentropy, \n",
    "               optimizer=keras.optimizers.Adam(), \n",
    "               metrics=['accuracy'])\n",
    "\n",
    "modelo.summary()"
   ]
  },
  {
   "cell_type": "code",
   "execution_count": 83,
   "id": "b6d8c2bc",
   "metadata": {},
   "outputs": [],
   "source": [
    "import time"
   ]
  },
  {
   "cell_type": "code",
   "execution_count": 85,
   "id": "7d9e359f",
   "metadata": {},
   "outputs": [
    {
     "name": "stdout",
     "output_type": "stream",
     "text": [
      "CPU times: user 11min 47s, sys: 1min 59s, total: 13min 47s\n",
      "Wall time: 4min 2s\n"
     ]
    }
   ],
   "source": [
    "%%time\n",
    "historico=modelo.fit(X_train, y_train, batch_size=batch, epochs=epocas, verbose=0)"
   ]
  },
  {
   "cell_type": "code",
   "execution_count": 86,
   "id": "63c6a269",
   "metadata": {},
   "outputs": [],
   "source": [
    "score=modelo.evaluate(X_test, y_test, verbose=0)"
   ]
  },
  {
   "cell_type": "code",
   "execution_count": 87,
   "id": "01d7d7e6",
   "metadata": {},
   "outputs": [
    {
     "name": "stdout",
     "output_type": "stream",
     "text": [
      "Perdida testeo:  0.12428642064332962\n",
      "Accuracy testeo:  0.9615728259086609\n"
     ]
    }
   ],
   "source": [
    "print ('Perdida testeo: ', score[0])\n",
    "print ('Accuracy testeo: ', score[1])"
   ]
  },
  {
   "cell_type": "code",
   "execution_count": 88,
   "id": "fd0b7159",
   "metadata": {},
   "outputs": [],
   "source": [
    "acc=historico.history['accuracy']\n",
    "loss=historico.history['loss']\n",
    "\n",
    "epocas=range(len(acc))"
   ]
  }
 ],
 "metadata": {
  "kernelspec": {
   "display_name": "clase",
   "language": "python",
   "name": "clase"
  },
  "language_info": {
   "codemirror_mode": {
    "name": "ipython",
    "version": 3
   },
   "file_extension": ".py",
   "mimetype": "text/x-python",
   "name": "python",
   "nbconvert_exporter": "python",
   "pygments_lexer": "ipython3",
   "version": "3.8.8"
  }
 },
 "nbformat": 4,
 "nbformat_minor": 5
}
