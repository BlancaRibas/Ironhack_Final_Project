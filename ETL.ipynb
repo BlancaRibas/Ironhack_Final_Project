{
 "cells": [
  {
   "cell_type": "markdown",
   "id": "5a4db3ff",
   "metadata": {},
   "source": [
    "## ETL:  Data cleaning"
   ]
  },
  {
   "cell_type": "markdown",
   "id": "f3b526c8",
   "metadata": {},
   "source": [
    "#### To plot data from original csv\n",
    "To know which are the \"m_label\" codes I have used ASCII codes \n",
    "As I am creating a currency conversor I will only select the following m_label codes\n",
    "(numbers 0 to 9 as follows: 48,49,50,51,52,53,54,55,56,57)\n",
    "(comma:44, point: 46)"
   ]
  },
  {
   "cell_type": "code",
   "execution_count": null,
   "id": "a5b5f626",
   "metadata": {},
   "outputs": [],
   "source": [
    "import pandas as pd\n",
    "import numpy as np"
   ]
  },
  {
   "cell_type": "code",
   "execution_count": null,
   "id": "3377c9dc",
   "metadata": {},
   "outputs": [],
   "source": [
    "#check of plot of Arial font\n",
    "check = pd.read_csv('ARIAL.csv')\n",
    "pd.set_option('display.max_columns', None)\n",
    "check.head()"
   ]
  },
  {
   "cell_type": "code",
   "execution_count": null,
   "id": "e7ef58f5",
   "metadata": {},
   "outputs": [],
   "source": [
    "#checking data follows ASCII code\n",
    "asciii = check.loc[check['m_label'] == 46]\n",
    "asciii.head(10)"
   ]
  },
  {
   "cell_type": "code",
   "execution_count": null,
   "id": "06503e62",
   "metadata": {},
   "outputs": [],
   "source": [
    "import matplotlib.pyplot as plt"
   ]
  },
  {
   "cell_type": "code",
   "execution_count": null,
   "id": "6d8911d2",
   "metadata": {},
   "outputs": [],
   "source": [
    "data = check.iloc[1106,12:]/255 #normalize data #column12 onwards image\n",
    "len(data)\n",
    "data2 = np.array(data.values.reshape(20,20),dtype = \"float\")"
   ]
  },
  {
   "cell_type": "code",
   "execution_count": null,
   "id": "169d77a2",
   "metadata": {},
   "outputs": [],
   "source": [
    "plt.figure(figsize=(3,3))\n",
    "#plt.imshow(agency_or[0,12:].reshape(20,20)) \n",
    "plt.imshow(data2)\n",
    "plt.show()"
   ]
  },
  {
   "cell_type": "markdown",
   "id": "9511b294",
   "metadata": {},
   "source": [
    "#### Define fuctions to get only the mentioned ASCCI codes in the merged csv file to be used"
   ]
  },
  {
   "cell_type": "code",
   "execution_count": 1,
   "id": "20135ef1",
   "metadata": {},
   "outputs": [],
   "source": [
    "import pandas as pd\n",
    "import os\n",
    "import glob"
   ]
  },
  {
   "cell_type": "code",
   "execution_count": null,
   "id": "b91f4b33",
   "metadata": {},
   "outputs": [],
   "source": [
    "#selecting only numbers, points and commas\n",
    "def numbers_clean (font_file):\n",
    "    df = pd.read_csv(f'fonts/{font_file}')\n",
    "    symbol_list = [48,49,50,51,52,53,54,55,56,57,44,46]\n",
    "    df_numbers = df.loc[df['m_label'].isin(symbol_list)]\n",
    "    df_numbers.to_csv(f\"modified_data/mod_{font_file}\")\n",
    "    print(\"Done\") "
   ]
  },
  {
   "cell_type": "code",
   "execution_count": null,
   "id": "f6c416ca",
   "metadata": {},
   "outputs": [],
   "source": [
    "#list of csv files to be used\n",
    "def file_list(directory = \"Ironhack_Final_Project\"):\n",
    "    files = []\n",
    "    for filename in os.listdir(directory):\n",
    "        if filename.endswith(\".csv\"):\n",
    "            print (filename)\n",
    "            files.append(os.path.join(filename))\n",
    "            continue\n",
    "        else:\n",
    "            continue\n",
    "    return files"
   ]
  },
  {
   "cell_type": "code",
   "execution_count": null,
   "id": "5d82bc88",
   "metadata": {},
   "outputs": [],
   "source": [
    "path = \"\\Desktop\\Ironhack_Final_Project\""
   ]
  },
  {
   "cell_type": "code",
   "execution_count": null,
   "id": "3b8f2b2a",
   "metadata": {},
   "outputs": [],
   "source": [
    "all_files = glob.glob(os.path.join(\"*.csv\"))\n",
    "df_from_each_file = (pd.read_csv(f, sep=',') for f in all_files)\n",
    "df_merged = pd.concat(df_from_each_file, ignore_index=True)\n",
    "df_merged.to_csv( \"merged.csv\")"
   ]
  }
 ],
 "metadata": {
  "kernelspec": {
   "display_name": "clase",
   "language": "python",
   "name": "clase"
  },
  "language_info": {
   "codemirror_mode": {
    "name": "ipython",
    "version": 3
   },
   "file_extension": ".py",
   "mimetype": "text/x-python",
   "name": "python",
   "nbconvert_exporter": "python",
   "pygments_lexer": "ipython3",
   "version": "3.8.8"
  }
 },
 "nbformat": 4,
 "nbformat_minor": 5
}
